{
 "cells": [
  {
   "cell_type": "markdown",
   "id": "d18ac047-c21b-4bb9-9af1-5040c3ace042",
   "metadata": {},
   "source": [
    "---\n",
    "# 1) Resumo\n",
    "\n",
    "Neste notebook iremos fazer um seleção mais fina das variaveis explicativas da [base limpa](https://github.com/HenriqueCCdA/BC_DS_Projeto_Final/blob/10acc58f00f060385488c782c9ae2d2e6d404c08/Dados/Tratados/dados_tratados_por_paciente.csv). A base limpa foi criada através deste [Notebook](https://github.com/HenriqueCCdA/BC_DS_Projeto_Final/blob/10acc58f00f060385488c782c9ae2d2e6d404c08/Notebooks/Exploratorios/explaracao_limpezada.ipynb). \n",
    "\n",
    "Aqui será usada o **sklearn**. Primeira a colunas com correlação de acima de 0.9 serão retiradas igual (notebook anterior)[(https://github.com/HenriqueCCdA/BC_DS_Projeto_Final/blob/main/Notebooks/Selecao_variaveis/selecao_variaveis.ipynb)]. Após isso foi utlizado O recursive feature elimination (RFE) do **sklearn**\n",
    " \n",
    "O limite de correlação utilizado foi de **0.9**. Duas seleções de variaveis foram feitas, umas com 20 variaveis e outra com 30. O modelo usado para fazer foi a **LogisticRegression**.   "
   ]
  },
  {
   "cell_type": "markdown",
   "id": "7a722e05-fcd0-4e12-8454-9aa9d72877c1",
   "metadata": {},
   "source": [
    "---\n",
    "# 2) Pre-analise"
   ]
  },
  {
   "cell_type": "markdown",
   "id": "c2fbfb43-daf6-469d-916d-107f3d3bf0ab",
   "metadata": {},
   "source": [
    "## 2.1) Importando libs"
   ]
  },
  {
   "cell_type": "code",
   "execution_count": 1,
   "id": "dbab7327-c5b8-4511-9990-feca76a46dba",
   "metadata": {},
   "outputs": [],
   "source": [
    "import pandas as pd\n",
    "import seaborn as sns\n",
    "import numpy as np\n",
    "import matplotlib.pyplot as plt\n",
    "from sklearn.linear_model import LogisticRegression\n",
    "from sklearn.feature_selection import RFE\n",
    "#\n",
    "from numpy.random import MT19937\n",
    "from numpy.random import RandomState, SeedSequence\n",
    "#\n",
    "pd.set_option('display.max_rows', 50)"
   ]
  },
  {
   "cell_type": "markdown",
   "id": "b4e50e35-fdff-4930-a874-e879b1be3338",
   "metadata": {},
   "source": [
    "## 2.2) Minhas Funções"
   ]
  },
  {
   "cell_type": "code",
   "execution_count": 49,
   "id": "392c06d2-4e90-4131-8a6c-a043ea6c3019",
   "metadata": {},
   "outputs": [],
   "source": [
    "import sys\n",
    "sys.path.insert(1, \"../../\")\n",
    "from src.info import dimensao_dados, variaveis_explicativas, mostra_todas_as_colunas_com,escreve_somente_as_colunas\n",
    "from src.plota_graficos import plota_matriz_correlacao\n",
    "from src.ml import retorna_x_y, cv_val_split\n",
    "from src.selecao_vars import remove_corr_valor_de_corte"
   ]
  },
  {
   "cell_type": "markdown",
   "id": "bdf1194a-b7a7-4819-b678-ca86a2719982",
   "metadata": {},
   "source": [
    "---\n",
    "# 3) Selecionando os dados"
   ]
  },
  {
   "cell_type": "markdown",
   "id": "0e12baff-1d4f-4443-a8ad-91ae5bbf012b",
   "metadata": {},
   "source": [
    "## 3.1) Importando os dados"
   ]
  },
  {
   "cell_type": "code",
   "execution_count": 3,
   "id": "0afee5d0-4572-4e1b-afb6-d30fec1a781a",
   "metadata": {},
   "outputs": [
    {
     "data": {
      "text/html": [
       "<div>\n",
       "<style scoped>\n",
       "    .dataframe tbody tr th:only-of-type {\n",
       "        vertical-align: middle;\n",
       "    }\n",
       "\n",
       "    .dataframe tbody tr th {\n",
       "        vertical-align: top;\n",
       "    }\n",
       "\n",
       "    .dataframe thead th {\n",
       "        text-align: right;\n",
       "    }\n",
       "</style>\n",
       "<table border=\"1\" class=\"dataframe\">\n",
       "  <thead>\n",
       "    <tr style=\"text-align: right;\">\n",
       "      <th></th>\n",
       "      <th>AGE_ABOVE65</th>\n",
       "      <th>AGE_PERCENTIL</th>\n",
       "      <th>GENDER</th>\n",
       "      <th>DISEASE GROUPING 1</th>\n",
       "      <th>DISEASE GROUPING 2</th>\n",
       "      <th>DISEASE GROUPING 3</th>\n",
       "      <th>DISEASE GROUPING 4</th>\n",
       "      <th>DISEASE GROUPING 5</th>\n",
       "      <th>DISEASE GROUPING 6</th>\n",
       "      <th>HTN</th>\n",
       "      <th>...</th>\n",
       "      <th>BLOODPRESSURE_DIASTOLIC_DIFF</th>\n",
       "      <th>BLOODPRESSURE_SISTOLIC_DIFF</th>\n",
       "      <th>HEART_RATE_DIFF</th>\n",
       "      <th>RESPIRATORY_RATE_DIFF</th>\n",
       "      <th>TEMPERATURE_DIFF</th>\n",
       "      <th>BLOODPRESSURE_DIASTOLIC_DIFF_REL</th>\n",
       "      <th>BLOODPRESSURE_SISTOLIC_DIFF_REL</th>\n",
       "      <th>RESPIRATORY_RATE_DIFF_REL</th>\n",
       "      <th>TEMPERATURE_DIFF_REL</th>\n",
       "      <th>ICU</th>\n",
       "    </tr>\n",
       "  </thead>\n",
       "  <tbody>\n",
       "    <tr>\n",
       "      <th>0</th>\n",
       "      <td>1</td>\n",
       "      <td>0.111111</td>\n",
       "      <td>0</td>\n",
       "      <td>0.0</td>\n",
       "      <td>0.0</td>\n",
       "      <td>0.0</td>\n",
       "      <td>0.0</td>\n",
       "      <td>1.0</td>\n",
       "      <td>1.0</td>\n",
       "      <td>0.0</td>\n",
       "      <td>...</td>\n",
       "      <td>-1.000000</td>\n",
       "      <td>-1.000000</td>\n",
       "      <td>-1.000000</td>\n",
       "      <td>-1.000000</td>\n",
       "      <td>-1.000000</td>\n",
       "      <td>-1.000000</td>\n",
       "      <td>-1.000000</td>\n",
       "      <td>-1.000000</td>\n",
       "      <td>-1.000000</td>\n",
       "      <td>1</td>\n",
       "    </tr>\n",
       "    <tr>\n",
       "      <th>1</th>\n",
       "      <td>0</td>\n",
       "      <td>-1.000000</td>\n",
       "      <td>0</td>\n",
       "      <td>0.0</td>\n",
       "      <td>0.0</td>\n",
       "      <td>0.0</td>\n",
       "      <td>0.0</td>\n",
       "      <td>0.0</td>\n",
       "      <td>0.0</td>\n",
       "      <td>0.0</td>\n",
       "      <td>...</td>\n",
       "      <td>-0.547826</td>\n",
       "      <td>-0.533742</td>\n",
       "      <td>-0.603053</td>\n",
       "      <td>-0.764706</td>\n",
       "      <td>-1.000000</td>\n",
       "      <td>-0.515528</td>\n",
       "      <td>-0.351328</td>\n",
       "      <td>-0.756272</td>\n",
       "      <td>-1.000000</td>\n",
       "      <td>1</td>\n",
       "    </tr>\n",
       "    <tr>\n",
       "      <th>2</th>\n",
       "      <td>0</td>\n",
       "      <td>-0.333333</td>\n",
       "      <td>1</td>\n",
       "      <td>0.0</td>\n",
       "      <td>0.0</td>\n",
       "      <td>0.0</td>\n",
       "      <td>0.0</td>\n",
       "      <td>0.0</td>\n",
       "      <td>0.0</td>\n",
       "      <td>0.0</td>\n",
       "      <td>...</td>\n",
       "      <td>-1.000000</td>\n",
       "      <td>-1.000000</td>\n",
       "      <td>-1.000000</td>\n",
       "      <td>-1.000000</td>\n",
       "      <td>-1.000000</td>\n",
       "      <td>-1.000000</td>\n",
       "      <td>-1.000000</td>\n",
       "      <td>-1.000000</td>\n",
       "      <td>-1.000000</td>\n",
       "      <td>0</td>\n",
       "    </tr>\n",
       "    <tr>\n",
       "      <th>3</th>\n",
       "      <td>0</td>\n",
       "      <td>-1.000000</td>\n",
       "      <td>0</td>\n",
       "      <td>0.0</td>\n",
       "      <td>0.0</td>\n",
       "      <td>0.0</td>\n",
       "      <td>0.0</td>\n",
       "      <td>0.0</td>\n",
       "      <td>0.0</td>\n",
       "      <td>0.0</td>\n",
       "      <td>...</td>\n",
       "      <td>-1.000000</td>\n",
       "      <td>-0.877301</td>\n",
       "      <td>-0.923664</td>\n",
       "      <td>-0.882353</td>\n",
       "      <td>-0.952381</td>\n",
       "      <td>-1.000000</td>\n",
       "      <td>-0.883669</td>\n",
       "      <td>-0.870968</td>\n",
       "      <td>-0.953536</td>\n",
       "      <td>0</td>\n",
       "    </tr>\n",
       "    <tr>\n",
       "      <th>4</th>\n",
       "      <td>0</td>\n",
       "      <td>-1.000000</td>\n",
       "      <td>0</td>\n",
       "      <td>0.0</td>\n",
       "      <td>0.0</td>\n",
       "      <td>0.0</td>\n",
       "      <td>0.0</td>\n",
       "      <td>0.0</td>\n",
       "      <td>0.0</td>\n",
       "      <td>0.0</td>\n",
       "      <td>...</td>\n",
       "      <td>-0.826087</td>\n",
       "      <td>-0.754601</td>\n",
       "      <td>-0.984733</td>\n",
       "      <td>-1.000000</td>\n",
       "      <td>-0.976190</td>\n",
       "      <td>-0.860870</td>\n",
       "      <td>-0.714460</td>\n",
       "      <td>-1.000000</td>\n",
       "      <td>-0.975891</td>\n",
       "      <td>0</td>\n",
       "    </tr>\n",
       "  </tbody>\n",
       "</table>\n",
       "<p>5 rows × 121 columns</p>\n",
       "</div>"
      ],
      "text/plain": [
       "   AGE_ABOVE65  AGE_PERCENTIL  GENDER  DISEASE GROUPING 1  DISEASE GROUPING 2  \\\n",
       "0            1       0.111111       0                 0.0                 0.0   \n",
       "1            0      -1.000000       0                 0.0                 0.0   \n",
       "2            0      -0.333333       1                 0.0                 0.0   \n",
       "3            0      -1.000000       0                 0.0                 0.0   \n",
       "4            0      -1.000000       0                 0.0                 0.0   \n",
       "\n",
       "   DISEASE GROUPING 3  DISEASE GROUPING 4  DISEASE GROUPING 5  \\\n",
       "0                 0.0                 0.0                 1.0   \n",
       "1                 0.0                 0.0                 0.0   \n",
       "2                 0.0                 0.0                 0.0   \n",
       "3                 0.0                 0.0                 0.0   \n",
       "4                 0.0                 0.0                 0.0   \n",
       "\n",
       "   DISEASE GROUPING 6  HTN  ...  BLOODPRESSURE_DIASTOLIC_DIFF  \\\n",
       "0                 1.0  0.0  ...                     -1.000000   \n",
       "1                 0.0  0.0  ...                     -0.547826   \n",
       "2                 0.0  0.0  ...                     -1.000000   \n",
       "3                 0.0  0.0  ...                     -1.000000   \n",
       "4                 0.0  0.0  ...                     -0.826087   \n",
       "\n",
       "   BLOODPRESSURE_SISTOLIC_DIFF  HEART_RATE_DIFF  RESPIRATORY_RATE_DIFF  \\\n",
       "0                    -1.000000        -1.000000              -1.000000   \n",
       "1                    -0.533742        -0.603053              -0.764706   \n",
       "2                    -1.000000        -1.000000              -1.000000   \n",
       "3                    -0.877301        -0.923664              -0.882353   \n",
       "4                    -0.754601        -0.984733              -1.000000   \n",
       "\n",
       "   TEMPERATURE_DIFF  BLOODPRESSURE_DIASTOLIC_DIFF_REL  \\\n",
       "0         -1.000000                         -1.000000   \n",
       "1         -1.000000                         -0.515528   \n",
       "2         -1.000000                         -1.000000   \n",
       "3         -0.952381                         -1.000000   \n",
       "4         -0.976190                         -0.860870   \n",
       "\n",
       "   BLOODPRESSURE_SISTOLIC_DIFF_REL  RESPIRATORY_RATE_DIFF_REL  \\\n",
       "0                        -1.000000                  -1.000000   \n",
       "1                        -0.351328                  -0.756272   \n",
       "2                        -1.000000                  -1.000000   \n",
       "3                        -0.883669                  -0.870968   \n",
       "4                        -0.714460                  -1.000000   \n",
       "\n",
       "   TEMPERATURE_DIFF_REL  ICU  \n",
       "0             -1.000000    1  \n",
       "1             -1.000000    1  \n",
       "2             -1.000000    0  \n",
       "3             -0.953536    0  \n",
       "4             -0.975891    0  \n",
       "\n",
       "[5 rows x 121 columns]"
      ]
     },
     "execution_count": 3,
     "metadata": {},
     "output_type": "execute_result"
    }
   ],
   "source": [
    "path = \"https://raw.githubusercontent.com/HenriqueCCdA/BC_DS_Projeto_Final/main/Dados/Tratados/dados_tratados_por_paciente.csv\"\n",
    "path = \"../../Dados/Tratados/dados_tratados_por_paciente.csv\"\n",
    "dados = pd.read_csv(path)\n",
    "dados.head(n=5)"
   ]
  },
  {
   "cell_type": "markdown",
   "id": "92ffff89-35da-4ab2-a5b7-7f8e3c3a8e40",
   "metadata": {},
   "source": [
    "## 3.2) Analizando os dados"
   ]
  },
  {
   "cell_type": "markdown",
   "id": "e0f03c09-1edc-4905-9003-750647a99a03",
   "metadata": {},
   "source": [
    "### Dimensação da matriz atual"
   ]
  },
  {
   "cell_type": "code",
   "execution_count": 4,
   "id": "9b0cd004-fe4e-46cb-96f4-9af437514540",
   "metadata": {},
   "outputs": [
    {
     "name": "stdout",
     "output_type": "stream",
     "text": [
      "Numero de linhas : 351 \n",
      "Numero de colunas: 121 \n"
     ]
    }
   ],
   "source": [
    "dimensao_dados(dados)"
   ]
  },
  {
   "cell_type": "markdown",
   "id": "debb1625-ca4e-47c9-b77d-61753e0c9fc7",
   "metadata": {},
   "source": [
    "### Possiveis variaveis explicativas da base de dados"
   ]
  },
  {
   "cell_type": "code",
   "execution_count": 5,
   "id": "ee87c7fd-bd61-455e-bef6-0bb3ab236f88",
   "metadata": {},
   "outputs": [
    {
     "name": "stdout",
     "output_type": "stream",
     "text": [
      " col[  0] -> AGE_ABOVE65                         col[  1] -> AGE_PERCENTIL                       \n",
      " col[  2] -> GENDER                              col[  3] -> DISEASE GROUPING 1                  \n",
      " col[  4] -> DISEASE GROUPING 2                  col[  5] -> DISEASE GROUPING 3                  \n",
      " col[  6] -> DISEASE GROUPING 4                  col[  7] -> DISEASE GROUPING 5                  \n",
      " col[  8] -> DISEASE GROUPING 6                  col[  9] -> HTN                                 \n",
      " col[ 10] -> IMMUNOCOMPROMISED                   col[ 11] -> OTHER                               \n",
      " col[ 12] -> ALBUMIN_MEDIAN                      col[ 13] -> ALBUMIN_MEAN                        \n",
      " col[ 14] -> ALBUMIN_MIN                         col[ 15] -> ALBUMIN_MAX                         \n",
      " col[ 16] -> BE_VENOUS_MEDIAN                    col[ 17] -> BE_VENOUS_MEAN                      \n",
      " col[ 18] -> BE_VENOUS_MIN                       col[ 19] -> BE_VENOUS_MAX                       \n",
      " col[ 20] -> BLAST_MEDIAN                        col[ 21] -> BLAST_MEAN                          \n",
      " col[ 22] -> BLAST_MIN                           col[ 23] -> BLAST_MAX                           \n",
      " col[ 24] -> FFA_MEDIAN                          col[ 25] -> FFA_MEAN                            \n",
      " col[ 26] -> FFA_MIN                             col[ 27] -> FFA_MAX                             \n",
      " col[ 28] -> GGT_MEDIAN                          col[ 29] -> GGT_MEAN                            \n",
      " col[ 30] -> GGT_MIN                             col[ 31] -> GGT_MAX                             \n",
      " col[ 32] -> HEMATOCRITE_MEDIAN                  col[ 33] -> HEMATOCRITE_MEAN                    \n",
      " col[ 34] -> HEMATOCRITE_MIN                     col[ 35] -> HEMATOCRITE_MAX                     \n",
      " col[ 36] -> HEMOGLOBIN_MEDIAN                   col[ 37] -> HEMOGLOBIN_MEAN                     \n",
      " col[ 38] -> HEMOGLOBIN_MIN                      col[ 39] -> HEMOGLOBIN_MAX                      \n",
      " col[ 40] -> LACTATE_MEDIAN                      col[ 41] -> LACTATE_MEAN                        \n",
      " col[ 42] -> LACTATE_MIN                         col[ 43] -> LACTATE_MAX                         \n",
      " col[ 44] -> LEUKOCYTES_MEDIAN                   col[ 45] -> LEUKOCYTES_MEAN                     \n",
      " col[ 46] -> LEUKOCYTES_MIN                      col[ 47] -> LEUKOCYTES_MAX                      \n",
      " col[ 48] -> LINFOCITOS_MEDIAN                   col[ 49] -> LINFOCITOS_MEAN                     \n",
      " col[ 50] -> LINFOCITOS_MIN                      col[ 51] -> LINFOCITOS_MAX                      \n",
      " col[ 52] -> NEUTROPHILES_MEDIAN                 col[ 53] -> NEUTROPHILES_MEAN                   \n",
      " col[ 54] -> NEUTROPHILES_MIN                    col[ 55] -> NEUTROPHILES_MAX                    \n",
      " col[ 56] -> P02_VENOUS_MEDIAN                   col[ 57] -> P02_VENOUS_MEAN                     \n",
      " col[ 58] -> P02_VENOUS_MIN                      col[ 59] -> P02_VENOUS_MAX                      \n",
      " col[ 60] -> PCR_MEDIAN                          col[ 61] -> PCR_MEAN                            \n",
      " col[ 62] -> PCR_MIN                             col[ 63] -> PCR_MAX                             \n",
      " col[ 64] -> PLATELETS_MEDIAN                    col[ 65] -> PLATELETS_MEAN                      \n",
      " col[ 66] -> PLATELETS_MIN                       col[ 67] -> PLATELETS_MAX                       \n",
      " col[ 68] -> POTASSIUM_MEDIAN                    col[ 69] -> POTASSIUM_MEAN                      \n",
      " col[ 70] -> POTASSIUM_MIN                       col[ 71] -> POTASSIUM_MAX                       \n",
      " col[ 72] -> SAT02_ARTERIAL_MEDIAN               col[ 73] -> SAT02_ARTERIAL_MEAN                 \n",
      " col[ 74] -> SAT02_ARTERIAL_MIN                  col[ 75] -> SAT02_ARTERIAL_MAX                  \n",
      " col[ 76] -> SAT02_VENOUS_MEDIAN                 col[ 77] -> SAT02_VENOUS_MEAN                   \n",
      " col[ 78] -> SAT02_VENOUS_MIN                    col[ 79] -> SAT02_VENOUS_MAX                    \n",
      " col[ 80] -> SODIUM_MEDIAN                       col[ 81] -> SODIUM_MEAN                         \n",
      " col[ 82] -> SODIUM_MIN                          col[ 83] -> SODIUM_MAX                          \n",
      " col[ 84] -> UREA_MEDIAN                         col[ 85] -> UREA_MEAN                           \n",
      " col[ 86] -> UREA_MIN                            col[ 87] -> UREA_MAX                            \n",
      " col[ 88] -> BLOODPRESSURE_DIASTOLIC_MEAN        col[ 89] -> BLOODPRESSURE_SISTOLIC_MEAN         \n",
      " col[ 90] -> HEART_RATE_MEAN                     col[ 91] -> RESPIRATORY_RATE_MEAN               \n",
      " col[ 92] -> TEMPERATURE_MEAN                    col[ 93] -> OXYGEN_SATURATION_MEAN              \n",
      " col[ 94] -> BLOODPRESSURE_DIASTOLIC_MEDIAN      col[ 95] -> BLOODPRESSURE_SISTOLIC_MEDIAN       \n",
      " col[ 96] -> HEART_RATE_MEDIAN                   col[ 97] -> RESPIRATORY_RATE_MEDIAN             \n",
      " col[ 98] -> TEMPERATURE_MEDIAN                  col[ 99] -> OXYGEN_SATURATION_MEDIAN            \n",
      " col[100] -> BLOODPRESSURE_DIASTOLIC_MIN         col[101] -> BLOODPRESSURE_SISTOLIC_MIN          \n",
      " col[102] -> HEART_RATE_MIN                      col[103] -> RESPIRATORY_RATE_MIN                \n",
      " col[104] -> TEMPERATURE_MIN                     col[105] -> BLOODPRESSURE_DIASTOLIC_MAX         \n",
      " col[106] -> BLOODPRESSURE_SISTOLIC_MAX          col[107] -> HEART_RATE_MAX                      \n",
      " col[108] -> RESPIRATORY_RATE_MAX                col[109] -> TEMPERATURE_MAX                     \n",
      " col[110] -> OXYGEN_SATURATION_MAX               col[111] -> BLOODPRESSURE_DIASTOLIC_DIFF        \n",
      " col[112] -> BLOODPRESSURE_SISTOLIC_DIFF         col[113] -> HEART_RATE_DIFF                     \n",
      " col[114] -> RESPIRATORY_RATE_DIFF               col[115] -> TEMPERATURE_DIFF                    \n",
      " col[116] -> BLOODPRESSURE_DIASTOLIC_DIFF_REL    col[117] -> BLOODPRESSURE_SISTOLIC_DIFF_REL     \n",
      " col[118] -> RESPIRATORY_RATE_DIFF_REL           col[119] -> TEMPERATURE_DIFF_REL                \n",
      " "
     ]
    }
   ],
   "source": [
    "_ = variaveis_explicativas(dados)"
   ]
  },
  {
   "cell_type": "markdown",
   "id": "75a40e99-27cb-4283-8d28-80d1d8f509e6",
   "metadata": {},
   "source": [
    "## 3.3)  Matriz de Correlação"
   ]
  },
  {
   "cell_type": "markdown",
   "id": "bda55d4f-b314-4479-b39a-ee088412e67e",
   "metadata": {},
   "source": [
    "### Matriz de correlação com correlações sem tratamento"
   ]
  },
  {
   "cell_type": "code",
   "execution_count": 6,
   "id": "29b797ca-6811-4f58-85e7-00fec81f0d03",
   "metadata": {},
   "outputs": [
    {
     "data": {
      "image/png": "[encoded data removed]",
      "text/plain": [
       "<Figure size 864x576 with 2 Axes>"
      ]
     },
     "metadata": {
      "needs_background": "light"
     },
     "output_type": "display_data"
    }
   ],
   "source": [
    "plota_matriz_correlacao(dados, matriz='upper')"
   ]
  },
  {
   "cell_type": "markdown",
   "id": "17e91d90-735e-4b32-a9b4-d3d83954e04b",
   "metadata": {},
   "source": [
    "> **Fig 3.1)** Heatmap das correlações dos dados limpos originais. A cor **azul** são valores entre **[0.9 e 1.0]**. A cor **cinza** são valores entre **[0.1 e 0.8]**. A cor verde são valores entre **[0 e 0.1]**.."
   ]
  },
  {
   "cell_type": "markdown",
   "id": "7c875bbd-f281-45a2-a39f-1efd9201919c",
   "metadata": {},
   "source": [
    "### Selecionando as variaveis explicativas com RFE\n",
    "\n",
    "**Eu estou chamando o cv_val_split aqui para evitar data leakage no dataset train-test. Esta solução aqui não é melhor é precisa ser repensada!**\n",
    "\n",
    "> Qual é o problema ? Eu divi a base de dados em duas, cross validadation (CV) e validadação, caso eu use a base toda aqui para selecionar as variaveis eu estaria usando informações do dataset de validação. Para contornar eu problema eu estou divindido a base é usando apenas as informação do dataset CV para selecionar os dados. Uma solução mais elegante seria botar o RFE dentro do pipeline.\n"
   ]
  },
  {
   "cell_type": "code",
   "execution_count": 7,
   "id": "6c4eb515-995a-4818-8287-017941a9429a",
   "metadata": {},
   "outputs": [],
   "source": [
    "seed     = 1471523\n",
    "rng = RandomState(MT19937(SeedSequence(seed)))"
   ]
  },
  {
   "cell_type": "code",
   "execution_count": 39,
   "id": "a7c1b6dd-97d0-4978-9711-743ebd9ca89f",
   "metadata": {},
   "outputs": [],
   "source": [
    "def selecao_pelo_RFE(modelo, dados, p_val=0.1, n_features_to_select=60, rng=None):\n",
    "\n",
    "    x_cv, _, y_cv, _ = cv_val_split(dados, p_val=p_val, rng=rng)\n",
    "    \n",
    "    rfe = RFE(modelo, n_features_to_select=n_features_to_select)\n",
    "\n",
    "    selec = rfe.fit(x_cv, y_cv)\n",
    "\n",
    "    # Mostrando o número de features:\n",
    "    print(f'Número de features: {selec.n_features_}')  \n",
    "\n",
    "    cols = selec.get_support(indices=True)\n",
    "    dados_rfe = dados.iloc[:,cols]\n",
    "    return  pd.concat([ dados_rfe, dados.loc[:,'ICU']], axis=1)"
   ]
  },
  {
   "cell_type": "code",
   "execution_count": 71,
   "id": "549dbe0e-e5aa-4717-af05-b074e583a102",
   "metadata": {},
   "outputs": [
    {
     "name": "stdout",
     "output_type": "stream",
     "text": [
      "Número de features: 30\n",
      "Número de features: 20\n",
      "Número de features: 10\n"
     ]
    }
   ],
   "source": [
    "modelo = LogisticRegression(max_iter=2000)\n",
    "#modelo = GradientBoostingClassifier()\n",
    "\n",
    "dados_rfe30 = selecao_pelo_RFE(modelo=modelo, dados=dados, p_val=0.1, n_features_to_select=30, rng=rng) \n",
    "dados_rfe20 = selecao_pelo_RFE(modelo=modelo, dados=dados, p_val=0.1, n_features_to_select=20, rng=rng) "
   ]
  },
  {
   "cell_type": "code",
   "execution_count": 72,
   "id": "72964a3d-a61e-459c-9556-85c56aad402e",
   "metadata": {},
   "outputs": [
    {
     "data": {
      "text/html": [
       "<div>\n",
       "<style scoped>\n",
       "    .dataframe tbody tr th:only-of-type {\n",
       "        vertical-align: middle;\n",
       "    }\n",
       "\n",
       "    .dataframe tbody tr th {\n",
       "        vertical-align: top;\n",
       "    }\n",
       "\n",
       "    .dataframe thead th {\n",
       "        text-align: right;\n",
       "    }\n",
       "</style>\n",
       "<table border=\"1\" class=\"dataframe\">\n",
       "  <thead>\n",
       "    <tr style=\"text-align: right;\">\n",
       "      <th></th>\n",
       "      <th>AGE_PERCENTIL</th>\n",
       "      <th>BE_VENOUS_MEDIAN</th>\n",
       "      <th>GGT_MEDIAN</th>\n",
       "      <th>HEMATOCRITE_MEAN</th>\n",
       "      <th>HEMOGLOBIN_MEAN</th>\n",
       "      <th>HEMOGLOBIN_MIN</th>\n",
       "      <th>LACTATE_MAX</th>\n",
       "      <th>LEUKOCYTES_MIN</th>\n",
       "      <th>LINFOCITOS_MEAN</th>\n",
       "      <th>LINFOCITOS_MIN</th>\n",
       "      <th>...</th>\n",
       "      <th>BLOODPRESSURE_DIASTOLIC_MEDIAN</th>\n",
       "      <th>RESPIRATORY_RATE_MEDIAN</th>\n",
       "      <th>BLOODPRESSURE_DIASTOLIC_MIN</th>\n",
       "      <th>RESPIRATORY_RATE_MIN</th>\n",
       "      <th>TEMPERATURE_MIN</th>\n",
       "      <th>BLOODPRESSURE_DIASTOLIC_MAX</th>\n",
       "      <th>HEART_RATE_MAX</th>\n",
       "      <th>RESPIRATORY_RATE_MAX</th>\n",
       "      <th>TEMPERATURE_MAX</th>\n",
       "      <th>ICU</th>\n",
       "    </tr>\n",
       "  </thead>\n",
       "  <tbody>\n",
       "    <tr>\n",
       "      <th>0</th>\n",
       "      <td>0.111111</td>\n",
       "      <td>-1.000000</td>\n",
       "      <td>-0.945093</td>\n",
       "      <td>0.090147</td>\n",
       "      <td>0.109756</td>\n",
       "      <td>0.109756</td>\n",
       "      <td>1.000000</td>\n",
       "      <td>-0.835844</td>\n",
       "      <td>-0.914938</td>\n",
       "      <td>-0.914938</td>\n",
       "      <td>...</td>\n",
       "      <td>0.086420</td>\n",
       "      <td>-0.586207</td>\n",
       "      <td>0.237113</td>\n",
       "      <td>-0.500000</td>\n",
       "      <td>0.208791</td>\n",
       "      <td>-0.247863</td>\n",
       "      <td>-0.432836</td>\n",
       "      <td>-0.636364</td>\n",
       "      <td>-0.420290</td>\n",
       "      <td>1</td>\n",
       "    </tr>\n",
       "    <tr>\n",
       "      <th>1</th>\n",
       "      <td>-1.000000</td>\n",
       "      <td>-1.000000</td>\n",
       "      <td>-0.958528</td>\n",
       "      <td>0.144654</td>\n",
       "      <td>0.158537</td>\n",
       "      <td>0.158537</td>\n",
       "      <td>1.000000</td>\n",
       "      <td>-0.382773</td>\n",
       "      <td>-0.908714</td>\n",
       "      <td>-0.908714</td>\n",
       "      <td>...</td>\n",
       "      <td>-0.506173</td>\n",
       "      <td>-0.517241</td>\n",
       "      <td>-0.525773</td>\n",
       "      <td>-0.714286</td>\n",
       "      <td>0.604396</td>\n",
       "      <td>-0.435897</td>\n",
       "      <td>0.000000</td>\n",
       "      <td>-0.575758</td>\n",
       "      <td>0.101449</td>\n",
       "      <td>1</td>\n",
       "    </tr>\n",
       "    <tr>\n",
       "      <th>2</th>\n",
       "      <td>-0.333333</td>\n",
       "      <td>-1.000000</td>\n",
       "      <td>-0.316589</td>\n",
       "      <td>-0.203354</td>\n",
       "      <td>-0.219512</td>\n",
       "      <td>-0.219512</td>\n",
       "      <td>-0.828421</td>\n",
       "      <td>-0.729239</td>\n",
       "      <td>-0.836100</td>\n",
       "      <td>-0.836100</td>\n",
       "      <td>...</td>\n",
       "      <td>0.012346</td>\n",
       "      <td>-0.448276</td>\n",
       "      <td>0.175258</td>\n",
       "      <td>-0.357143</td>\n",
       "      <td>0.208791</td>\n",
       "      <td>-0.299145</td>\n",
       "      <td>-0.626866</td>\n",
       "      <td>-0.515152</td>\n",
       "      <td>-0.420290</td>\n",
       "      <td>0</td>\n",
       "    </tr>\n",
       "    <tr>\n",
       "      <th>3</th>\n",
       "      <td>-1.000000</td>\n",
       "      <td>-1.000000</td>\n",
       "      <td>-0.938084</td>\n",
       "      <td>0.358491</td>\n",
       "      <td>0.304878</td>\n",
       "      <td>0.304878</td>\n",
       "      <td>1.000000</td>\n",
       "      <td>-0.702202</td>\n",
       "      <td>-0.641079</td>\n",
       "      <td>-0.641079</td>\n",
       "      <td>...</td>\n",
       "      <td>0.333333</td>\n",
       "      <td>-0.586207</td>\n",
       "      <td>0.443299</td>\n",
       "      <td>-0.571429</td>\n",
       "      <td>0.538462</td>\n",
       "      <td>-0.076923</td>\n",
       "      <td>-0.044776</td>\n",
       "      <td>-0.575758</td>\n",
       "      <td>0.072464</td>\n",
       "      <td>0</td>\n",
       "    </tr>\n",
       "    <tr>\n",
       "      <th>4</th>\n",
       "      <td>-1.000000</td>\n",
       "      <td>-1.000000</td>\n",
       "      <td>-0.958528</td>\n",
       "      <td>0.291405</td>\n",
       "      <td>0.243902</td>\n",
       "      <td>0.243902</td>\n",
       "      <td>1.000000</td>\n",
       "      <td>-0.706450</td>\n",
       "      <td>-0.340249</td>\n",
       "      <td>-0.340249</td>\n",
       "      <td>...</td>\n",
       "      <td>-0.037037</td>\n",
       "      <td>-0.517241</td>\n",
       "      <td>0.030928</td>\n",
       "      <td>-0.428571</td>\n",
       "      <td>0.252747</td>\n",
       "      <td>-0.247863</td>\n",
       "      <td>-0.626866</td>\n",
       "      <td>-0.575758</td>\n",
       "      <td>-0.333333</td>\n",
       "      <td>0</td>\n",
       "    </tr>\n",
       "    <tr>\n",
       "      <th>...</th>\n",
       "      <td>...</td>\n",
       "      <td>...</td>\n",
       "      <td>...</td>\n",
       "      <td>...</td>\n",
       "      <td>...</td>\n",
       "      <td>...</td>\n",
       "      <td>...</td>\n",
       "      <td>...</td>\n",
       "      <td>...</td>\n",
       "      <td>...</td>\n",
       "      <td>...</td>\n",
       "      <td>...</td>\n",
       "      <td>...</td>\n",
       "      <td>...</td>\n",
       "      <td>...</td>\n",
       "      <td>...</td>\n",
       "      <td>...</td>\n",
       "      <td>...</td>\n",
       "      <td>...</td>\n",
       "      <td>...</td>\n",
       "      <td>...</td>\n",
       "    </tr>\n",
       "    <tr>\n",
       "      <th>346</th>\n",
       "      <td>-0.333333</td>\n",
       "      <td>-1.000000</td>\n",
       "      <td>-0.147196</td>\n",
       "      <td>-0.253669</td>\n",
       "      <td>-0.195122</td>\n",
       "      <td>-0.195122</td>\n",
       "      <td>1.000000</td>\n",
       "      <td>-0.704519</td>\n",
       "      <td>-0.879668</td>\n",
       "      <td>-0.879668</td>\n",
       "      <td>...</td>\n",
       "      <td>-0.160494</td>\n",
       "      <td>-0.448276</td>\n",
       "      <td>0.030928</td>\n",
       "      <td>-0.357143</td>\n",
       "      <td>0.472527</td>\n",
       "      <td>-0.418803</td>\n",
       "      <td>0.059701</td>\n",
       "      <td>-0.515152</td>\n",
       "      <td>-0.072464</td>\n",
       "      <td>1</td>\n",
       "    </tr>\n",
       "    <tr>\n",
       "      <th>347</th>\n",
       "      <td>1.000000</td>\n",
       "      <td>-1.000000</td>\n",
       "      <td>-0.958528</td>\n",
       "      <td>-0.241090</td>\n",
       "      <td>-0.292683</td>\n",
       "      <td>-0.292683</td>\n",
       "      <td>1.000000</td>\n",
       "      <td>-0.794129</td>\n",
       "      <td>-0.921162</td>\n",
       "      <td>-0.921162</td>\n",
       "      <td>...</td>\n",
       "      <td>-0.407407</td>\n",
       "      <td>-0.448276</td>\n",
       "      <td>-0.175258</td>\n",
       "      <td>-0.357143</td>\n",
       "      <td>0.230769</td>\n",
       "      <td>-0.589744</td>\n",
       "      <td>-0.432836</td>\n",
       "      <td>-0.515152</td>\n",
       "      <td>0.072464</td>\n",
       "      <td>0</td>\n",
       "    </tr>\n",
       "    <tr>\n",
       "      <th>348</th>\n",
       "      <td>-0.111111</td>\n",
       "      <td>-1.000000</td>\n",
       "      <td>-0.958528</td>\n",
       "      <td>0.064990</td>\n",
       "      <td>0.048780</td>\n",
       "      <td>0.048780</td>\n",
       "      <td>1.000000</td>\n",
       "      <td>-0.718038</td>\n",
       "      <td>-0.838174</td>\n",
       "      <td>-0.838174</td>\n",
       "      <td>...</td>\n",
       "      <td>0.012346</td>\n",
       "      <td>-0.448276</td>\n",
       "      <td>0.175258</td>\n",
       "      <td>-0.357143</td>\n",
       "      <td>0.340659</td>\n",
       "      <td>-0.299145</td>\n",
       "      <td>-0.462687</td>\n",
       "      <td>-0.515152</td>\n",
       "      <td>-0.246377</td>\n",
       "      <td>1</td>\n",
       "    </tr>\n",
       "    <tr>\n",
       "      <th>349</th>\n",
       "      <td>-0.333333</td>\n",
       "      <td>-1.000000</td>\n",
       "      <td>-0.958528</td>\n",
       "      <td>-0.069182</td>\n",
       "      <td>-0.085366</td>\n",
       "      <td>-0.085366</td>\n",
       "      <td>1.000000</td>\n",
       "      <td>-0.877559</td>\n",
       "      <td>-0.819502</td>\n",
       "      <td>-0.819502</td>\n",
       "      <td>...</td>\n",
       "      <td>0.086420</td>\n",
       "      <td>-0.655172</td>\n",
       "      <td>0.237113</td>\n",
       "      <td>-0.571429</td>\n",
       "      <td>0.318681</td>\n",
       "      <td>-0.247863</td>\n",
       "      <td>-0.447761</td>\n",
       "      <td>-0.696970</td>\n",
       "      <td>-0.275362</td>\n",
       "      <td>0</td>\n",
       "    </tr>\n",
       "    <tr>\n",
       "      <th>350</th>\n",
       "      <td>-0.111111</td>\n",
       "      <td>-0.717277</td>\n",
       "      <td>-0.960280</td>\n",
       "      <td>-0.064990</td>\n",
       "      <td>-0.158537</td>\n",
       "      <td>-0.158537</td>\n",
       "      <td>-0.897773</td>\n",
       "      <td>-0.848590</td>\n",
       "      <td>-0.686722</td>\n",
       "      <td>-0.686722</td>\n",
       "      <td>...</td>\n",
       "      <td>0.012346</td>\n",
       "      <td>-0.517241</td>\n",
       "      <td>0.175258</td>\n",
       "      <td>-0.428571</td>\n",
       "      <td>0.714286</td>\n",
       "      <td>-0.299145</td>\n",
       "      <td>-0.164179</td>\n",
       "      <td>-0.575758</td>\n",
       "      <td>0.246377</td>\n",
       "      <td>0</td>\n",
       "    </tr>\n",
       "  </tbody>\n",
       "</table>\n",
       "<p>351 rows × 31 columns</p>\n",
       "</div>"
      ],
      "text/plain": [
       "     AGE_PERCENTIL  BE_VENOUS_MEDIAN  GGT_MEDIAN  HEMATOCRITE_MEAN  \\\n",
       "0         0.111111         -1.000000   -0.945093          0.090147   \n",
       "1        -1.000000         -1.000000   -0.958528          0.144654   \n",
       "2        -0.333333         -1.000000   -0.316589         -0.203354   \n",
       "3        -1.000000         -1.000000   -0.938084          0.358491   \n",
       "4        -1.000000         -1.000000   -0.958528          0.291405   \n",
       "..             ...               ...         ...               ...   \n",
       "346      -0.333333         -1.000000   -0.147196         -0.253669   \n",
       "347       1.000000         -1.000000   -0.958528         -0.241090   \n",
       "348      -0.111111         -1.000000   -0.958528          0.064990   \n",
       "349      -0.333333         -1.000000   -0.958528         -0.069182   \n",
       "350      -0.111111         -0.717277   -0.960280         -0.064990   \n",
       "\n",
       "     HEMOGLOBIN_MEAN  HEMOGLOBIN_MIN  LACTATE_MAX  LEUKOCYTES_MIN  \\\n",
       "0           0.109756        0.109756     1.000000       -0.835844   \n",
       "1           0.158537        0.158537     1.000000       -0.382773   \n",
       "2          -0.219512       -0.219512    -0.828421       -0.729239   \n",
       "3           0.304878        0.304878     1.000000       -0.702202   \n",
       "4           0.243902        0.243902     1.000000       -0.706450   \n",
       "..               ...             ...          ...             ...   \n",
       "346        -0.195122       -0.195122     1.000000       -0.704519   \n",
       "347        -0.292683       -0.292683     1.000000       -0.794129   \n",
       "348         0.048780        0.048780     1.000000       -0.718038   \n",
       "349        -0.085366       -0.085366     1.000000       -0.877559   \n",
       "350        -0.158537       -0.158537    -0.897773       -0.848590   \n",
       "\n",
       "     LINFOCITOS_MEAN  LINFOCITOS_MIN  ...  BLOODPRESSURE_DIASTOLIC_MEDIAN  \\\n",
       "0          -0.914938       -0.914938  ...                        0.086420   \n",
       "1          -0.908714       -0.908714  ...                       -0.506173   \n",
       "2          -0.836100       -0.836100  ...                        0.012346   \n",
       "3          -0.641079       -0.641079  ...                        0.333333   \n",
       "4          -0.340249       -0.340249  ...                       -0.037037   \n",
       "..               ...             ...  ...                             ...   \n",
       "346        -0.879668       -0.879668  ...                       -0.160494   \n",
       "347        -0.921162       -0.921162  ...                       -0.407407   \n",
       "348        -0.838174       -0.838174  ...                        0.012346   \n",
       "349        -0.819502       -0.819502  ...                        0.086420   \n",
       "350        -0.686722       -0.686722  ...                        0.012346   \n",
       "\n",
       "     RESPIRATORY_RATE_MEDIAN  BLOODPRESSURE_DIASTOLIC_MIN  \\\n",
       "0                  -0.586207                     0.237113   \n",
       "1                  -0.517241                    -0.525773   \n",
       "2                  -0.448276                     0.175258   \n",
       "3                  -0.586207                     0.443299   \n",
       "4                  -0.517241                     0.030928   \n",
       "..                       ...                          ...   \n",
       "346                -0.448276                     0.030928   \n",
       "347                -0.448276                    -0.175258   \n",
       "348                -0.448276                     0.175258   \n",
       "349                -0.655172                     0.237113   \n",
       "350                -0.517241                     0.175258   \n",
       "\n",
       "     RESPIRATORY_RATE_MIN  TEMPERATURE_MIN  BLOODPRESSURE_DIASTOLIC_MAX  \\\n",
       "0               -0.500000         0.208791                    -0.247863   \n",
       "1               -0.714286         0.604396                    -0.435897   \n",
       "2               -0.357143         0.208791                    -0.299145   \n",
       "3               -0.571429         0.538462                    -0.076923   \n",
       "4               -0.428571         0.252747                    -0.247863   \n",
       "..                    ...              ...                          ...   \n",
       "346             -0.357143         0.472527                    -0.418803   \n",
       "347             -0.357143         0.230769                    -0.589744   \n",
       "348             -0.357143         0.340659                    -0.299145   \n",
       "349             -0.571429         0.318681                    -0.247863   \n",
       "350             -0.428571         0.714286                    -0.299145   \n",
       "\n",
       "     HEART_RATE_MAX  RESPIRATORY_RATE_MAX  TEMPERATURE_MAX  ICU  \n",
       "0         -0.432836             -0.636364        -0.420290    1  \n",
       "1          0.000000             -0.575758         0.101449    1  \n",
       "2         -0.626866             -0.515152        -0.420290    0  \n",
       "3         -0.044776             -0.575758         0.072464    0  \n",
       "4         -0.626866             -0.575758        -0.333333    0  \n",
       "..              ...                   ...              ...  ...  \n",
       "346        0.059701             -0.515152        -0.072464    1  \n",
       "347       -0.432836             -0.515152         0.072464    0  \n",
       "348       -0.462687             -0.515152        -0.246377    1  \n",
       "349       -0.447761             -0.696970        -0.275362    0  \n",
       "350       -0.164179             -0.575758         0.246377    0  \n",
       "\n",
       "[351 rows x 31 columns]"
      ]
     },
     "execution_count": 72,
     "metadata": {},
     "output_type": "execute_result"
    }
   ],
   "source": [
    "dados_rfe30"
   ]
  },
  {
   "cell_type": "markdown",
   "id": "329cdad0-d406-4f33-a2f6-e0786bc1bca7",
   "metadata": {},
   "source": [
    "### Matriz de correlação par os dados selecionados pelo RFE"
   ]
  },
  {
   "cell_type": "code",
   "execution_count": 73,
   "id": "62d02b20-7818-4cd6-96f2-50cb209f3617",
   "metadata": {},
   "outputs": [
    {
     "data": {
      "image/png": "[encoded data removed]",
      "text/plain": [
       "<Figure size 864x576 with 2 Axes>"
      ]
     },
     "metadata": {
      "needs_background": "light"
     },
     "output_type": "display_data"
    },
    {
     "data": {
      "image/png": "[encoded data removed]",
      "text/plain": [
       "<Figure size 864x576 with 2 Axes>"
      ]
     },
     "metadata": {
      "needs_background": "light"
     },
     "output_type": "display_data"
    },
    {
     "data": {
      "image/png": "[encoded data removed]",
      "text/plain": [
       "<Figure size 864x576 with 2 Axes>"
      ]
     },
     "metadata": {
      "needs_background": "light"
     },
     "output_type": "display_data"
    }
   ],
   "source": [
    "plota_matriz_correlacao(dados_rfe30, matriz='upper')\n",
    "plota_matriz_correlacao(dados_rfe20, matriz='upper')"
   ]
  },
  {
   "cell_type": "markdown",
   "id": "7bdc129c-3a5f-4fc7-b962-cbce87c5d5ac",
   "metadata": {},
   "source": [
    "> > **Fig 3.2)** Pode-se observar que aplicar diretamente RFE não retirou a variaveis com alta correlação."
   ]
  },
  {
   "cell_type": "markdown",
   "id": "39c739ee-c6c7-4abd-bad1-810eb944de69",
   "metadata": {},
   "source": [
    "* Aplicando primeiro a remoção das variaces com alta correlação e depois o RFE"
   ]
  },
  {
   "cell_type": "code",
   "execution_count": 74,
   "id": "aadf2667-8b81-439f-a2d8-1aaba55ee104",
   "metadata": {},
   "outputs": [
    {
     "name": "stdout",
     "output_type": "stream",
     "text": [
      "79 a coluna exluidas foram\n"
     ]
    }
   ],
   "source": [
    "dados_sem_corr_acima_do_valor_de_corte, colunas_exluidas = remove_corr_valor_de_corte(dados, 0.90)\n",
    "print(f'{len(colunas_exluidas)} a coluna exluidas foram')"
   ]
  },
  {
   "cell_type": "code",
   "execution_count": 76,
   "id": "7bd7158d-33c0-4a6d-b6b5-313180133d2c",
   "metadata": {},
   "outputs": [
    {
     "name": "stdout",
     "output_type": "stream",
     "text": [
      "Número de features: 30\n",
      "Número de features: 20\n",
      "Número de features: 10\n"
     ]
    }
   ],
   "source": [
    "modelo = LogisticRegression(max_iter=2000)  \n",
    "dados_rfe30 = selecao_pelo_RFE(modelo=modelo, dados=dados_sem_corr_acima_do_valor_de_corte, p_val=0.1, n_features_to_select=30, rng=rng) \n",
    "dados_rfe20 = selecao_pelo_RFE(modelo=modelo, dados=dados_sem_corr_acima_do_valor_de_corte, p_val=0.1, n_features_to_select=20, rng=rng) "
   ]
  },
  {
   "cell_type": "code",
   "execution_count": 77,
   "id": "48e45ba8-3aac-41a1-afbe-c91acb6c084a",
   "metadata": {},
   "outputs": [
    {
     "data": {
      "image/png": "[encoded data removed]",
      "text/plain": [
       "<Figure size 864x576 with 2 Axes>"
      ]
     },
     "metadata": {
      "needs_background": "light"
     },
     "output_type": "display_data"
    },
    {
     "data": {
      "image/png": "[encoded data removed]",
      "text/plain": [
       "<Figure size 864x576 with 2 Axes>"
      ]
     },
     "metadata": {
      "needs_background": "light"
     },
     "output_type": "display_data"
    },
    {
     "data": {
      "image/png": "[encoded data removed]",
      "text/plain": [
       "<Figure size 864x576 with 2 Axes>"
      ]
     },
     "metadata": {
      "needs_background": "light"
     },
     "output_type": "display_data"
    }
   ],
   "source": [
    "plota_matriz_correlacao(dados_rfe30, matriz='upper')\n",
    "plota_matriz_correlacao(dados_rfe20, matriz='upper')"
   ]
  },
  {
   "cell_type": "markdown",
   "id": "be46b6b5-629b-4a24-b8d0-364c7ae7b298",
   "metadata": {},
   "source": [
    "> **Fig 3.3)** Pode-se observar agora que não temos mais correlações acima **0.9**."
   ]
  },
  {
   "cell_type": "markdown",
   "id": "e05c5312-39fe-4b85-a93c-f1919f1d5571",
   "metadata": {},
   "source": [
    "# 4) Salvando os dados"
   ]
  },
  {
   "cell_type": "code",
   "execution_count": 78,
   "id": "2fa7faf3-e64a-401f-a89b-53508760aca5",
   "metadata": {},
   "outputs": [],
   "source": [
    "path_out = '../../Dados/Tratados/'\n",
    "dados_rfe30.to_csv(path_out+'dados_rfe30.csv', index_label=False)\n",
    "dados_rfe20.to_csv(path_out+'dados_rfe20.csv', index_label=False)"
   ]
  },
  {
   "cell_type": "code",
   "execution_count": 79,
   "id": "182ba373-e840-4bf3-836a-38de0839bff6",
   "metadata": {},
   "outputs": [],
   "source": [
    "escreve_somente_as_colunas(dados_rfe30,path_out+'dados_rfe30_colunas.csv')\n",
    "escreve_somente_as_colunas(dados_rfe20,path_out+'dados_rfe20_colunas.csv')"
   ]
  },
  {
   "cell_type": "markdown",
   "id": "17843b73-d5a3-4997-ae5b-6abea46c66fa",
   "metadata": {},
   "source": [
    "---\n",
    "Navegação:\n",
    "\n",
    "---\n",
    "\n",
    "[Voltar para o Notebook anterior (Seleção de variaveis explicativas pela matriz correlação)](https://github.com/HenriqueCCdA/BC_DS_Projeto_Final/blob/main/Notebooks/Selecao_variaveis/selecao_variaveis.ipynb)\n",
    "\n",
    "[Ir para o proximo notebook (Seleção de variaveis explicativas pelo featurewiz)](https://github.com/HenriqueCCdA/BC_DS_Projeto_Final/blob/10acc58f00f060385488c782c9ae2d2e6d404c08/Notebooks/Selecao_variaveis/selecao_variaveis_featurewiz.ipynb)\n",
    "\n",
    "---\n",
    "\n",
    "[Retornar para README principal](https://github.com/HenriqueCCdA/BC_DS_Projeto_Final)\n",
    "\n",
    "---"
   ]
  },
  {
   "cell_type": "code",
   "execution_count": null,
   "id": "dc60160a-e100-4cea-978f-e41bdbb7f0e4",
   "metadata": {},
   "outputs": [],
   "source": []
  }
 ],
 "metadata": {
  "kernelspec": {
   "display_name": "Python 3",
   "language": "python",
   "name": "python3"
  },
  "language_info": {
   "codemirror_mode": {
    "name": "ipython",
    "version": 3
   },
   "file_extension": ".py",
   "mimetype": "text/x-python",
   "name": "python",
   "nbconvert_exporter": "python",
   "pygments_lexer": "ipython3",
   "version": "3.8.3"
  }
 },
 "nbformat": 4,
 "nbformat_minor": 5
}
