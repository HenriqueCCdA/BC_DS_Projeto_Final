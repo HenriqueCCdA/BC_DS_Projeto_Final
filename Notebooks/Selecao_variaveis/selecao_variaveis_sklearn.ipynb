{
 "cells": [
  {
   "cell_type": "markdown",
   "id": "d18ac047-c21b-4bb9-9af1-5040c3ace042",
   "metadata": {},
   "source": [
    "---\n",
    "# 1) Resumo\n",
    "\n",
    "Neste notebook iremos fazer um seleção mais fina das variaveis explicativas da [base limpa](https://github.com/HenriqueCCdA/BC_DS_Projeto_Final/blob/main/Dados/Tratados/dados_tratados_por_paciente.csv). A base limpa foi criada através deste [Notebook](https://github.com/HenriqueCCdA/BC_DS_Projeto_Final/blob/main/Notebooks/Exploratorios/explaracao_limpezada.ipynb). \n",
    "\n",
    "Aqui será usada o **sklearn**. Primeiramente as colunas com correlação de acima de **0.9** serão retiradas igual ([notebook anterior](https://github.com/HenriqueCCdA/BC_DS_Projeto_Final/blob/main/Notebooks/Selecao_variaveis/selecao_variaveis.ipynb)). Após isso foi utlizado o método recursive feature elimination (RFE) do **sklearn**. O limite de correlação utilizado foi de **0.9**. Duas seleções de variaveis foram feitas, uma com **20**  e outra com **30 variaveis**. O modelo usado para fazer o **RFE** foi a **LogisticRegression**.   "
   ]
  },
  {
   "cell_type": "markdown",
   "id": "7a722e05-fcd0-4e12-8454-9aa9d72877c1",
   "metadata": {},
   "source": [
    "---\n",
    "# 2) Pre-analise"
   ]
  },
  {
   "cell_type": "markdown",
   "id": "c2fbfb43-daf6-469d-916d-107f3d3bf0ab",
   "metadata": {},
   "source": [
    "## 2.1) Importando libs"
   ]
  },
  {
   "cell_type": "code",
   "execution_count": 1,
   "id": "dbab7327-c5b8-4511-9990-feca76a46dba",
   "metadata": {},
   "outputs": [],
   "source": [
    "import pandas as pd\n",
    "import seaborn as sns\n",
    "import numpy as np\n",
    "import matplotlib.pyplot as plt\n",
    "from sklearn.linear_model import LogisticRegression\n",
    "from sklearn.feature_selection import RFE\n",
    "#\n",
    "from numpy.random import MT19937\n",
    "from numpy.random import RandomState, SeedSequence\n",
    "#\n",
    "pd.set_option('display.max_rows', 50)"
   ]
  },
  {
   "cell_type": "markdown",
   "id": "b4e50e35-fdff-4930-a874-e879b1be3338",
   "metadata": {},
   "source": [
    "## 2.2) Minhas Funções"
   ]
  },
  {
   "cell_type": "code",
   "execution_count": 2,
   "id": "392c06d2-4e90-4131-8a6c-a043ea6c3019",
   "metadata": {},
   "outputs": [],
   "source": [
    "import sys\n",
    "sys.path.insert(1, \"../../\")\n",
    "from src.info import dimensao_dados, variaveis_explicativas, mostra_todas_as_colunas_com,escreve_somente_as_colunas\n",
    "from src.plota_graficos import plota_matriz_correlacao\n",
    "from src.ml import retorna_x_y, cv_val_split\n",
    "from src.selecao_vars import remove_corr_valor_de_corte"
   ]
  },
  {
   "cell_type": "markdown",
   "id": "bdf1194a-b7a7-4819-b678-ca86a2719982",
   "metadata": {},
   "source": [
    "---\n",
    "# 3) Selecionando os dados"
   ]
  },
  {
   "cell_type": "markdown",
   "id": "0e12baff-1d4f-4443-a8ad-91ae5bbf012b",
   "metadata": {},
   "source": [
    "## 3.1) Importando os dados"
   ]
  },
  {
   "cell_type": "code",
   "execution_count": 3,
   "id": "0afee5d0-4572-4e1b-afb6-d30fec1a781a",
   "metadata": {},
   "outputs": [
    {
     "data": {
      "text/html": [
       "<div>\n",
       "<style scoped>\n",
       "    .dataframe tbody tr th:only-of-type {\n",
       "        vertical-align: middle;\n",
       "    }\n",
       "\n",
       "    .dataframe tbody tr th {\n",
       "        vertical-align: top;\n",
       "    }\n",
       "\n",
       "    .dataframe thead th {\n",
       "        text-align: right;\n",
       "    }\n",
       "</style>\n",
       "<table border=\"1\" class=\"dataframe\">\n",
       "  <thead>\n",
       "    <tr style=\"text-align: right;\">\n",
       "      <th></th>\n",
       "      <th>AGE_ABOVE65</th>\n",
       "      <th>AGE_PERCENTIL</th>\n",
       "      <th>GENDER</th>\n",
       "      <th>DISEASE GROUPING 1</th>\n",
       "      <th>DISEASE GROUPING 2</th>\n",
       "      <th>DISEASE GROUPING 3</th>\n",
       "      <th>DISEASE GROUPING 4</th>\n",
       "      <th>DISEASE GROUPING 5</th>\n",
       "      <th>DISEASE GROUPING 6</th>\n",
       "      <th>HTN</th>\n",
       "      <th>...</th>\n",
       "      <th>BLOODPRESSURE_DIASTOLIC_DIFF</th>\n",
       "      <th>BLOODPRESSURE_SISTOLIC_DIFF</th>\n",
       "      <th>HEART_RATE_DIFF</th>\n",
       "      <th>RESPIRATORY_RATE_DIFF</th>\n",
       "      <th>TEMPERATURE_DIFF</th>\n",
       "      <th>BLOODPRESSURE_DIASTOLIC_DIFF_REL</th>\n",
       "      <th>BLOODPRESSURE_SISTOLIC_DIFF_REL</th>\n",
       "      <th>RESPIRATORY_RATE_DIFF_REL</th>\n",
       "      <th>TEMPERATURE_DIFF_REL</th>\n",
       "      <th>ICU</th>\n",
       "    </tr>\n",
       "  </thead>\n",
       "  <tbody>\n",
       "    <tr>\n",
       "      <th>0</th>\n",
       "      <td>1</td>\n",
       "      <td>0.111111</td>\n",
       "      <td>0</td>\n",
       "      <td>0.0</td>\n",
       "      <td>0.0</td>\n",
       "      <td>0.0</td>\n",
       "      <td>0.0</td>\n",
       "      <td>1.0</td>\n",
       "      <td>1.0</td>\n",
       "      <td>0.0</td>\n",
       "      <td>...</td>\n",
       "      <td>-1.000000</td>\n",
       "      <td>-1.000000</td>\n",
       "      <td>-1.000000</td>\n",
       "      <td>-1.000000</td>\n",
       "      <td>-1.000000</td>\n",
       "      <td>-1.000000</td>\n",
       "      <td>-1.000000</td>\n",
       "      <td>-1.000000</td>\n",
       "      <td>-1.000000</td>\n",
       "      <td>1</td>\n",
       "    </tr>\n",
       "    <tr>\n",
       "      <th>1</th>\n",
       "      <td>0</td>\n",
       "      <td>-1.000000</td>\n",
       "      <td>0</td>\n",
       "      <td>0.0</td>\n",
       "      <td>0.0</td>\n",
       "      <td>0.0</td>\n",
       "      <td>0.0</td>\n",
       "      <td>0.0</td>\n",
       "      <td>0.0</td>\n",
       "      <td>0.0</td>\n",
       "      <td>...</td>\n",
       "      <td>-0.547826</td>\n",
       "      <td>-0.533742</td>\n",
       "      <td>-0.603053</td>\n",
       "      <td>-0.764706</td>\n",
       "      <td>-1.000000</td>\n",
       "      <td>-0.515528</td>\n",
       "      <td>-0.351328</td>\n",
       "      <td>-0.756272</td>\n",
       "      <td>-1.000000</td>\n",
       "      <td>1</td>\n",
       "    </tr>\n",
       "    <tr>\n",
       "      <th>2</th>\n",
       "      <td>0</td>\n",
       "      <td>-0.333333</td>\n",
       "      <td>1</td>\n",
       "      <td>0.0</td>\n",
       "      <td>0.0</td>\n",
       "      <td>0.0</td>\n",
       "      <td>0.0</td>\n",
       "      <td>0.0</td>\n",
       "      <td>0.0</td>\n",
       "      <td>0.0</td>\n",
       "      <td>...</td>\n",
       "      <td>-1.000000</td>\n",
       "      <td>-1.000000</td>\n",
       "      <td>-1.000000</td>\n",
       "      <td>-1.000000</td>\n",
       "      <td>-1.000000</td>\n",
       "      <td>-1.000000</td>\n",
       "      <td>-1.000000</td>\n",
       "      <td>-1.000000</td>\n",
       "      <td>-1.000000</td>\n",
       "      <td>0</td>\n",
       "    </tr>\n",
       "    <tr>\n",
       "      <th>3</th>\n",
       "      <td>0</td>\n",
       "      <td>-1.000000</td>\n",
       "      <td>0</td>\n",
       "      <td>0.0</td>\n",
       "      <td>0.0</td>\n",
       "      <td>0.0</td>\n",
       "      <td>0.0</td>\n",
       "      <td>0.0</td>\n",
       "      <td>0.0</td>\n",
       "      <td>0.0</td>\n",
       "      <td>...</td>\n",
       "      <td>-1.000000</td>\n",
       "      <td>-0.877301</td>\n",
       "      <td>-0.923664</td>\n",
       "      <td>-0.882353</td>\n",
       "      <td>-0.952381</td>\n",
       "      <td>-1.000000</td>\n",
       "      <td>-0.883669</td>\n",
       "      <td>-0.870968</td>\n",
       "      <td>-0.953536</td>\n",
       "      <td>0</td>\n",
       "    </tr>\n",
       "    <tr>\n",
       "      <th>4</th>\n",
       "      <td>0</td>\n",
       "      <td>-1.000000</td>\n",
       "      <td>0</td>\n",
       "      <td>0.0</td>\n",
       "      <td>0.0</td>\n",
       "      <td>0.0</td>\n",
       "      <td>0.0</td>\n",
       "      <td>0.0</td>\n",
       "      <td>0.0</td>\n",
       "      <td>0.0</td>\n",
       "      <td>...</td>\n",
       "      <td>-0.826087</td>\n",
       "      <td>-0.754601</td>\n",
       "      <td>-0.984733</td>\n",
       "      <td>-1.000000</td>\n",
       "      <td>-0.976190</td>\n",
       "      <td>-0.860870</td>\n",
       "      <td>-0.714460</td>\n",
       "      <td>-1.000000</td>\n",
       "      <td>-0.975891</td>\n",
       "      <td>0</td>\n",
       "    </tr>\n",
       "  </tbody>\n",
       "</table>\n",
       "<p>5 rows × 121 columns</p>\n",
       "</div>"
      ],
      "text/plain": [
       "   AGE_ABOVE65  AGE_PERCENTIL  GENDER  DISEASE GROUPING 1  DISEASE GROUPING 2  \\\n",
       "0            1       0.111111       0                 0.0                 0.0   \n",
       "1            0      -1.000000       0                 0.0                 0.0   \n",
       "2            0      -0.333333       1                 0.0                 0.0   \n",
       "3            0      -1.000000       0                 0.0                 0.0   \n",
       "4            0      -1.000000       0                 0.0                 0.0   \n",
       "\n",
       "   DISEASE GROUPING 3  DISEASE GROUPING 4  DISEASE GROUPING 5  \\\n",
       "0                 0.0                 0.0                 1.0   \n",
       "1                 0.0                 0.0                 0.0   \n",
       "2                 0.0                 0.0                 0.0   \n",
       "3                 0.0                 0.0                 0.0   \n",
       "4                 0.0                 0.0                 0.0   \n",
       "\n",
       "   DISEASE GROUPING 6  HTN  ...  BLOODPRESSURE_DIASTOLIC_DIFF  \\\n",
       "0                 1.0  0.0  ...                     -1.000000   \n",
       "1                 0.0  0.0  ...                     -0.547826   \n",
       "2                 0.0  0.0  ...                     -1.000000   \n",
       "3                 0.0  0.0  ...                     -1.000000   \n",
       "4                 0.0  0.0  ...                     -0.826087   \n",
       "\n",
       "   BLOODPRESSURE_SISTOLIC_DIFF  HEART_RATE_DIFF  RESPIRATORY_RATE_DIFF  \\\n",
       "0                    -1.000000        -1.000000              -1.000000   \n",
       "1                    -0.533742        -0.603053              -0.764706   \n",
       "2                    -1.000000        -1.000000              -1.000000   \n",
       "3                    -0.877301        -0.923664              -0.882353   \n",
       "4                    -0.754601        -0.984733              -1.000000   \n",
       "\n",
       "   TEMPERATURE_DIFF  BLOODPRESSURE_DIASTOLIC_DIFF_REL  \\\n",
       "0         -1.000000                         -1.000000   \n",
       "1         -1.000000                         -0.515528   \n",
       "2         -1.000000                         -1.000000   \n",
       "3         -0.952381                         -1.000000   \n",
       "4         -0.976190                         -0.860870   \n",
       "\n",
       "   BLOODPRESSURE_SISTOLIC_DIFF_REL  RESPIRATORY_RATE_DIFF_REL  \\\n",
       "0                        -1.000000                  -1.000000   \n",
       "1                        -0.351328                  -0.756272   \n",
       "2                        -1.000000                  -1.000000   \n",
       "3                        -0.883669                  -0.870968   \n",
       "4                        -0.714460                  -1.000000   \n",
       "\n",
       "   TEMPERATURE_DIFF_REL  ICU  \n",
       "0             -1.000000    1  \n",
       "1             -1.000000    1  \n",
       "2             -1.000000    0  \n",
       "3             -0.953536    0  \n",
       "4             -0.975891    0  \n",
       "\n",
       "[5 rows x 121 columns]"
      ]
     },
     "execution_count": 3,
     "metadata": {},
     "output_type": "execute_result"
    }
   ],
   "source": [
    "path = \"https://raw.githubusercontent.com/HenriqueCCdA/BC_DS_Projeto_Final/main/Dados/Tratados/dados_tratados_por_paciente.csv\"\n",
    "path = \"../../Dados/Tratados/dados_tratados_por_paciente.csv\"\n",
    "dados = pd.read_csv(path)\n",
    "dados.head(n=5)"
   ]
  },
  {
   "cell_type": "markdown",
   "id": "92ffff89-35da-4ab2-a5b7-7f8e3c3a8e40",
   "metadata": {},
   "source": [
    "## 3.2) Analizando os dados"
   ]
  },
  {
   "cell_type": "markdown",
   "id": "e0f03c09-1edc-4905-9003-750647a99a03",
   "metadata": {},
   "source": [
    "### Dimensação da matriz atual"
   ]
  },
  {
   "cell_type": "code",
   "execution_count": 4,
   "id": "9b0cd004-fe4e-46cb-96f4-9af437514540",
   "metadata": {},
   "outputs": [
    {
     "name": "stdout",
     "output_type": "stream",
     "text": [
      "Numero de linhas : 351 \n",
      "Numero de colunas: 121 \n"
     ]
    }
   ],
   "source": [
    "dimensao_dados(dados)"
   ]
  },
  {
   "cell_type": "markdown",
   "id": "debb1625-ca4e-47c9-b77d-61753e0c9fc7",
   "metadata": {},
   "source": [
    "### Possiveis variaveis explicativas da base de dados"
   ]
  },
  {
   "cell_type": "code",
   "execution_count": 5,
   "id": "ee87c7fd-bd61-455e-bef6-0bb3ab236f88",
   "metadata": {},
   "outputs": [
    {
     "name": "stdout",
     "output_type": "stream",
     "text": [
      " col[  0] -> AGE_ABOVE65                         col[  1] -> AGE_PERCENTIL                       \n",
      " col[  2] -> GENDER                              col[  3] -> DISEASE GROUPING 1                  \n",
      " col[  4] -> DISEASE GROUPING 2                  col[  5] -> DISEASE GROUPING 3                  \n",
      " col[  6] -> DISEASE GROUPING 4                  col[  7] -> DISEASE GROUPING 5                  \n",
      " col[  8] -> DISEASE GROUPING 6                  col[  9] -> HTN                                 \n",
      " col[ 10] -> IMMUNOCOMPROMISED                   col[ 11] -> OTHER                               \n",
      " col[ 12] -> ALBUMIN_MEDIAN                      col[ 13] -> ALBUMIN_MEAN                        \n",
      " col[ 14] -> ALBUMIN_MIN                         col[ 15] -> ALBUMIN_MAX                         \n",
      " col[ 16] -> BE_VENOUS_MEDIAN                    col[ 17] -> BE_VENOUS_MEAN                      \n",
      " col[ 18] -> BE_VENOUS_MIN                       col[ 19] -> BE_VENOUS_MAX                       \n",
      " col[ 20] -> BLAST_MEDIAN                        col[ 21] -> BLAST_MEAN                          \n",
      " col[ 22] -> BLAST_MIN                           col[ 23] -> BLAST_MAX                           \n",
      " col[ 24] -> FFA_MEDIAN                          col[ 25] -> FFA_MEAN                            \n",
      " col[ 26] -> FFA_MIN                             col[ 27] -> FFA_MAX                             \n",
      " col[ 28] -> GGT_MEDIAN                          col[ 29] -> GGT_MEAN                            \n",
      " col[ 30] -> GGT_MIN                             col[ 31] -> GGT_MAX                             \n",
      " col[ 32] -> HEMATOCRITE_MEDIAN                  col[ 33] -> HEMATOCRITE_MEAN                    \n",
      " col[ 34] -> HEMATOCRITE_MIN                     col[ 35] -> HEMATOCRITE_MAX                     \n",
      " col[ 36] -> HEMOGLOBIN_MEDIAN                   col[ 37] -> HEMOGLOBIN_MEAN                     \n",
      " col[ 38] -> HEMOGLOBIN_MIN                      col[ 39] -> HEMOGLOBIN_MAX                      \n",
      " col[ 40] -> LACTATE_MEDIAN                      col[ 41] -> LACTATE_MEAN                        \n",
      " col[ 42] -> LACTATE_MIN                         col[ 43] -> LACTATE_MAX                         \n",
      " col[ 44] -> LEUKOCYTES_MEDIAN                   col[ 45] -> LEUKOCYTES_MEAN                     \n",
      " col[ 46] -> LEUKOCYTES_MIN                      col[ 47] -> LEUKOCYTES_MAX                      \n",
      " col[ 48] -> LINFOCITOS_MEDIAN                   col[ 49] -> LINFOCITOS_MEAN                     \n",
      " col[ 50] -> LINFOCITOS_MIN                      col[ 51] -> LINFOCITOS_MAX                      \n",
      " col[ 52] -> NEUTROPHILES_MEDIAN                 col[ 53] -> NEUTROPHILES_MEAN                   \n",
      " col[ 54] -> NEUTROPHILES_MIN                    col[ 55] -> NEUTROPHILES_MAX                    \n",
      " col[ 56] -> P02_VENOUS_MEDIAN                   col[ 57] -> P02_VENOUS_MEAN                     \n",
      " col[ 58] -> P02_VENOUS_MIN                      col[ 59] -> P02_VENOUS_MAX                      \n",
      " col[ 60] -> PCR_MEDIAN                          col[ 61] -> PCR_MEAN                            \n",
      " col[ 62] -> PCR_MIN                             col[ 63] -> PCR_MAX                             \n",
      " col[ 64] -> PLATELETS_MEDIAN                    col[ 65] -> PLATELETS_MEAN                      \n",
      " col[ 66] -> PLATELETS_MIN                       col[ 67] -> PLATELETS_MAX                       \n",
      " col[ 68] -> POTASSIUM_MEDIAN                    col[ 69] -> POTASSIUM_MEAN                      \n",
      " col[ 70] -> POTASSIUM_MIN                       col[ 71] -> POTASSIUM_MAX                       \n",
      " col[ 72] -> SAT02_ARTERIAL_MEDIAN               col[ 73] -> SAT02_ARTERIAL_MEAN                 \n",
      " col[ 74] -> SAT02_ARTERIAL_MIN                  col[ 75] -> SAT02_ARTERIAL_MAX                  \n",
      " col[ 76] -> SAT02_VENOUS_MEDIAN                 col[ 77] -> SAT02_VENOUS_MEAN                   \n",
      " col[ 78] -> SAT02_VENOUS_MIN                    col[ 79] -> SAT02_VENOUS_MAX                    \n",
      " col[ 80] -> SODIUM_MEDIAN                       col[ 81] -> SODIUM_MEAN                         \n",
      " col[ 82] -> SODIUM_MIN                          col[ 83] -> SODIUM_MAX                          \n",
      " col[ 84] -> UREA_MEDIAN                         col[ 85] -> UREA_MEAN                           \n",
      " col[ 86] -> UREA_MIN                            col[ 87] -> UREA_MAX                            \n",
      " col[ 88] -> BLOODPRESSURE_DIASTOLIC_MEAN        col[ 89] -> BLOODPRESSURE_SISTOLIC_MEAN         \n",
      " col[ 90] -> HEART_RATE_MEAN                     col[ 91] -> RESPIRATORY_RATE_MEAN               \n",
      " col[ 92] -> TEMPERATURE_MEAN                    col[ 93] -> OXYGEN_SATURATION_MEAN              \n",
      " col[ 94] -> BLOODPRESSURE_DIASTOLIC_MEDIAN      col[ 95] -> BLOODPRESSURE_SISTOLIC_MEDIAN       \n",
      " col[ 96] -> HEART_RATE_MEDIAN                   col[ 97] -> RESPIRATORY_RATE_MEDIAN             \n",
      " col[ 98] -> TEMPERATURE_MEDIAN                  col[ 99] -> OXYGEN_SATURATION_MEDIAN            \n",
      " col[100] -> BLOODPRESSURE_DIASTOLIC_MIN         col[101] -> BLOODPRESSURE_SISTOLIC_MIN          \n",
      " col[102] -> HEART_RATE_MIN                      col[103] -> RESPIRATORY_RATE_MIN                \n",
      " col[104] -> TEMPERATURE_MIN                     col[105] -> BLOODPRESSURE_DIASTOLIC_MAX         \n",
      " col[106] -> BLOODPRESSURE_SISTOLIC_MAX          col[107] -> HEART_RATE_MAX                      \n",
      " col[108] -> RESPIRATORY_RATE_MAX                col[109] -> TEMPERATURE_MAX                     \n",
      " col[110] -> OXYGEN_SATURATION_MAX               col[111] -> BLOODPRESSURE_DIASTOLIC_DIFF        \n",
      " col[112] -> BLOODPRESSURE_SISTOLIC_DIFF         col[113] -> HEART_RATE_DIFF                     \n",
      " col[114] -> RESPIRATORY_RATE_DIFF               col[115] -> TEMPERATURE_DIFF                    \n",
      " col[116] -> BLOODPRESSURE_DIASTOLIC_DIFF_REL    col[117] -> BLOODPRESSURE_SISTOLIC_DIFF_REL     \n",
      " col[118] -> RESPIRATORY_RATE_DIFF_REL           col[119] -> TEMPERATURE_DIFF_REL                \n",
      " "
     ]
    }
   ],
   "source": [
    "_ = variaveis_explicativas(dados)"
   ]
  },
  {
   "cell_type": "markdown",
   "id": "75a40e99-27cb-4283-8d28-80d1d8f509e6",
   "metadata": {},
   "source": [
    "## 3.3)  Matriz de Correlação"
   ]
  },
  {
   "cell_type": "markdown",
   "id": "bda55d4f-b314-4479-b39a-ee088412e67e",
   "metadata": {},
   "source": [
    "### Matriz de correlação com correlações sem tratamento"
   ]
  },
  {
   "cell_type": "code",
   "execution_count": 6,
   "id": "29b797ca-6811-4f58-85e7-00fec81f0d03",
   "metadata": {},
   "outputs": [
    {
     "data": {
      "image/png": "[encoded data removed]",
      "text/plain": [
       "<Figure size 864x576 with 2 Axes>"
      ]
     },
     "metadata": {
      "needs_background": "light"
     },
     "output_type": "display_data"
    }
   ],
   "source": [
    "plota_matriz_correlacao(dados, matriz='upper')"
   ]
  },
  {
   "cell_type": "markdown",
   "id": "17e91d90-735e-4b32-a9b4-d3d83954e04b",
   "metadata": {},
   "source": [
    "> **Fig 3.1)** Heatmap das correlações dos dados limpos originais. A cor **azul** são valores entre **[0.9 e 1.0]**. A cor **cinza** são valores entre **[0.1 e 0.8]**. A cor verde são valores entre **[0 e 0.1]**.."
   ]
  },
  {
   "cell_type": "markdown",
   "id": "7c875bbd-f281-45a2-a39f-1efd9201919c",
   "metadata": {},
   "source": [
    "### Selecionando as variaveis explicativas com RFE\n",
    "\n",
    "**Eu estou chamando o cv_val_split aqui para evitar data leakage no dataset train-test. Esta solução aqui não é melhor é precisa ser repensada!**\n",
    "\n",
    "> Qual é o problema ? Eu divi a base de dados em duas, cross validadation (CV) e validadação, caso eu use a base toda aqui para selecionar as variaveis eu estaria usando informações do dataset de validação. Para contornar eu problema eu estou divindido a base é usando apenas as informação do dataset CV para selecionar os dados. Uma solução mais elegante seria botar o RFE dentro do pipeline.\n"
   ]
  },
  {
   "cell_type": "code",
   "execution_count": 7,
   "id": "6c4eb515-995a-4818-8287-017941a9429a",
   "metadata": {},
   "outputs": [],
   "source": [
    "seed     = 1471523\n",
    "rng = RandomState(MT19937(SeedSequence(seed)))"
   ]
  },
  {
   "cell_type": "code",
   "execution_count": 8,
   "id": "a7c1b6dd-97d0-4978-9711-743ebd9ca89f",
   "metadata": {},
   "outputs": [],
   "source": [
    "def selecao_pelo_RFE(modelo, dados, p_val=0.1, n_features_to_select=60, rng=None):\n",
    "\n",
    "    x_cv, _, y_cv, _ = cv_val_split(dados, p_val=p_val, rng=rng)\n",
    "    \n",
    "    rfe = RFE(modelo, n_features_to_select=n_features_to_select)\n",
    "\n",
    "    selec = rfe.fit(x_cv, y_cv)\n",
    "\n",
    "    # Mostrando o número de features:\n",
    "    print(f'Número de features: {selec.n_features_}')  \n",
    "\n",
    "    cols = selec.get_support(indices=True)\n",
    "    dados_rfe = dados.iloc[:,cols]\n",
    "    return  pd.concat([ dados_rfe, dados.loc[:,'ICU']], axis=1)"
   ]
  },
  {
   "cell_type": "code",
   "execution_count": 9,
   "id": "549dbe0e-e5aa-4717-af05-b074e583a102",
   "metadata": {},
   "outputs": [
    {
     "name": "stdout",
     "output_type": "stream",
     "text": [
      "Número de features: 30\n",
      "Número de features: 20\n"
     ]
    }
   ],
   "source": [
    "modelo = LogisticRegression(max_iter=2000)\n",
    "#modelo = GradientBoostingClassifier()\n",
    "\n",
    "dados_rfe30 = selecao_pelo_RFE(modelo=modelo, dados=dados, p_val=0.1, n_features_to_select=30, rng=rng) \n",
    "dados_rfe20 = selecao_pelo_RFE(modelo=modelo, dados=dados, p_val=0.1, n_features_to_select=20, rng=rng) "
   ]
  },
  {
   "cell_type": "code",
   "execution_count": 10,
   "id": "72964a3d-a61e-459c-9556-85c56aad402e",
   "metadata": {},
   "outputs": [
    {
     "data": {
      "text/html": [
       "<div>\n",
       "<style scoped>\n",
       "    .dataframe tbody tr th:only-of-type {\n",
       "        vertical-align: middle;\n",
       "    }\n",
       "\n",
       "    .dataframe tbody tr th {\n",
       "        vertical-align: top;\n",
       "    }\n",
       "\n",
       "    .dataframe thead th {\n",
       "        text-align: right;\n",
       "    }\n",
       "</style>\n",
       "<table border=\"1\" class=\"dataframe\">\n",
       "  <thead>\n",
       "    <tr style=\"text-align: right;\">\n",
       "      <th></th>\n",
       "      <th>AGE_PERCENTIL</th>\n",
       "      <th>DISEASE GROUPING 1</th>\n",
       "      <th>DISEASE GROUPING 3</th>\n",
       "      <th>DISEASE GROUPING 4</th>\n",
       "      <th>ALBUMIN_MIN</th>\n",
       "      <th>BE_VENOUS_MIN</th>\n",
       "      <th>FFA_MEDIAN</th>\n",
       "      <th>FFA_MIN</th>\n",
       "      <th>LACTATE_MEAN</th>\n",
       "      <th>LINFOCITOS_MEDIAN</th>\n",
       "      <th>...</th>\n",
       "      <th>BLOODPRESSURE_DIASTOLIC_MEAN</th>\n",
       "      <th>BLOODPRESSURE_SISTOLIC_MEAN</th>\n",
       "      <th>BLOODPRESSURE_DIASTOLIC_MEDIAN</th>\n",
       "      <th>BLOODPRESSURE_DIASTOLIC_MIN</th>\n",
       "      <th>BLOODPRESSURE_SISTOLIC_MAX</th>\n",
       "      <th>BLOODPRESSURE_SISTOLIC_DIFF</th>\n",
       "      <th>RESPIRATORY_RATE_DIFF</th>\n",
       "      <th>BLOODPRESSURE_SISTOLIC_DIFF_REL</th>\n",
       "      <th>RESPIRATORY_RATE_DIFF_REL</th>\n",
       "      <th>ICU</th>\n",
       "    </tr>\n",
       "  </thead>\n",
       "  <tbody>\n",
       "    <tr>\n",
       "      <th>0</th>\n",
       "      <td>0.111111</td>\n",
       "      <td>0.0</td>\n",
       "      <td>0.0</td>\n",
       "      <td>0.0</td>\n",
       "      <td>0.605263</td>\n",
       "      <td>-1.000000</td>\n",
       "      <td>-0.742004</td>\n",
       "      <td>-0.742004</td>\n",
       "      <td>1.000000</td>\n",
       "      <td>-0.914938</td>\n",
       "      <td>...</td>\n",
       "      <td>0.086420</td>\n",
       "      <td>-0.230769</td>\n",
       "      <td>0.086420</td>\n",
       "      <td>0.237113</td>\n",
       "      <td>-0.459459</td>\n",
       "      <td>-1.000000</td>\n",
       "      <td>-1.000000</td>\n",
       "      <td>-1.000000</td>\n",
       "      <td>-1.000000</td>\n",
       "      <td>1</td>\n",
       "    </tr>\n",
       "    <tr>\n",
       "      <th>1</th>\n",
       "      <td>-1.000000</td>\n",
       "      <td>0.0</td>\n",
       "      <td>0.0</td>\n",
       "      <td>0.0</td>\n",
       "      <td>0.605263</td>\n",
       "      <td>-1.000000</td>\n",
       "      <td>-0.742004</td>\n",
       "      <td>-0.742004</td>\n",
       "      <td>1.000000</td>\n",
       "      <td>-0.908714</td>\n",
       "      <td>...</td>\n",
       "      <td>-0.489712</td>\n",
       "      <td>-0.685470</td>\n",
       "      <td>-0.506173</td>\n",
       "      <td>-0.525773</td>\n",
       "      <td>-0.491892</td>\n",
       "      <td>-0.533742</td>\n",
       "      <td>-0.764706</td>\n",
       "      <td>-0.351328</td>\n",
       "      <td>-0.756272</td>\n",
       "      <td>1</td>\n",
       "    </tr>\n",
       "    <tr>\n",
       "      <th>2</th>\n",
       "      <td>-0.333333</td>\n",
       "      <td>0.0</td>\n",
       "      <td>0.0</td>\n",
       "      <td>0.0</td>\n",
       "      <td>-0.263158</td>\n",
       "      <td>-1.000000</td>\n",
       "      <td>-0.194030</td>\n",
       "      <td>-0.194030</td>\n",
       "      <td>-0.828421</td>\n",
       "      <td>-0.836100</td>\n",
       "      <td>...</td>\n",
       "      <td>0.012346</td>\n",
       "      <td>-0.369231</td>\n",
       "      <td>0.012346</td>\n",
       "      <td>0.175258</td>\n",
       "      <td>-0.556757</td>\n",
       "      <td>-1.000000</td>\n",
       "      <td>-1.000000</td>\n",
       "      <td>-1.000000</td>\n",
       "      <td>-1.000000</td>\n",
       "      <td>0</td>\n",
       "    </tr>\n",
       "    <tr>\n",
       "      <th>3</th>\n",
       "      <td>-1.000000</td>\n",
       "      <td>0.0</td>\n",
       "      <td>0.0</td>\n",
       "      <td>0.0</td>\n",
       "      <td>0.605263</td>\n",
       "      <td>-1.000000</td>\n",
       "      <td>-0.829424</td>\n",
       "      <td>-0.829424</td>\n",
       "      <td>1.000000</td>\n",
       "      <td>-0.641079</td>\n",
       "      <td>...</td>\n",
       "      <td>0.333333</td>\n",
       "      <td>-0.153846</td>\n",
       "      <td>0.333333</td>\n",
       "      <td>0.443299</td>\n",
       "      <td>-0.351351</td>\n",
       "      <td>-0.877301</td>\n",
       "      <td>-0.882353</td>\n",
       "      <td>-0.883669</td>\n",
       "      <td>-0.870968</td>\n",
       "      <td>0</td>\n",
       "    </tr>\n",
       "    <tr>\n",
       "      <th>4</th>\n",
       "      <td>-1.000000</td>\n",
       "      <td>0.0</td>\n",
       "      <td>0.0</td>\n",
       "      <td>0.0</td>\n",
       "      <td>0.605263</td>\n",
       "      <td>-1.000000</td>\n",
       "      <td>-0.742004</td>\n",
       "      <td>-0.742004</td>\n",
       "      <td>1.000000</td>\n",
       "      <td>-0.340249</td>\n",
       "      <td>...</td>\n",
       "      <td>-0.037037</td>\n",
       "      <td>-0.538462</td>\n",
       "      <td>-0.037037</td>\n",
       "      <td>0.030928</td>\n",
       "      <td>-0.567568</td>\n",
       "      <td>-0.754601</td>\n",
       "      <td>-1.000000</td>\n",
       "      <td>-0.714460</td>\n",
       "      <td>-1.000000</td>\n",
       "      <td>0</td>\n",
       "    </tr>\n",
       "    <tr>\n",
       "      <th>...</th>\n",
       "      <td>...</td>\n",
       "      <td>...</td>\n",
       "      <td>...</td>\n",
       "      <td>...</td>\n",
       "      <td>...</td>\n",
       "      <td>...</td>\n",
       "      <td>...</td>\n",
       "      <td>...</td>\n",
       "      <td>...</td>\n",
       "      <td>...</td>\n",
       "      <td>...</td>\n",
       "      <td>...</td>\n",
       "      <td>...</td>\n",
       "      <td>...</td>\n",
       "      <td>...</td>\n",
       "      <td>...</td>\n",
       "      <td>...</td>\n",
       "      <td>...</td>\n",
       "      <td>...</td>\n",
       "      <td>...</td>\n",
       "      <td>...</td>\n",
       "    </tr>\n",
       "    <tr>\n",
       "      <th>346</th>\n",
       "      <td>-0.333333</td>\n",
       "      <td>0.0</td>\n",
       "      <td>0.0</td>\n",
       "      <td>0.0</td>\n",
       "      <td>-0.578947</td>\n",
       "      <td>-1.000000</td>\n",
       "      <td>1.000000</td>\n",
       "      <td>1.000000</td>\n",
       "      <td>1.000000</td>\n",
       "      <td>-0.879668</td>\n",
       "      <td>...</td>\n",
       "      <td>-0.160494</td>\n",
       "      <td>-0.692308</td>\n",
       "      <td>-0.160494</td>\n",
       "      <td>0.030928</td>\n",
       "      <td>-0.783784</td>\n",
       "      <td>-1.000000</td>\n",
       "      <td>-1.000000</td>\n",
       "      <td>-1.000000</td>\n",
       "      <td>-1.000000</td>\n",
       "      <td>1</td>\n",
       "    </tr>\n",
       "    <tr>\n",
       "      <th>347</th>\n",
       "      <td>1.000000</td>\n",
       "      <td>0.0</td>\n",
       "      <td>0.0</td>\n",
       "      <td>0.0</td>\n",
       "      <td>0.605263</td>\n",
       "      <td>-1.000000</td>\n",
       "      <td>-0.742004</td>\n",
       "      <td>-0.742004</td>\n",
       "      <td>1.000000</td>\n",
       "      <td>-0.921162</td>\n",
       "      <td>...</td>\n",
       "      <td>-0.407407</td>\n",
       "      <td>-0.692308</td>\n",
       "      <td>-0.407407</td>\n",
       "      <td>-0.175258</td>\n",
       "      <td>-0.783784</td>\n",
       "      <td>-1.000000</td>\n",
       "      <td>-1.000000</td>\n",
       "      <td>-1.000000</td>\n",
       "      <td>-1.000000</td>\n",
       "      <td>0</td>\n",
       "    </tr>\n",
       "    <tr>\n",
       "      <th>348</th>\n",
       "      <td>-0.111111</td>\n",
       "      <td>0.0</td>\n",
       "      <td>0.0</td>\n",
       "      <td>0.0</td>\n",
       "      <td>0.605263</td>\n",
       "      <td>-1.000000</td>\n",
       "      <td>-0.742004</td>\n",
       "      <td>-0.742004</td>\n",
       "      <td>1.000000</td>\n",
       "      <td>-0.838174</td>\n",
       "      <td>...</td>\n",
       "      <td>0.012346</td>\n",
       "      <td>-0.384615</td>\n",
       "      <td>0.012346</td>\n",
       "      <td>0.175258</td>\n",
       "      <td>-0.567568</td>\n",
       "      <td>-1.000000</td>\n",
       "      <td>-1.000000</td>\n",
       "      <td>-1.000000</td>\n",
       "      <td>-1.000000</td>\n",
       "      <td>1</td>\n",
       "    </tr>\n",
       "    <tr>\n",
       "      <th>349</th>\n",
       "      <td>-0.333333</td>\n",
       "      <td>0.0</td>\n",
       "      <td>0.0</td>\n",
       "      <td>0.0</td>\n",
       "      <td>0.605263</td>\n",
       "      <td>-1.000000</td>\n",
       "      <td>-0.742004</td>\n",
       "      <td>-0.742004</td>\n",
       "      <td>1.000000</td>\n",
       "      <td>-0.819502</td>\n",
       "      <td>...</td>\n",
       "      <td>0.086420</td>\n",
       "      <td>-0.230769</td>\n",
       "      <td>0.086420</td>\n",
       "      <td>0.237113</td>\n",
       "      <td>-0.459459</td>\n",
       "      <td>-1.000000</td>\n",
       "      <td>-1.000000</td>\n",
       "      <td>-1.000000</td>\n",
       "      <td>-1.000000</td>\n",
       "      <td>0</td>\n",
       "    </tr>\n",
       "    <tr>\n",
       "      <th>350</th>\n",
       "      <td>-0.111111</td>\n",
       "      <td>0.0</td>\n",
       "      <td>0.0</td>\n",
       "      <td>0.0</td>\n",
       "      <td>0.605263</td>\n",
       "      <td>-0.717277</td>\n",
       "      <td>-0.782516</td>\n",
       "      <td>-0.782516</td>\n",
       "      <td>-0.897773</td>\n",
       "      <td>-0.686722</td>\n",
       "      <td>...</td>\n",
       "      <td>0.012346</td>\n",
       "      <td>-0.292308</td>\n",
       "      <td>0.012346</td>\n",
       "      <td>0.175258</td>\n",
       "      <td>-0.502703</td>\n",
       "      <td>-1.000000</td>\n",
       "      <td>-1.000000</td>\n",
       "      <td>-1.000000</td>\n",
       "      <td>-1.000000</td>\n",
       "      <td>0</td>\n",
       "    </tr>\n",
       "  </tbody>\n",
       "</table>\n",
       "<p>351 rows × 31 columns</p>\n",
       "</div>"
      ],
      "text/plain": [
       "     AGE_PERCENTIL  DISEASE GROUPING 1  DISEASE GROUPING 3  \\\n",
       "0         0.111111                 0.0                 0.0   \n",
       "1        -1.000000                 0.0                 0.0   \n",
       "2        -0.333333                 0.0                 0.0   \n",
       "3        -1.000000                 0.0                 0.0   \n",
       "4        -1.000000                 0.0                 0.0   \n",
       "..             ...                 ...                 ...   \n",
       "346      -0.333333                 0.0                 0.0   \n",
       "347       1.000000                 0.0                 0.0   \n",
       "348      -0.111111                 0.0                 0.0   \n",
       "349      -0.333333                 0.0                 0.0   \n",
       "350      -0.111111                 0.0                 0.0   \n",
       "\n",
       "     DISEASE GROUPING 4  ALBUMIN_MIN  BE_VENOUS_MIN  FFA_MEDIAN   FFA_MIN  \\\n",
       "0                   0.0     0.605263      -1.000000   -0.742004 -0.742004   \n",
       "1                   0.0     0.605263      -1.000000   -0.742004 -0.742004   \n",
       "2                   0.0    -0.263158      -1.000000   -0.194030 -0.194030   \n",
       "3                   0.0     0.605263      -1.000000   -0.829424 -0.829424   \n",
       "4                   0.0     0.605263      -1.000000   -0.742004 -0.742004   \n",
       "..                  ...          ...            ...         ...       ...   \n",
       "346                 0.0    -0.578947      -1.000000    1.000000  1.000000   \n",
       "347                 0.0     0.605263      -1.000000   -0.742004 -0.742004   \n",
       "348                 0.0     0.605263      -1.000000   -0.742004 -0.742004   \n",
       "349                 0.0     0.605263      -1.000000   -0.742004 -0.742004   \n",
       "350                 0.0     0.605263      -0.717277   -0.782516 -0.782516   \n",
       "\n",
       "     LACTATE_MEAN  LINFOCITOS_MEDIAN  ...  BLOODPRESSURE_DIASTOLIC_MEAN  \\\n",
       "0        1.000000          -0.914938  ...                      0.086420   \n",
       "1        1.000000          -0.908714  ...                     -0.489712   \n",
       "2       -0.828421          -0.836100  ...                      0.012346   \n",
       "3        1.000000          -0.641079  ...                      0.333333   \n",
       "4        1.000000          -0.340249  ...                     -0.037037   \n",
       "..            ...                ...  ...                           ...   \n",
       "346      1.000000          -0.879668  ...                     -0.160494   \n",
       "347      1.000000          -0.921162  ...                     -0.407407   \n",
       "348      1.000000          -0.838174  ...                      0.012346   \n",
       "349      1.000000          -0.819502  ...                      0.086420   \n",
       "350     -0.897773          -0.686722  ...                      0.012346   \n",
       "\n",
       "     BLOODPRESSURE_SISTOLIC_MEAN  BLOODPRESSURE_DIASTOLIC_MEDIAN  \\\n",
       "0                      -0.230769                        0.086420   \n",
       "1                      -0.685470                       -0.506173   \n",
       "2                      -0.369231                        0.012346   \n",
       "3                      -0.153846                        0.333333   \n",
       "4                      -0.538462                       -0.037037   \n",
       "..                           ...                             ...   \n",
       "346                    -0.692308                       -0.160494   \n",
       "347                    -0.692308                       -0.407407   \n",
       "348                    -0.384615                        0.012346   \n",
       "349                    -0.230769                        0.086420   \n",
       "350                    -0.292308                        0.012346   \n",
       "\n",
       "     BLOODPRESSURE_DIASTOLIC_MIN  BLOODPRESSURE_SISTOLIC_MAX  \\\n",
       "0                       0.237113                   -0.459459   \n",
       "1                      -0.525773                   -0.491892   \n",
       "2                       0.175258                   -0.556757   \n",
       "3                       0.443299                   -0.351351   \n",
       "4                       0.030928                   -0.567568   \n",
       "..                           ...                         ...   \n",
       "346                     0.030928                   -0.783784   \n",
       "347                    -0.175258                   -0.783784   \n",
       "348                     0.175258                   -0.567568   \n",
       "349                     0.237113                   -0.459459   \n",
       "350                     0.175258                   -0.502703   \n",
       "\n",
       "     BLOODPRESSURE_SISTOLIC_DIFF  RESPIRATORY_RATE_DIFF  \\\n",
       "0                      -1.000000              -1.000000   \n",
       "1                      -0.533742              -0.764706   \n",
       "2                      -1.000000              -1.000000   \n",
       "3                      -0.877301              -0.882353   \n",
       "4                      -0.754601              -1.000000   \n",
       "..                           ...                    ...   \n",
       "346                    -1.000000              -1.000000   \n",
       "347                    -1.000000              -1.000000   \n",
       "348                    -1.000000              -1.000000   \n",
       "349                    -1.000000              -1.000000   \n",
       "350                    -1.000000              -1.000000   \n",
       "\n",
       "     BLOODPRESSURE_SISTOLIC_DIFF_REL  RESPIRATORY_RATE_DIFF_REL  ICU  \n",
       "0                          -1.000000                  -1.000000    1  \n",
       "1                          -0.351328                  -0.756272    1  \n",
       "2                          -1.000000                  -1.000000    0  \n",
       "3                          -0.883669                  -0.870968    0  \n",
       "4                          -0.714460                  -1.000000    0  \n",
       "..                               ...                        ...  ...  \n",
       "346                        -1.000000                  -1.000000    1  \n",
       "347                        -1.000000                  -1.000000    0  \n",
       "348                        -1.000000                  -1.000000    1  \n",
       "349                        -1.000000                  -1.000000    0  \n",
       "350                        -1.000000                  -1.000000    0  \n",
       "\n",
       "[351 rows x 31 columns]"
      ]
     },
     "execution_count": 10,
     "metadata": {},
     "output_type": "execute_result"
    }
   ],
   "source": [
    "dados_rfe30"
   ]
  },
  {
   "cell_type": "markdown",
   "id": "329cdad0-d406-4f33-a2f6-e0786bc1bca7",
   "metadata": {},
   "source": [
    "### Matriz de correlação par os dados selecionados pelo RFE"
   ]
  },
  {
   "cell_type": "code",
   "execution_count": 11,
   "id": "62d02b20-7818-4cd6-96f2-50cb209f3617",
   "metadata": {},
   "outputs": [
    {
     "data": {
      "image/png": "[encoded data removed]",
      "text/plain": [
       "<Figure size 864x576 with 2 Axes>"
      ]
     },
     "metadata": {
      "needs_background": "light"
     },
     "output_type": "display_data"
    },
    {
     "data": {
      "image/png": "[encoded data removed]",
      "text/plain": [
       "<Figure size 864x576 with 2 Axes>"
      ]
     },
     "metadata": {
      "needs_background": "light"
     },
     "output_type": "display_data"
    }
   ],
   "source": [
    "plota_matriz_correlacao(dados_rfe30, matriz='upper')\n",
    "plota_matriz_correlacao(dados_rfe20, matriz='upper')"
   ]
  },
  {
   "cell_type": "markdown",
   "id": "7bdc129c-3a5f-4fc7-b962-cbce87c5d5ac",
   "metadata": {},
   "source": [
    "> > **Fig 3.2)** Pode-se observar que aplicar diretamente RFE não retirou a variaveis com alta correlação."
   ]
  },
  {
   "cell_type": "markdown",
   "id": "39c739ee-c6c7-4abd-bad1-810eb944de69",
   "metadata": {},
   "source": [
    "* Aplicando primeiro a remoção das variaces com alta correlação e depois o RFE"
   ]
  },
  {
   "cell_type": "code",
   "execution_count": 12,
   "id": "aadf2667-8b81-439f-a2d8-1aaba55ee104",
   "metadata": {},
   "outputs": [
    {
     "name": "stdout",
     "output_type": "stream",
     "text": [
      "79 a coluna exluidas foram\n"
     ]
    }
   ],
   "source": [
    "dados_sem_corr_acima_do_valor_de_corte, colunas_exluidas = remove_corr_valor_de_corte(dados, 0.90)\n",
    "print(f'{len(colunas_exluidas)} a coluna exluidas foram')"
   ]
  },
  {
   "cell_type": "code",
   "execution_count": 13,
   "id": "7bd7158d-33c0-4a6d-b6b5-313180133d2c",
   "metadata": {},
   "outputs": [
    {
     "name": "stdout",
     "output_type": "stream",
     "text": [
      "Número de features: 30\n",
      "Número de features: 20\n"
     ]
    }
   ],
   "source": [
    "modelo = LogisticRegression(max_iter=2000)  \n",
    "dados_rfe30 = selecao_pelo_RFE(modelo=modelo, dados=dados_sem_corr_acima_do_valor_de_corte, p_val=0.1, n_features_to_select=30, rng=rng) \n",
    "dados_rfe20 = selecao_pelo_RFE(modelo=modelo, dados=dados_sem_corr_acima_do_valor_de_corte, p_val=0.1, n_features_to_select=20, rng=rng) "
   ]
  },
  {
   "cell_type": "code",
   "execution_count": 14,
   "id": "48e45ba8-3aac-41a1-afbe-c91acb6c084a",
   "metadata": {},
   "outputs": [
    {
     "data": {
      "image/png": "[encoded data removed]",
      "text/plain": [
       "<Figure size 864x576 with 2 Axes>"
      ]
     },
     "metadata": {
      "needs_background": "light"
     },
     "output_type": "display_data"
    },
    {
     "data": {
      "image/png": "[encoded data removed]",
      "text/plain": [
       "<Figure size 864x576 with 2 Axes>"
      ]
     },
     "metadata": {
      "needs_background": "light"
     },
     "output_type": "display_data"
    }
   ],
   "source": [
    "plota_matriz_correlacao(dados_rfe30, matriz='upper')\n",
    "plota_matriz_correlacao(dados_rfe20, matriz='upper')"
   ]
  },
  {
   "cell_type": "markdown",
   "id": "be46b6b5-629b-4a24-b8d0-364c7ae7b298",
   "metadata": {},
   "source": [
    "> **Fig 3.3)** Pode-se observar agora que não temos mais correlações acima **0.9**."
   ]
  },
  {
   "cell_type": "markdown",
   "id": "e05c5312-39fe-4b85-a93c-f1919f1d5571",
   "metadata": {},
   "source": [
    "# 4) Salvando os dados"
   ]
  },
  {
   "cell_type": "code",
   "execution_count": 15,
   "id": "2fa7faf3-e64a-401f-a89b-53508760aca5",
   "metadata": {},
   "outputs": [],
   "source": [
    "path_out = '../../Dados/Tratados/'\n",
    "dados_rfe30.to_csv(path_out+'dados_rfe30.csv', index_label=False)\n",
    "dados_rfe20.to_csv(path_out+'dados_rfe20.csv', index_label=False)"
   ]
  },
  {
   "cell_type": "code",
   "execution_count": 16,
   "id": "182ba373-e840-4bf3-836a-38de0839bff6",
   "metadata": {},
   "outputs": [],
   "source": [
    "escreve_somente_as_colunas(dados_rfe30,path_out+'dados_rfe30_colunas.csv')\n",
    "escreve_somente_as_colunas(dados_rfe20,path_out+'dados_rfe20_colunas.csv')"
   ]
  },
  {
   "cell_type": "markdown",
   "id": "17843b73-d5a3-4997-ae5b-6abea46c66fa",
   "metadata": {},
   "source": [
    "---\n",
    "Navegação:\n",
    "\n",
    "---\n",
    "\n",
    "[Voltar para o Notebook anterior (Seleção de variaveis explicativas pela matriz correlação)](https://github.com/HenriqueCCdA/BC_DS_Projeto_Final/blob/main/Notebooks/Selecao_variaveis/selecao_variaveis.ipynb)\n",
    "\n",
    "[Ir para o proximo notebook (Seleção de variaveis explicativas pelo featurewiz)](https://github.com/HenriqueCCdA/BC_DS_Projeto_Final/blob/main/Notebooks/Selecao_variaveis/selecao_variaveis_featurewiz.ipynb)\n",
    "\n",
    "---\n",
    "\n",
    "[Retornar para README principal](https://github.com/HenriqueCCdA/BC_DS_Projeto_Final)\n",
    "\n",
    "---"
   ]
  }
 ],
 "metadata": {
  "kernelspec": {
   "display_name": "Python 3",
   "language": "python",
   "name": "python3"
  },
  "language_info": {
   "codemirror_mode": {
    "name": "ipython",
    "version": 3
   },
   "file_extension": ".py",
   "mimetype": "text/x-python",
   "name": "python",
   "nbconvert_exporter": "python",
   "pygments_lexer": "ipython3",
   "version": "3.8.3"
  }
 },
 "nbformat": 4,
 "nbformat_minor": 5
}
