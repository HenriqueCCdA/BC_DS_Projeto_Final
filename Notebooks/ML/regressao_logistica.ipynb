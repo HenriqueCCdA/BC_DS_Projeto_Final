{
 "cells": [
  {
   "cell_type": "markdown",
   "id": "729ead8d-a792-42dd-b17d-e0c6147f04b6",
   "metadata": {},
   "source": [
    "# 1) Resumo"
   ]
  },
  {
   "cell_type": "markdown",
   "id": "a5d9b96c-14c8-452f-a67d-c79a8dc89bae",
   "metadata": {},
   "source": [
    "---\n",
    "# 2) Pre-analise"
   ]
  },
  {
   "cell_type": "markdown",
   "id": "cc6a59d1-224d-4ac0-bad1-72f8aed40c08",
   "metadata": {},
   "source": [
    "## 2.1) Importando libs"
   ]
  },
  {
   "cell_type": "code",
   "execution_count": 74,
   "id": "c35cc1e1-ceae-49dc-a432-23149a4ce80b",
   "metadata": {},
   "outputs": [],
   "source": [
    "import pandas as pd\n",
    "#\n",
    "from sklearn.linear_model import LogisticRegression\n",
    "from sklearn.metrics import plot_confusion_matrix\n",
    "from sklearn.metrics import plot_roc_curve\n",
    "#\n",
    "import matplotlib.pyplot as plt\n",
    "#\n",
    "from scipy.stats import uniform"
   ]
  },
  {
   "cell_type": "markdown",
   "id": "a5afd0ea-4605-4e70-9495-ffaeb798da15",
   "metadata": {},
   "source": [
    "## 2.2) Minhas Funções"
   ]
  },
  {
   "cell_type": "code",
   "execution_count": 2,
   "id": "9efa6442-e7c7-4eed-8f76-11a8cd264b05",
   "metadata": {},
   "outputs": [],
   "source": [
    "import sys\n",
    "sys.path.insert(1, \"../../\")\n",
    "\n",
    "from src.plota_graficos import plota_treino_teste_auc\n",
    "from src.ml import retorna_x_y, intervalo_de_confianca, logistic_regression_sumary, roda_modelo_direto, roda_modelo_cv,\\\n",
    "                   roda_modelo_cv_randomized_search_cv, obtem_os_resultados_SearchCV, cv_val_split\n",
    "\n",
    "from src.info import proporcao_y, porcentagem_teste_treino_val"
   ]
  },
  {
   "cell_type": "markdown",
   "id": "1992dba9-5df7-4341-95a8-ffd8a02c25b0",
   "metadata": {},
   "source": [
    "---\n",
    "# 3) Lendo os dados"
   ]
  },
  {
   "cell_type": "code",
   "execution_count": 3,
   "id": "7962d1b2-719c-4338-824a-b331aaeb61ef",
   "metadata": {},
   "outputs": [
    {
     "data": {
      "text/html": [
       "<div>\n",
       "<style scoped>\n",
       "    .dataframe tbody tr th:only-of-type {\n",
       "        vertical-align: middle;\n",
       "    }\n",
       "\n",
       "    .dataframe tbody tr th {\n",
       "        vertical-align: top;\n",
       "    }\n",
       "\n",
       "    .dataframe thead th {\n",
       "        text-align: right;\n",
       "    }\n",
       "</style>\n",
       "<table border=\"1\" class=\"dataframe\">\n",
       "  <thead>\n",
       "    <tr style=\"text-align: right;\">\n",
       "      <th></th>\n",
       "      <th>AGE_ABOVE65</th>\n",
       "      <th>AGE_PERCENTIL</th>\n",
       "      <th>GENDER</th>\n",
       "      <th>DISEASE GROUPING 1</th>\n",
       "      <th>DISEASE GROUPING 2</th>\n",
       "      <th>DISEASE GROUPING 3</th>\n",
       "      <th>DISEASE GROUPING 4</th>\n",
       "      <th>DISEASE GROUPING 5</th>\n",
       "      <th>DISEASE GROUPING 6</th>\n",
       "      <th>HTN</th>\n",
       "      <th>...</th>\n",
       "      <th>UREA_MEDIAN</th>\n",
       "      <th>DIMER_MEDIAN</th>\n",
       "      <th>BLOODPRESSURE_DIASTOLIC_MEAN</th>\n",
       "      <th>BLOODPRESSURE_SISTOLIC_MEAN</th>\n",
       "      <th>HEART_RATE_MEAN</th>\n",
       "      <th>RESPIRATORY_RATE_MEAN</th>\n",
       "      <th>TEMPERATURE_MEAN</th>\n",
       "      <th>OXYGEN_SATURATION_MEAN</th>\n",
       "      <th>BLOODPRESSURE_DIASTOLIC_MAX</th>\n",
       "      <th>ICU</th>\n",
       "    </tr>\n",
       "  </thead>\n",
       "  <tbody>\n",
       "    <tr>\n",
       "      <th>0</th>\n",
       "      <td>1</td>\n",
       "      <td>0.111111</td>\n",
       "      <td>0</td>\n",
       "      <td>0.0</td>\n",
       "      <td>0.0</td>\n",
       "      <td>0.0</td>\n",
       "      <td>0.0</td>\n",
       "      <td>1.0</td>\n",
       "      <td>1.0</td>\n",
       "      <td>0.0</td>\n",
       "      <td>...</td>\n",
       "      <td>-0.836145</td>\n",
       "      <td>-0.994912</td>\n",
       "      <td>0.086420</td>\n",
       "      <td>-0.230769</td>\n",
       "      <td>-0.283019</td>\n",
       "      <td>-0.593220</td>\n",
       "      <td>-0.285714</td>\n",
       "      <td>0.736842</td>\n",
       "      <td>-0.247863</td>\n",
       "      <td>1</td>\n",
       "    </tr>\n",
       "    <tr>\n",
       "      <th>1</th>\n",
       "      <td>0</td>\n",
       "      <td>-1.000000</td>\n",
       "      <td>0</td>\n",
       "      <td>0.0</td>\n",
       "      <td>0.0</td>\n",
       "      <td>0.0</td>\n",
       "      <td>0.0</td>\n",
       "      <td>0.0</td>\n",
       "      <td>0.0</td>\n",
       "      <td>0.0</td>\n",
       "      <td>...</td>\n",
       "      <td>-0.836145</td>\n",
       "      <td>-0.978029</td>\n",
       "      <td>-0.489712</td>\n",
       "      <td>-0.685470</td>\n",
       "      <td>-0.048218</td>\n",
       "      <td>-0.645951</td>\n",
       "      <td>0.357143</td>\n",
       "      <td>0.935673</td>\n",
       "      <td>-0.435897</td>\n",
       "      <td>1</td>\n",
       "    </tr>\n",
       "    <tr>\n",
       "      <th>2</th>\n",
       "      <td>0</td>\n",
       "      <td>-0.333333</td>\n",
       "      <td>1</td>\n",
       "      <td>0.0</td>\n",
       "      <td>0.0</td>\n",
       "      <td>0.0</td>\n",
       "      <td>0.0</td>\n",
       "      <td>0.0</td>\n",
       "      <td>0.0</td>\n",
       "      <td>0.0</td>\n",
       "      <td>...</td>\n",
       "      <td>-0.937349</td>\n",
       "      <td>-0.978029</td>\n",
       "      <td>0.012346</td>\n",
       "      <td>-0.369231</td>\n",
       "      <td>-0.528302</td>\n",
       "      <td>-0.457627</td>\n",
       "      <td>-0.285714</td>\n",
       "      <td>0.684211</td>\n",
       "      <td>-0.299145</td>\n",
       "      <td>0</td>\n",
       "    </tr>\n",
       "    <tr>\n",
       "      <th>3</th>\n",
       "      <td>0</td>\n",
       "      <td>-1.000000</td>\n",
       "      <td>0</td>\n",
       "      <td>0.0</td>\n",
       "      <td>0.0</td>\n",
       "      <td>0.0</td>\n",
       "      <td>0.0</td>\n",
       "      <td>0.0</td>\n",
       "      <td>0.0</td>\n",
       "      <td>0.0</td>\n",
       "      <td>...</td>\n",
       "      <td>-0.903614</td>\n",
       "      <td>-1.000000</td>\n",
       "      <td>0.333333</td>\n",
       "      <td>-0.153846</td>\n",
       "      <td>0.160377</td>\n",
       "      <td>-0.593220</td>\n",
       "      <td>0.285714</td>\n",
       "      <td>0.868421</td>\n",
       "      <td>-0.076923</td>\n",
       "      <td>0</td>\n",
       "    </tr>\n",
       "    <tr>\n",
       "      <th>4</th>\n",
       "      <td>0</td>\n",
       "      <td>-1.000000</td>\n",
       "      <td>0</td>\n",
       "      <td>0.0</td>\n",
       "      <td>0.0</td>\n",
       "      <td>0.0</td>\n",
       "      <td>0.0</td>\n",
       "      <td>0.0</td>\n",
       "      <td>0.0</td>\n",
       "      <td>0.0</td>\n",
       "      <td>...</td>\n",
       "      <td>-0.884337</td>\n",
       "      <td>-1.000000</td>\n",
       "      <td>-0.037037</td>\n",
       "      <td>-0.538462</td>\n",
       "      <td>-0.537736</td>\n",
       "      <td>-0.525424</td>\n",
       "      <td>-0.196429</td>\n",
       "      <td>0.815789</td>\n",
       "      <td>-0.247863</td>\n",
       "      <td>0</td>\n",
       "    </tr>\n",
       "  </tbody>\n",
       "</table>\n",
       "<p>5 rows × 53 columns</p>\n",
       "</div>"
      ],
      "text/plain": [
       "   AGE_ABOVE65  AGE_PERCENTIL  GENDER  DISEASE GROUPING 1  DISEASE GROUPING 2  \\\n",
       "0            1       0.111111       0                 0.0                 0.0   \n",
       "1            0      -1.000000       0                 0.0                 0.0   \n",
       "2            0      -0.333333       1                 0.0                 0.0   \n",
       "3            0      -1.000000       0                 0.0                 0.0   \n",
       "4            0      -1.000000       0                 0.0                 0.0   \n",
       "\n",
       "   DISEASE GROUPING 3  DISEASE GROUPING 4  DISEASE GROUPING 5  \\\n",
       "0                 0.0                 0.0                 1.0   \n",
       "1                 0.0                 0.0                 0.0   \n",
       "2                 0.0                 0.0                 0.0   \n",
       "3                 0.0                 0.0                 0.0   \n",
       "4                 0.0                 0.0                 0.0   \n",
       "\n",
       "   DISEASE GROUPING 6  HTN  ...  UREA_MEDIAN  DIMER_MEDIAN  \\\n",
       "0                 1.0  0.0  ...    -0.836145     -0.994912   \n",
       "1                 0.0  0.0  ...    -0.836145     -0.978029   \n",
       "2                 0.0  0.0  ...    -0.937349     -0.978029   \n",
       "3                 0.0  0.0  ...    -0.903614     -1.000000   \n",
       "4                 0.0  0.0  ...    -0.884337     -1.000000   \n",
       "\n",
       "   BLOODPRESSURE_DIASTOLIC_MEAN  BLOODPRESSURE_SISTOLIC_MEAN  HEART_RATE_MEAN  \\\n",
       "0                      0.086420                    -0.230769        -0.283019   \n",
       "1                     -0.489712                    -0.685470        -0.048218   \n",
       "2                      0.012346                    -0.369231        -0.528302   \n",
       "3                      0.333333                    -0.153846         0.160377   \n",
       "4                     -0.037037                    -0.538462        -0.537736   \n",
       "\n",
       "   RESPIRATORY_RATE_MEAN  TEMPERATURE_MEAN  OXYGEN_SATURATION_MEAN  \\\n",
       "0              -0.593220         -0.285714                0.736842   \n",
       "1              -0.645951          0.357143                0.935673   \n",
       "2              -0.457627         -0.285714                0.684211   \n",
       "3              -0.593220          0.285714                0.868421   \n",
       "4              -0.525424         -0.196429                0.815789   \n",
       "\n",
       "   BLOODPRESSURE_DIASTOLIC_MAX  ICU  \n",
       "0                    -0.247863    1  \n",
       "1                    -0.435897    1  \n",
       "2                    -0.299145    0  \n",
       "3                    -0.076923    0  \n",
       "4                    -0.247863    0  \n",
       "\n",
       "[5 rows x 53 columns]"
      ]
     },
     "execution_count": 3,
     "metadata": {},
     "output_type": "execute_result"
    }
   ],
   "source": [
    "path = \"https://raw.githubusercontent.com/HenriqueCCdA/BC_DS_Projeto_Final/main/Dados/Tratados/dados_sem_coor_acima_do_valor_de_corte.csv\"\n",
    "\n",
    "dados_com_corte = pd.read_csv(path)\n",
    "\n",
    "dados_com_corte.head(n=5)"
   ]
  },
  {
   "cell_type": "code",
   "execution_count": 4,
   "id": "14f59403-2451-4197-9d9a-49a7916b8952",
   "metadata": {},
   "outputs": [
    {
     "name": "stdout",
     "output_type": "stream",
     "text": [
      "<class 'pandas.core.frame.DataFrame'>\n",
      "Int64Index: 351 entries, 0 to 350\n",
      "Data columns (total 53 columns):\n",
      " #   Column                        Non-Null Count  Dtype  \n",
      "---  ------                        --------------  -----  \n",
      " 0   AGE_ABOVE65                   351 non-null    int64  \n",
      " 1   AGE_PERCENTIL                 351 non-null    float64\n",
      " 2   GENDER                        351 non-null    int64  \n",
      " 3   DISEASE GROUPING 1            351 non-null    float64\n",
      " 4   DISEASE GROUPING 2            351 non-null    float64\n",
      " 5   DISEASE GROUPING 3            351 non-null    float64\n",
      " 6   DISEASE GROUPING 4            351 non-null    float64\n",
      " 7   DISEASE GROUPING 5            351 non-null    float64\n",
      " 8   DISEASE GROUPING 6            351 non-null    float64\n",
      " 9   HTN                           351 non-null    float64\n",
      " 10  IMMUNOCOMPROMISED             351 non-null    float64\n",
      " 11  OTHER                         351 non-null    float64\n",
      " 12  ALBUMIN_MEDIAN                351 non-null    float64\n",
      " 13  BE_ARTERIAL_MEDIAN            351 non-null    float64\n",
      " 14  BE_VENOUS_MEDIAN              351 non-null    float64\n",
      " 15  BIC_VENOUS_MEDIAN             351 non-null    float64\n",
      " 16  BILLIRUBIN_MEDIAN             351 non-null    float64\n",
      " 17  BLAST_MEDIAN                  351 non-null    float64\n",
      " 18  CALCIUM_MEDIAN                351 non-null    float64\n",
      " 19  CREATININ_MEDIAN              351 non-null    float64\n",
      " 20  FFA_MEDIAN                    351 non-null    float64\n",
      " 21  GGT_MEDIAN                    351 non-null    float64\n",
      " 22  GLUCOSE_MEDIAN                351 non-null    float64\n",
      " 23  HEMATOCRITE_MEDIAN            351 non-null    float64\n",
      " 24  INR_MEDIAN                    351 non-null    float64\n",
      " 25  LACTATE_MEDIAN                351 non-null    float64\n",
      " 26  LEUKOCYTES_MEDIAN             351 non-null    float64\n",
      " 27  LINFOCITOS_MEDIAN             351 non-null    float64\n",
      " 28  P02_ARTERIAL_MEDIAN           351 non-null    float64\n",
      " 29  P02_VENOUS_MEDIAN             351 non-null    float64\n",
      " 30  PC02_ARTERIAL_MEDIAN          351 non-null    float64\n",
      " 31  PC02_VENOUS_MEDIAN            351 non-null    float64\n",
      " 32  PCR_MEDIAN                    351 non-null    float64\n",
      " 33  PH_ARTERIAL_MEDIAN            351 non-null    float64\n",
      " 34  PH_VENOUS_MEDIAN              351 non-null    float64\n",
      " 35  PLATELETS_MEDIAN              351 non-null    float64\n",
      " 36  POTASSIUM_MEDIAN              351 non-null    float64\n",
      " 37  SAT02_ARTERIAL_MEDIAN         351 non-null    float64\n",
      " 38  SAT02_VENOUS_MEDIAN           351 non-null    float64\n",
      " 39  SODIUM_MEDIAN                 351 non-null    float64\n",
      " 40  TGO_MEDIAN                    351 non-null    float64\n",
      " 41  TGP_MEDIAN                    351 non-null    float64\n",
      " 42  TTPA_MEDIAN                   351 non-null    float64\n",
      " 43  UREA_MEDIAN                   351 non-null    float64\n",
      " 44  DIMER_MEDIAN                  351 non-null    float64\n",
      " 45  BLOODPRESSURE_DIASTOLIC_MEAN  351 non-null    float64\n",
      " 46  BLOODPRESSURE_SISTOLIC_MEAN   351 non-null    float64\n",
      " 47  HEART_RATE_MEAN               351 non-null    float64\n",
      " 48  RESPIRATORY_RATE_MEAN         351 non-null    float64\n",
      " 49  TEMPERATURE_MEAN              351 non-null    float64\n",
      " 50  OXYGEN_SATURATION_MEAN        351 non-null    float64\n",
      " 51  BLOODPRESSURE_DIASTOLIC_MAX   351 non-null    float64\n",
      " 52  ICU                           351 non-null    int64  \n",
      "dtypes: float64(50), int64(3)\n",
      "memory usage: 148.1 KB\n"
     ]
    }
   ],
   "source": [
    "dados_com_corte.info()"
   ]
  },
  {
   "cell_type": "code",
   "execution_count": 5,
   "id": "154fb54e-d80d-49b4-adbd-27c5a715ca5f",
   "metadata": {},
   "outputs": [
    {
     "data": {
      "text/html": [
       "<div>\n",
       "<style scoped>\n",
       "    .dataframe tbody tr th:only-of-type {\n",
       "        vertical-align: middle;\n",
       "    }\n",
       "\n",
       "    .dataframe tbody tr th {\n",
       "        vertical-align: top;\n",
       "    }\n",
       "\n",
       "    .dataframe thead th {\n",
       "        text-align: right;\n",
       "    }\n",
       "</style>\n",
       "<table border=\"1\" class=\"dataframe\">\n",
       "  <thead>\n",
       "    <tr style=\"text-align: right;\">\n",
       "      <th></th>\n",
       "      <th>AGE_ABOVE65</th>\n",
       "      <th>AGE_PERCENTIL</th>\n",
       "      <th>GENDER</th>\n",
       "      <th>DISEASE GROUPING 1</th>\n",
       "      <th>DISEASE GROUPING 2</th>\n",
       "      <th>DISEASE GROUPING 3</th>\n",
       "      <th>DISEASE GROUPING 4</th>\n",
       "      <th>DISEASE GROUPING 5</th>\n",
       "      <th>DISEASE GROUPING 6</th>\n",
       "      <th>HTN</th>\n",
       "      <th>...</th>\n",
       "      <th>UREA_MEDIAN</th>\n",
       "      <th>DIMER_MEDIAN</th>\n",
       "      <th>BLOODPRESSURE_DIASTOLIC_MEAN</th>\n",
       "      <th>BLOODPRESSURE_SISTOLIC_MEAN</th>\n",
       "      <th>HEART_RATE_MEAN</th>\n",
       "      <th>RESPIRATORY_RATE_MEAN</th>\n",
       "      <th>TEMPERATURE_MEAN</th>\n",
       "      <th>OXYGEN_SATURATION_MEAN</th>\n",
       "      <th>BLOODPRESSURE_DIASTOLIC_MAX</th>\n",
       "      <th>ICU</th>\n",
       "    </tr>\n",
       "  </thead>\n",
       "  <tbody>\n",
       "    <tr>\n",
       "      <th>count</th>\n",
       "      <td>351.000000</td>\n",
       "      <td>351.000000</td>\n",
       "      <td>351.000000</td>\n",
       "      <td>351.000000</td>\n",
       "      <td>351.000000</td>\n",
       "      <td>351.000000</td>\n",
       "      <td>351.000000</td>\n",
       "      <td>351.000000</td>\n",
       "      <td>351.000000</td>\n",
       "      <td>351.000000</td>\n",
       "      <td>...</td>\n",
       "      <td>351.000000</td>\n",
       "      <td>351.000000</td>\n",
       "      <td>351.000000</td>\n",
       "      <td>351.000000</td>\n",
       "      <td>351.000000</td>\n",
       "      <td>351.000000</td>\n",
       "      <td>351.000000</td>\n",
       "      <td>351.000000</td>\n",
       "      <td>351.000000</td>\n",
       "      <td>351.000000</td>\n",
       "    </tr>\n",
       "    <tr>\n",
       "      <th>mean</th>\n",
       "      <td>0.458689</td>\n",
       "      <td>-0.046534</td>\n",
       "      <td>0.381766</td>\n",
       "      <td>0.108262</td>\n",
       "      <td>0.022792</td>\n",
       "      <td>0.091168</td>\n",
       "      <td>0.019943</td>\n",
       "      <td>0.128205</td>\n",
       "      <td>0.045584</td>\n",
       "      <td>0.196581</td>\n",
       "      <td>...</td>\n",
       "      <td>-0.841746</td>\n",
       "      <td>-0.960159</td>\n",
       "      <td>-0.045990</td>\n",
       "      <td>-0.318411</td>\n",
       "      <td>-0.240403</td>\n",
       "      <td>-0.468207</td>\n",
       "      <td>0.097772</td>\n",
       "      <td>0.760029</td>\n",
       "      <td>-0.313074</td>\n",
       "      <td>0.461538</td>\n",
       "    </tr>\n",
       "    <tr>\n",
       "      <th>std</th>\n",
       "      <td>0.499002</td>\n",
       "      <td>0.640366</td>\n",
       "      <td>0.486513</td>\n",
       "      <td>0.311155</td>\n",
       "      <td>0.149453</td>\n",
       "      <td>0.288259</td>\n",
       "      <td>0.140004</td>\n",
       "      <td>0.334795</td>\n",
       "      <td>0.208879</td>\n",
       "      <td>0.397980</td>\n",
       "      <td>...</td>\n",
       "      <td>0.135197</td>\n",
       "      <td>0.098682</td>\n",
       "      <td>0.253692</td>\n",
       "      <td>0.274796</td>\n",
       "      <td>0.278347</td>\n",
       "      <td>0.213326</td>\n",
       "      <td>0.272230</td>\n",
       "      <td>0.116880</td>\n",
       "      <td>0.185592</td>\n",
       "      <td>0.499230</td>\n",
       "    </tr>\n",
       "    <tr>\n",
       "      <th>min</th>\n",
       "      <td>0.000000</td>\n",
       "      <td>-1.000000</td>\n",
       "      <td>0.000000</td>\n",
       "      <td>0.000000</td>\n",
       "      <td>0.000000</td>\n",
       "      <td>0.000000</td>\n",
       "      <td>0.000000</td>\n",
       "      <td>0.000000</td>\n",
       "      <td>0.000000</td>\n",
       "      <td>0.000000</td>\n",
       "      <td>...</td>\n",
       "      <td>-0.971084</td>\n",
       "      <td>-1.000000</td>\n",
       "      <td>-0.654321</td>\n",
       "      <td>-0.938462</td>\n",
       "      <td>-0.823899</td>\n",
       "      <td>-0.954802</td>\n",
       "      <td>-0.571429</td>\n",
       "      <td>0.263158</td>\n",
       "      <td>-0.760684</td>\n",
       "      <td>0.000000</td>\n",
       "    </tr>\n",
       "    <tr>\n",
       "      <th>25%</th>\n",
       "      <td>0.000000</td>\n",
       "      <td>-0.555556</td>\n",
       "      <td>0.000000</td>\n",
       "      <td>0.000000</td>\n",
       "      <td>0.000000</td>\n",
       "      <td>0.000000</td>\n",
       "      <td>0.000000</td>\n",
       "      <td>0.000000</td>\n",
       "      <td>0.000000</td>\n",
       "      <td>0.000000</td>\n",
       "      <td>...</td>\n",
       "      <td>-0.898795</td>\n",
       "      <td>-0.983811</td>\n",
       "      <td>-0.185185</td>\n",
       "      <td>-0.538462</td>\n",
       "      <td>-0.415094</td>\n",
       "      <td>-0.593220</td>\n",
       "      <td>-0.107143</td>\n",
       "      <td>0.684211</td>\n",
       "      <td>-0.418803</td>\n",
       "      <td>0.000000</td>\n",
       "    </tr>\n",
       "    <tr>\n",
       "      <th>50%</th>\n",
       "      <td>0.000000</td>\n",
       "      <td>-0.111111</td>\n",
       "      <td>0.000000</td>\n",
       "      <td>0.000000</td>\n",
       "      <td>0.000000</td>\n",
       "      <td>0.000000</td>\n",
       "      <td>0.000000</td>\n",
       "      <td>0.000000</td>\n",
       "      <td>0.000000</td>\n",
       "      <td>0.000000</td>\n",
       "      <td>...</td>\n",
       "      <td>-0.874699</td>\n",
       "      <td>-0.978029</td>\n",
       "      <td>-0.037037</td>\n",
       "      <td>-0.369231</td>\n",
       "      <td>-0.283019</td>\n",
       "      <td>-0.525424</td>\n",
       "      <td>0.071429</td>\n",
       "      <td>0.789474</td>\n",
       "      <td>-0.299145</td>\n",
       "      <td>0.000000</td>\n",
       "    </tr>\n",
       "    <tr>\n",
       "      <th>75%</th>\n",
       "      <td>1.000000</td>\n",
       "      <td>0.555556</td>\n",
       "      <td>1.000000</td>\n",
       "      <td>0.000000</td>\n",
       "      <td>0.000000</td>\n",
       "      <td>0.000000</td>\n",
       "      <td>0.000000</td>\n",
       "      <td>0.000000</td>\n",
       "      <td>0.000000</td>\n",
       "      <td>0.000000</td>\n",
       "      <td>...</td>\n",
       "      <td>-0.821687</td>\n",
       "      <td>-0.971784</td>\n",
       "      <td>0.086420</td>\n",
       "      <td>-0.153846</td>\n",
       "      <td>-0.094340</td>\n",
       "      <td>-0.389831</td>\n",
       "      <td>0.250000</td>\n",
       "      <td>0.842105</td>\n",
       "      <td>-0.213675</td>\n",
       "      <td>1.000000</td>\n",
       "    </tr>\n",
       "    <tr>\n",
       "      <th>max</th>\n",
       "      <td>1.000000</td>\n",
       "      <td>1.000000</td>\n",
       "      <td>1.000000</td>\n",
       "      <td>1.000000</td>\n",
       "      <td>1.000000</td>\n",
       "      <td>1.000000</td>\n",
       "      <td>1.000000</td>\n",
       "      <td>1.000000</td>\n",
       "      <td>1.000000</td>\n",
       "      <td>1.000000</td>\n",
       "      <td>...</td>\n",
       "      <td>1.000000</td>\n",
       "      <td>0.513241</td>\n",
       "      <td>0.604938</td>\n",
       "      <td>0.553846</td>\n",
       "      <td>1.000000</td>\n",
       "      <td>0.830508</td>\n",
       "      <td>0.964286</td>\n",
       "      <td>1.000000</td>\n",
       "      <td>0.487179</td>\n",
       "      <td>1.000000</td>\n",
       "    </tr>\n",
       "  </tbody>\n",
       "</table>\n",
       "<p>8 rows × 53 columns</p>\n",
       "</div>"
      ],
      "text/plain": [
       "       AGE_ABOVE65  AGE_PERCENTIL      GENDER  DISEASE GROUPING 1  \\\n",
       "count   351.000000     351.000000  351.000000          351.000000   \n",
       "mean      0.458689      -0.046534    0.381766            0.108262   \n",
       "std       0.499002       0.640366    0.486513            0.311155   \n",
       "min       0.000000      -1.000000    0.000000            0.000000   \n",
       "25%       0.000000      -0.555556    0.000000            0.000000   \n",
       "50%       0.000000      -0.111111    0.000000            0.000000   \n",
       "75%       1.000000       0.555556    1.000000            0.000000   \n",
       "max       1.000000       1.000000    1.000000            1.000000   \n",
       "\n",
       "       DISEASE GROUPING 2  DISEASE GROUPING 3  DISEASE GROUPING 4  \\\n",
       "count          351.000000          351.000000          351.000000   \n",
       "mean             0.022792            0.091168            0.019943   \n",
       "std              0.149453            0.288259            0.140004   \n",
       "min              0.000000            0.000000            0.000000   \n",
       "25%              0.000000            0.000000            0.000000   \n",
       "50%              0.000000            0.000000            0.000000   \n",
       "75%              0.000000            0.000000            0.000000   \n",
       "max              1.000000            1.000000            1.000000   \n",
       "\n",
       "       DISEASE GROUPING 5  DISEASE GROUPING 6         HTN  ...  UREA_MEDIAN  \\\n",
       "count          351.000000          351.000000  351.000000  ...   351.000000   \n",
       "mean             0.128205            0.045584    0.196581  ...    -0.841746   \n",
       "std              0.334795            0.208879    0.397980  ...     0.135197   \n",
       "min              0.000000            0.000000    0.000000  ...    -0.971084   \n",
       "25%              0.000000            0.000000    0.000000  ...    -0.898795   \n",
       "50%              0.000000            0.000000    0.000000  ...    -0.874699   \n",
       "75%              0.000000            0.000000    0.000000  ...    -0.821687   \n",
       "max              1.000000            1.000000    1.000000  ...     1.000000   \n",
       "\n",
       "       DIMER_MEDIAN  BLOODPRESSURE_DIASTOLIC_MEAN  \\\n",
       "count    351.000000                    351.000000   \n",
       "mean      -0.960159                     -0.045990   \n",
       "std        0.098682                      0.253692   \n",
       "min       -1.000000                     -0.654321   \n",
       "25%       -0.983811                     -0.185185   \n",
       "50%       -0.978029                     -0.037037   \n",
       "75%       -0.971784                      0.086420   \n",
       "max        0.513241                      0.604938   \n",
       "\n",
       "       BLOODPRESSURE_SISTOLIC_MEAN  HEART_RATE_MEAN  RESPIRATORY_RATE_MEAN  \\\n",
       "count                   351.000000       351.000000             351.000000   \n",
       "mean                     -0.318411        -0.240403              -0.468207   \n",
       "std                       0.274796         0.278347               0.213326   \n",
       "min                      -0.938462        -0.823899              -0.954802   \n",
       "25%                      -0.538462        -0.415094              -0.593220   \n",
       "50%                      -0.369231        -0.283019              -0.525424   \n",
       "75%                      -0.153846        -0.094340              -0.389831   \n",
       "max                       0.553846         1.000000               0.830508   \n",
       "\n",
       "       TEMPERATURE_MEAN  OXYGEN_SATURATION_MEAN  BLOODPRESSURE_DIASTOLIC_MAX  \\\n",
       "count        351.000000              351.000000                   351.000000   \n",
       "mean           0.097772                0.760029                    -0.313074   \n",
       "std            0.272230                0.116880                     0.185592   \n",
       "min           -0.571429                0.263158                    -0.760684   \n",
       "25%           -0.107143                0.684211                    -0.418803   \n",
       "50%            0.071429                0.789474                    -0.299145   \n",
       "75%            0.250000                0.842105                    -0.213675   \n",
       "max            0.964286                1.000000                     0.487179   \n",
       "\n",
       "              ICU  \n",
       "count  351.000000  \n",
       "mean     0.461538  \n",
       "std      0.499230  \n",
       "min      0.000000  \n",
       "25%      0.000000  \n",
       "50%      0.000000  \n",
       "75%      1.000000  \n",
       "max      1.000000  \n",
       "\n",
       "[8 rows x 53 columns]"
      ]
     },
     "execution_count": 5,
     "metadata": {},
     "output_type": "execute_result"
    }
   ],
   "source": [
    "dados_com_corte.describe()"
   ]
  },
  {
   "cell_type": "code",
   "execution_count": 75,
   "id": "30038072-89c4-47c8-85c6-7047ad8f6885",
   "metadata": {},
   "outputs": [],
   "source": [
    "x_cv, x_val, y_cv, y_val = cv_val_split(dados_com_corte, p_val = .15)"
   ]
  },
  {
   "cell_type": "code",
   "execution_count": 76,
   "id": "2079349a-da64-47d0-a7ce-727efdbb03e6",
   "metadata": {},
   "outputs": [
    {
     "name": "stdout",
     "output_type": "stream",
     "text": [
      "Proporcao do ICU\n",
      "Campo 0 ->  53.85%\n",
      "Campo 1 ->  46.15%\n",
      "Proporcao do ICU\n",
      "Campo 0 ->  54.72%\n",
      "Campo 1 ->  45.28%\n",
      "Proporcao do ICU\n",
      "Campo 0 ->  53.69%\n",
      "Campo 1 ->  46.31%\n"
     ]
    }
   ],
   "source": [
    "proporcao_y(dados_com_corte['ICU'])\n",
    "proporcao_y(y_val)\n",
    "proporcao_y(y_cv )"
   ]
  },
  {
   "cell_type": "code",
   "execution_count": 77,
   "id": "389ab115-eb65-43b7-86bf-6210af565034",
   "metadata": {},
   "outputs": [
    {
     "name": "stdout",
     "output_type": "stream",
     "text": [
      "Número total de entradas                         : 351\n",
      "Número total de entradas para validacao          : 53\n",
      "Número total de entradas para o Cross Validation : 298\n"
     ]
    }
   ],
   "source": [
    "porcentagem_teste_treino_val(dados_com_corte['ICU'], y_val, y_cv)"
   ]
  },
  {
   "cell_type": "markdown",
   "id": "9991a84d-bfb5-42fe-99cf-f746d5f73b2b",
   "metadata": {},
   "source": [
    "# 4) Modelo de ML"
   ]
  },
  {
   "cell_type": "markdown",
   "id": "da9d8e43-2575-408e-b33d-3cbdd3f265bc",
   "metadata": {},
   "source": [
    "# 4.1) Rodando o modelo de maneira direta"
   ]
  },
  {
   "cell_type": "code",
   "execution_count": 78,
   "id": "532cd20e-4dcf-4cf2-9dd7-b93b2e75dc8d",
   "metadata": {},
   "outputs": [],
   "source": [
    "modelo_lr = LogisticRegression()"
   ]
  },
  {
   "cell_type": "code",
   "execution_count": 79,
   "id": "df07f9e2-3f65-47fd-b519-a8ef750703ab",
   "metadata": {},
   "outputs": [
    {
     "name": "stdout",
     "output_type": "stream",
     "text": [
      "Tamanho teste :   30\n",
      "Tamanho treino:  268\n",
      "AUC Teste     : 0.80\n",
      "AUC Treino    : 0.85\n"
     ]
    }
   ],
   "source": [
    "roda_modelo_direto(modelo_lr, x_cv, y_cv, seed = 42258)"
   ]
  },
  {
   "cell_type": "markdown",
   "id": "52a467ed-ad80-4537-b22d-305a6bbb3c5b",
   "metadata": {},
   "source": [
    "# 4.1) Rodando o modelo usando o Cross Validation"
   ]
  },
  {
   "cell_type": "code",
   "execution_count": 80,
   "id": "7806cb87-6d45-43f7-a05b-43593cc474da",
   "metadata": {},
   "outputs": [
    {
     "name": "stdout",
     "output_type": "stream",
     "text": [
      "AUC Teste : 0.77 - [0.68 - 0.87]\n",
      "AUC Treino: 0.85 - [0.83 - 0.88]\n"
     ]
    }
   ],
   "source": [
    "_, _ = roda_modelo_cv(modelo_lr, x_cv, y_cv)"
   ]
  },
  {
   "cell_type": "markdown",
   "id": "fa8c2060-a9de-4131-958b-3628f0e971cb",
   "metadata": {},
   "source": [
    "## 4.2) Rodando o modelo usando cross Validation e busca pelos melhores hyperparametros\n",
    "\n",
    "> Aqui foi usado **RandomizedSearchCV** com **10** iterações. O único hyperparametro procurado foi **C**. O intervalor de busca  de **C** foi **[0, 4]**.\n",
    "A opção **refit** foi deixado como **true** logo depois que o melhor modelo for selecioando o RandomizedSearchCV **re-treina** esse modelo com o dataset completo (treino+teste). "
   ]
  },
  {
   "cell_type": "code",
   "execution_count": 81,
   "id": "30fe7aeb-105c-4969-99f3-ca707f75a6cb",
   "metadata": {},
   "outputs": [
    {
     "name": "stdout",
     "output_type": "stream",
     "text": [
      "Fitting 50 folds for each of 20 candidates, totalling 1000 fits\n"
     ]
    }
   ],
   "source": [
    "parameters = {'C': uniform(loc=0, scale=4)}\n",
    "modelo = LogisticRegression(max_iter=1000, tol=1e-6)\n",
    "\n",
    "resultados, melhor_modelo, melhores_hyperparametros  = roda_modelo_cv_randomized_search_cv(modelo,\n",
    "                                                                                            x_cv,\n",
    "                                                                                            y_cv,\n",
    "                                                                                            parameters,\n",
    "                                                                                            n_splits=5,\n",
    "                                                                                            n_repeats=10,\n",
    "                                                                                            n_iter=20,\n",
    "                                                                                            seed=14715)"
   ]
  },
  {
   "cell_type": "code",
   "execution_count": 82,
   "id": "d012fdcf-8fd6-45cf-b875-cbb121f53175",
   "metadata": {},
   "outputs": [
    {
     "data": {
      "text/html": [
       "<div>\n",
       "<style scoped>\n",
       "    .dataframe tbody tr th:only-of-type {\n",
       "        vertical-align: middle;\n",
       "    }\n",
       "\n",
       "    .dataframe tbody tr th {\n",
       "        vertical-align: top;\n",
       "    }\n",
       "\n",
       "    .dataframe thead th {\n",
       "        text-align: right;\n",
       "    }\n",
       "</style>\n",
       "<table border=\"1\" class=\"dataframe\">\n",
       "  <thead>\n",
       "    <tr style=\"text-align: right;\">\n",
       "      <th></th>\n",
       "      <th>paramentros</th>\n",
       "      <th>media_teste</th>\n",
       "      <th>media_treino</th>\n",
       "      <th>std_teste</th>\n",
       "      <th>std_treino</th>\n",
       "      <th>mean_fit_time</th>\n",
       "      <th>std_fit_time</th>\n",
       "      <th>mean_score_time</th>\n",
       "      <th>std_score_time</th>\n",
       "      <th>rank_test_score</th>\n",
       "    </tr>\n",
       "  </thead>\n",
       "  <tbody>\n",
       "    <tr>\n",
       "      <th>0</th>\n",
       "      <td>{'C': 2.9403726439047437}</td>\n",
       "      <td>0.765710</td>\n",
       "      <td>0.867434</td>\n",
       "      <td>0.047053</td>\n",
       "      <td>0.009485</td>\n",
       "      <td>0.082329</td>\n",
       "      <td>0.016573</td>\n",
       "      <td>0.007721</td>\n",
       "      <td>0.001563</td>\n",
       "      <td>13</td>\n",
       "    </tr>\n",
       "    <tr>\n",
       "      <th>1</th>\n",
       "      <td>{'C': 0.8236321513787566}</td>\n",
       "      <td>0.774841</td>\n",
       "      <td>0.850324</td>\n",
       "      <td>0.044493</td>\n",
       "      <td>0.009077</td>\n",
       "      <td>0.042460</td>\n",
       "      <td>0.007677</td>\n",
       "      <td>0.007561</td>\n",
       "      <td>0.002632</td>\n",
       "      <td>1</td>\n",
       "    </tr>\n",
       "    <tr>\n",
       "      <th>2</th>\n",
       "      <td>{'C': 1.8107081253404766}</td>\n",
       "      <td>0.770137</td>\n",
       "      <td>0.861051</td>\n",
       "      <td>0.045532</td>\n",
       "      <td>0.009458</td>\n",
       "      <td>0.057919</td>\n",
       "      <td>0.012576</td>\n",
       "      <td>0.007160</td>\n",
       "      <td>0.002949</td>\n",
       "      <td>5</td>\n",
       "    </tr>\n",
       "    <tr>\n",
       "      <th>3</th>\n",
       "      <td>{'C': 1.4507591152545065}</td>\n",
       "      <td>0.771309</td>\n",
       "      <td>0.858087</td>\n",
       "      <td>0.045024</td>\n",
       "      <td>0.009393</td>\n",
       "      <td>0.048479</td>\n",
       "      <td>0.006326</td>\n",
       "      <td>0.006520</td>\n",
       "      <td>0.001044</td>\n",
       "      <td>3</td>\n",
       "    </tr>\n",
       "    <tr>\n",
       "      <th>4</th>\n",
       "      <td>{'C': 1.3163817298661398}</td>\n",
       "      <td>0.771752</td>\n",
       "      <td>0.856748</td>\n",
       "      <td>0.044983</td>\n",
       "      <td>0.009368</td>\n",
       "      <td>0.050259</td>\n",
       "      <td>0.023128</td>\n",
       "      <td>0.006741</td>\n",
       "      <td>0.001146</td>\n",
       "      <td>2</td>\n",
       "    </tr>\n",
       "  </tbody>\n",
       "</table>\n",
       "</div>"
      ],
      "text/plain": [
       "                 paramentros  media_teste  media_treino  std_teste  \\\n",
       "0  {'C': 2.9403726439047437}     0.765710      0.867434   0.047053   \n",
       "1  {'C': 0.8236321513787566}     0.774841      0.850324   0.044493   \n",
       "2  {'C': 1.8107081253404766}     0.770137      0.861051   0.045532   \n",
       "3  {'C': 1.4507591152545065}     0.771309      0.858087   0.045024   \n",
       "4  {'C': 1.3163817298661398}     0.771752      0.856748   0.044983   \n",
       "\n",
       "   std_treino  mean_fit_time  std_fit_time  mean_score_time  std_score_time  \\\n",
       "0    0.009485       0.082329      0.016573         0.007721        0.001563   \n",
       "1    0.009077       0.042460      0.007677         0.007561        0.002632   \n",
       "2    0.009458       0.057919      0.012576         0.007160        0.002949   \n",
       "3    0.009393       0.048479      0.006326         0.006520        0.001044   \n",
       "4    0.009368       0.050259      0.023128         0.006741        0.001146   \n",
       "\n",
       "   rank_test_score  \n",
       "0               13  \n",
       "1                1  \n",
       "2                5  \n",
       "3                3  \n",
       "4                2  "
      ]
     },
     "execution_count": 82,
     "metadata": {},
     "output_type": "execute_result"
    }
   ],
   "source": [
    "resultados.head(n=5)"
   ]
  },
  {
   "cell_type": "markdown",
   "id": "1d86e4e4-a73d-4c73-9d97-fc5996e413b3",
   "metadata": {},
   "source": [
    "> O Melhor modelo acho foi:"
   ]
  },
  {
   "cell_type": "code",
   "execution_count": 83,
   "id": "e0f8d2ec-e083-474b-a71c-41de3bb3f045",
   "metadata": {},
   "outputs": [
    {
     "data": {
      "text/plain": [
       "LogisticRegression(C=0.8236321513787566, max_iter=1000, tol=1e-06)"
      ]
     },
     "execution_count": 83,
     "metadata": {},
     "output_type": "execute_result"
    }
   ],
   "source": [
    "melhor_modelo"
   ]
  },
  {
   "cell_type": "markdown",
   "id": "e758ba1f-5f28-4367-a4e4-fdbb572fd744",
   "metadata": {},
   "source": [
    "> O Melhor hyperparametro foi:"
   ]
  },
  {
   "cell_type": "code",
   "execution_count": 84,
   "id": "eb4ae04f-9072-4205-a4c9-4b4a96fec432",
   "metadata": {},
   "outputs": [
    {
     "data": {
      "text/plain": [
       "{'C': 0.8236321513787566}"
      ]
     },
     "execution_count": 84,
     "metadata": {},
     "output_type": "execute_result"
    }
   ],
   "source": [
    "melhores_hyperparametros"
   ]
  },
  {
   "cell_type": "markdown",
   "id": "397ddd01-db69-4880-a243-7e1961888ddb",
   "metadata": {},
   "source": [
    "### Plotando a curva do Cross Vaditaion"
   ]
  },
  {
   "cell_type": "code",
   "execution_count": 85,
   "id": "a17fd9b2-3917-4952-81d2-f08d2234bb2b",
   "metadata": {},
   "outputs": [
    {
     "data": {
      "image/png": "[encoded data removed]",
      "text/plain": [
       "<Figure size 1152x576 with 1 Axes>"
      ]
     },
     "metadata": {},
     "output_type": "display_data"
    }
   ],
   "source": [
    "plota_treino_teste_auc('Seleção de Hyperparametros', \n",
    "                       resultados['media_teste'],\n",
    "                       resultados['media_treino'],\n",
    "                       resultados['rank_test_score'],\n",
    "                       melhores_hyperparamentros)"
   ]
  },
  {
   "cell_type": "markdown",
   "id": "b882444c-5575-457b-8c5f-cb6e6e60c311",
   "metadata": {},
   "source": [
    "> Neste gráfico temos o valor médio de AUC obtido pelo CrossValidation para dados de **Treino** e **Teste**. O Melhor Seleção de Hyperparametro foi C = **0.82**"
   ]
  },
  {
   "cell_type": "markdown",
   "id": "aef917a4-d5cc-4939-b9c6-bee502366258",
   "metadata": {},
   "source": [
    "## 4.2) Avaliando o melhor modelo\n",
    "\n",
    "> Agora vamos avaliar o melhor modelo encontrado utilizando o dados de validação."
   ]
  },
  {
   "cell_type": "code",
   "execution_count": 86,
   "id": "a4b33e29-dcd1-4045-86a5-9992bc25f4ce",
   "metadata": {},
   "outputs": [
    {
     "data": {
      "text/plain": [
       "<sklearn.metrics._plot.confusion_matrix.ConfusionMatrixDisplay at 0x256775099d0>"
      ]
     },
     "execution_count": 86,
     "metadata": {},
     "output_type": "execute_result"
    },
    {
     "data": {
      "image/png": "[encoded data removed]",
      "text/plain": [
       "<Figure size 1440x720 with 4 Axes>"
      ]
     },
     "metadata": {
      "needs_background": "light"
     },
     "output_type": "display_data"
    }
   ],
   "source": [
    "fig, (ax0, ax1) = plt.subplots(1, 2, figsize=(20, 10))\n",
    "\n",
    "plot_confusion_matrix(melhor_modelo, x_val, y_val, ax=ax0, normalize='true')\n",
    "plot_confusion_matrix(melhor_modelo, x_val, y_val, ax=ax1)"
   ]
  },
  {
   "cell_type": "code",
   "execution_count": 87,
   "id": "eb7b5d00-0e97-4281-915e-9085e11ef25d",
   "metadata": {},
   "outputs": [],
   "source": [
    "(tn, fp), (fn, tp) = confusion_matrix(y_val, melhor_modelo.predict(x_val))"
   ]
  },
  {
   "cell_type": "code",
   "execution_count": 88,
   "id": "295084fe-b3c6-46e4-b978-498a6e4cd297",
   "metadata": {},
   "outputs": [
    {
     "name": "stdout",
     "output_type": "stream",
     "text": [
      "22 7 9 15\n"
     ]
    }
   ],
   "source": [
    "print(tn, fp, fn, tp)"
   ]
  },
  {
   "cell_type": "code",
   "execution_count": 90,
   "id": "7206aabf-fbf5-4005-9230-793ef64fe3bc",
   "metadata": {},
   "outputs": [
    {
     "data": {
      "image/png": "[encoded data removed]",
      "text/plain": [
       "<Figure size 1152x576 with 1 Axes>"
      ]
     },
     "metadata": {
      "needs_background": "light"
     },
     "output_type": "display_data"
    }
   ],
   "source": [
    "fig, ax = plt.subplots(figsize=(16,8))\n",
    "\n",
    "plot_roc_curve(melhor_modelo, x_val, y_val, ax = ax) \n",
    "plot_roc_curve(melhor_modelo, x_cv, y_cv, ax = ax) \n",
    "ax.plot([0, 1], [0, 1], color = \"red\", ls ='--')\n",
    "\n",
    "ax.set_xlim(0, 1)\n",
    "ax.set_ylim(0, 1)\n",
    "plt.show()"
   ]
  },
  {
   "cell_type": "code",
   "execution_count": null,
   "id": "5425bef0-61d1-4f2e-9446-43e766b05bc7",
   "metadata": {},
   "outputs": [],
   "source": []
  }
 ],
 "metadata": {
  "kernelspec": {
   "display_name": "Python 3",
   "language": "python",
   "name": "python3"
  },
  "language_info": {
   "codemirror_mode": {
    "name": "ipython",
    "version": 3
   },
   "file_extension": ".py",
   "mimetype": "text/x-python",
   "name": "python",
   "nbconvert_exporter": "python",
   "pygments_lexer": "ipython3",
   "version": "3.8.3"
  }
 },
 "nbformat": 4,
 "nbformat_minor": 5
}
