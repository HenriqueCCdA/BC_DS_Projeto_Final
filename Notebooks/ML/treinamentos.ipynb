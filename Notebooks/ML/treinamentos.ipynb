{
 "cells": [
  {
   "cell_type": "markdown",
   "id": "bcea904e",
   "metadata": {
    "colab_type": "text",
    "id": "view-in-github"
   },
   "source": [
    "<a href=\"https://colab.research.google.com/github/HenriqueCCdA/BC_DS_Projeto_Final/blob/main/Notebooks/ML/treinamentos.ipynb\" target=\"_parent\"><img src=\"https://colab.research.google.com/assets/colab-badge.svg\" alt=\"Open In Colab\"/></a>"
   ]
  },
  {
   "cell_type": "markdown",
   "id": "729ead8d-a792-42dd-b17d-e0c6147f04b6",
   "metadata": {
    "id": "729ead8d-a792-42dd-b17d-e0c6147f04b6"
   },
   "source": [
    "---\n",
    "# 1) Resumo\n",
    "\n",
    "Neste notebook foram feitos os treinamentos e seleção de hyperparamentros de 6 modelos de **ML** distintos. Os modelos estudados foram:\n",
    "\n",
    "* DummyClassifier\n",
    "* LogisticRegression\n",
    "* DecisionTreeClassifier\n",
    "* Forest Tree\n",
    "* Support Vector Machine\n",
    "* KNeighbors\n",
    "\n",
    "A busca pelos hyperparametros foram feitas pelo GridSearchCV ou pelo RandomizedSearchCV. Para a Cross Validation foi usado **RepeatedStratifiedKFold** com **5** divições de **10** repetições.\n",
    "\n",
    "O parametro utilizado para avaliação do modelo foi **ROC_AUC** e quantidade de **falsos negativos** (FN).\n",
    "\n",
    "A base de dados utilizados tem **351** amostras com **52** variaveis explicativas. Dessas **351** amostras **298** foram usados para **Cross Validation** (treino + teste) e **53** foram usados para a **validação**.\n"
   ]
  },
  {
   "cell_type": "markdown",
   "id": "a5d9b96c-14c8-452f-a67d-c79a8dc89bae",
   "metadata": {
    "id": "a5d9b96c-14c8-452f-a67d-c79a8dc89bae"
   },
   "source": [
    "---\n",
    "# 2) Pre-analise"
   ]
  },
  {
   "cell_type": "markdown",
   "id": "a5afd0ea-4605-4e70-9495-ffaeb798da15",
   "metadata": {
    "id": "a5afd0ea-4605-4e70-9495-ffaeb798da15"
   },
   "source": [
    "---\n",
    "## 2.1) Minhas Funções"
   ]
  },
  {
   "cell_type": "code",
   "execution_count": 18,
   "id": "9efa6442-e7c7-4eed-8f76-11a8cd264b05",
   "metadata": {
    "colab": {
     "base_uri": "https://localhost:8080/"
    },
    "id": "9efa6442-e7c7-4eed-8f76-11a8cd264b05",
    "outputId": "858fce6a-eb92-4400-a9a1-a6f10f7572f8"
   },
   "outputs": [],
   "source": [
    "# Maquina Local \n",
    "if(True):\n",
    "    import sys\n",
    "    sys.path.insert(1, \"../../\")\n",
    "\n",
    "    from src.plota_graficos import plota_curva_roc, plota_matriz_de_confusao\n",
    "    from src.ml import retorna_x_y, intervalo_de_confianca, treina_modelo_grid_search_cv, treina,\\\n",
    "                        treina_modelo_randomized_search_cv, obtem_os_resultados_SearchCV, cv_val_split, desempenho_dos_modelos \n",
    "\n",
    "    from src.info import proporcao_y, numero_teste_treino_val, resultados_treinamento, dimensao_dados, variaveis_explicativas\n",
    "\n",
    "# Collab\n",
    "else:\n",
    "   !curl -O \"https://raw.githubusercontent.com/HenriqueCCdA/BC_DS_Projeto_Final/main/requirements.txt\"\n",
    "   !pip3 install -r requirements.txt\n",
    "   !curl -O \"https://raw.githubusercontent.com/HenriqueCCdA/BC_DS_Projeto_Final/main/src/plota_graficos.py\"\n",
    "   !curl -O \"https://raw.githubusercontent.com/HenriqueCCdA/BC_DS_Projeto_Final/main/src/ml.py\"\n",
    "   !curl -O \"https://raw.githubusercontent.com/HenriqueCCdA/BC_DS_Projeto_Final/main/src/info.py\"\n",
    "\n",
    "   from plota_graficos import plota_curva_roc, plota_matriz_de_confusao\n",
    "   from ml import retorna_x_y, intervalo_de_confianca, treina_modelo_grid_search_cv, treina, \\\n",
    "                  treina_modelo_randomized_search_cv, obtem_os_resultados_SearchCV, cv_val_split, desempenho_dos_modelos\n",
    "\n",
    "   from info import proporcao_y, numero_teste_treino_val, resultados_treinamento, dimensao_dados, variaveis_explicativas"
   ]
  },
  {
   "cell_type": "markdown",
   "id": "cc6a59d1-224d-4ac0-bad1-72f8aed40c08",
   "metadata": {
    "id": "cc6a59d1-224d-4ac0-bad1-72f8aed40c08"
   },
   "source": [
    "---\n",
    "## 2.2) Importando libs"
   ]
  },
  {
   "cell_type": "code",
   "execution_count": 19,
   "id": "c35cc1e1-ceae-49dc-a432-23149a4ce80b",
   "metadata": {
    "id": "c35cc1e1-ceae-49dc-a432-23149a4ce80b"
   },
   "outputs": [],
   "source": [
    "import pandas as pd\n",
    "#\n",
    "from sklearn.dummy import DummyClassifier\n",
    "from sklearn.linear_model import LogisticRegression\n",
    "from sklearn.tree import DecisionTreeClassifier\n",
    "from sklearn.ensemble import RandomForestClassifier\n",
    "from sklearn.svm import SVC\n",
    "from sklearn.neighbors import KNeighborsClassifier\n",
    "#\n",
    "import matplotlib.pyplot as plt\n",
    "#\n",
    "import numpy as np\n",
    "#\n",
    "from scipy.stats import uniform"
   ]
  },
  {
   "cell_type": "markdown",
   "id": "KxPu0odIpb3n",
   "metadata": {
    "id": "KxPu0odIpb3n"
   },
   "source": [
    "## 2.3) Versão dos bibilotecas"
   ]
  },
  {
   "cell_type": "code",
   "execution_count": 20,
   "id": "NoRMOfN0nzDq",
   "metadata": {
    "colab": {
     "base_uri": "https://localhost:8080/"
    },
    "id": "NoRMOfN0nzDq",
    "outputId": "823e7b2e-4a08-42ef-df4e-459022461a01"
   },
   "outputs": [
    {
     "name": "stdout",
     "output_type": "stream",
     "text": [
      "scipy      : 1.6.2\n",
      "sklearn    : 0.24.2\n",
      "pandas     : 1.2.4\n",
      "numpy      : 1.20.2\n",
      "matplotlib : 3.3.4\n"
     ]
    }
   ],
   "source": [
    "import sklearn as sk\n",
    "import scipy   as sc\n",
    "import matplotlib as mpl\n",
    "\n",
    "print(f'scipy      : {sc.__version__}')\n",
    "print(f'sklearn    : {sk.__version__}')\n",
    "print(f'pandas     : {pd.__version__}')\n",
    "print(f'numpy      : {np.__version__}')\n",
    "print(f'matplotlib : {mpl.__version__}')"
   ]
  },
  {
   "cell_type": "markdown",
   "id": "1992dba9-5df7-4341-95a8-ffd8a02c25b0",
   "metadata": {
    "id": "1992dba9-5df7-4341-95a8-ffd8a02c25b0"
   },
   "source": [
    "---\n",
    "# 3) Lendo os dados"
   ]
  },
  {
   "cell_type": "code",
   "execution_count": 21,
   "id": "7962d1b2-719c-4338-824a-b331aaeb61ef",
   "metadata": {
    "colab": {
     "base_uri": "https://localhost:8080/",
     "height": 292
    },
    "id": "7962d1b2-719c-4338-824a-b331aaeb61ef",
    "outputId": "dfeab578-602c-4181-ab00-9e9b9c2ad943"
   },
   "outputs": [
    {
     "name": "stdout",
     "output_type": "stream",
     "text": [
      "Numero de linhas : 351 \n",
      "Numero de colunas: 53 \n"
     ]
    },
    {
     "data": {
      "text/html": [
       "<div>\n",
       "<style scoped>\n",
       "    .dataframe tbody tr th:only-of-type {\n",
       "        vertical-align: middle;\n",
       "    }\n",
       "\n",
       "    .dataframe tbody tr th {\n",
       "        vertical-align: top;\n",
       "    }\n",
       "\n",
       "    .dataframe thead th {\n",
       "        text-align: right;\n",
       "    }\n",
       "</style>\n",
       "<table border=\"1\" class=\"dataframe\">\n",
       "  <thead>\n",
       "    <tr style=\"text-align: right;\">\n",
       "      <th></th>\n",
       "      <th>AGE_ABOVE65</th>\n",
       "      <th>AGE_PERCENTIL</th>\n",
       "      <th>GENDER</th>\n",
       "      <th>DISEASE GROUPING 1</th>\n",
       "      <th>DISEASE GROUPING 2</th>\n",
       "      <th>DISEASE GROUPING 3</th>\n",
       "      <th>DISEASE GROUPING 4</th>\n",
       "      <th>DISEASE GROUPING 5</th>\n",
       "      <th>DISEASE GROUPING 6</th>\n",
       "      <th>HTN</th>\n",
       "      <th>...</th>\n",
       "      <th>UREA_MEDIAN</th>\n",
       "      <th>DIMER_MEDIAN</th>\n",
       "      <th>BLOODPRESSURE_DIASTOLIC_MEAN</th>\n",
       "      <th>BLOODPRESSURE_SISTOLIC_MEAN</th>\n",
       "      <th>HEART_RATE_MEAN</th>\n",
       "      <th>RESPIRATORY_RATE_MEAN</th>\n",
       "      <th>TEMPERATURE_MEAN</th>\n",
       "      <th>OXYGEN_SATURATION_MEAN</th>\n",
       "      <th>BLOODPRESSURE_DIASTOLIC_MAX</th>\n",
       "      <th>ICU</th>\n",
       "    </tr>\n",
       "  </thead>\n",
       "  <tbody>\n",
       "    <tr>\n",
       "      <th>346</th>\n",
       "      <td>0</td>\n",
       "      <td>-0.333333</td>\n",
       "      <td>1</td>\n",
       "      <td>0.0</td>\n",
       "      <td>0.0</td>\n",
       "      <td>0.0</td>\n",
       "      <td>0.0</td>\n",
       "      <td>0.0</td>\n",
       "      <td>0.0</td>\n",
       "      <td>0.0</td>\n",
       "      <td>...</td>\n",
       "      <td>-0.860241</td>\n",
       "      <td>-0.978029</td>\n",
       "      <td>-0.160494</td>\n",
       "      <td>-0.692308</td>\n",
       "      <td>0.339623</td>\n",
       "      <td>-0.457627</td>\n",
       "      <td>0.142857</td>\n",
       "      <td>0.736842</td>\n",
       "      <td>-0.418803</td>\n",
       "      <td>1</td>\n",
       "    </tr>\n",
       "    <tr>\n",
       "      <th>347</th>\n",
       "      <td>1</td>\n",
       "      <td>1.000000</td>\n",
       "      <td>0</td>\n",
       "      <td>0.0</td>\n",
       "      <td>0.0</td>\n",
       "      <td>0.0</td>\n",
       "      <td>0.0</td>\n",
       "      <td>0.0</td>\n",
       "      <td>0.0</td>\n",
       "      <td>0.0</td>\n",
       "      <td>...</td>\n",
       "      <td>-0.855422</td>\n",
       "      <td>-0.978029</td>\n",
       "      <td>-0.407407</td>\n",
       "      <td>-0.692308</td>\n",
       "      <td>-0.283019</td>\n",
       "      <td>-0.457627</td>\n",
       "      <td>-0.059524</td>\n",
       "      <td>0.526316</td>\n",
       "      <td>-0.589744</td>\n",
       "      <td>0</td>\n",
       "    </tr>\n",
       "    <tr>\n",
       "      <th>348</th>\n",
       "      <td>0</td>\n",
       "      <td>-0.111111</td>\n",
       "      <td>0</td>\n",
       "      <td>0.0</td>\n",
       "      <td>0.0</td>\n",
       "      <td>0.0</td>\n",
       "      <td>0.0</td>\n",
       "      <td>0.0</td>\n",
       "      <td>0.0</td>\n",
       "      <td>0.0</td>\n",
       "      <td>...</td>\n",
       "      <td>-0.787952</td>\n",
       "      <td>-0.964461</td>\n",
       "      <td>0.012346</td>\n",
       "      <td>-0.384615</td>\n",
       "      <td>-0.320755</td>\n",
       "      <td>-0.457627</td>\n",
       "      <td>-0.071429</td>\n",
       "      <td>0.894737</td>\n",
       "      <td>-0.299145</td>\n",
       "      <td>1</td>\n",
       "    </tr>\n",
       "    <tr>\n",
       "      <th>349</th>\n",
       "      <td>0</td>\n",
       "      <td>-0.333333</td>\n",
       "      <td>1</td>\n",
       "      <td>0.0</td>\n",
       "      <td>0.0</td>\n",
       "      <td>0.0</td>\n",
       "      <td>0.0</td>\n",
       "      <td>0.0</td>\n",
       "      <td>0.0</td>\n",
       "      <td>0.0</td>\n",
       "      <td>...</td>\n",
       "      <td>-0.937349</td>\n",
       "      <td>-0.978029</td>\n",
       "      <td>0.086420</td>\n",
       "      <td>-0.230769</td>\n",
       "      <td>-0.301887</td>\n",
       "      <td>-0.661017</td>\n",
       "      <td>-0.107143</td>\n",
       "      <td>0.736842</td>\n",
       "      <td>-0.247863</td>\n",
       "      <td>0</td>\n",
       "    </tr>\n",
       "    <tr>\n",
       "      <th>350</th>\n",
       "      <td>0</td>\n",
       "      <td>-0.111111</td>\n",
       "      <td>1</td>\n",
       "      <td>0.0</td>\n",
       "      <td>0.0</td>\n",
       "      <td>0.0</td>\n",
       "      <td>0.0</td>\n",
       "      <td>0.0</td>\n",
       "      <td>0.0</td>\n",
       "      <td>0.0</td>\n",
       "      <td>...</td>\n",
       "      <td>-0.879518</td>\n",
       "      <td>-0.979571</td>\n",
       "      <td>0.012346</td>\n",
       "      <td>-0.292308</td>\n",
       "      <td>0.056604</td>\n",
       "      <td>-0.525424</td>\n",
       "      <td>0.535714</td>\n",
       "      <td>0.789474</td>\n",
       "      <td>-0.299145</td>\n",
       "      <td>0</td>\n",
       "    </tr>\n",
       "  </tbody>\n",
       "</table>\n",
       "<p>5 rows × 53 columns</p>\n",
       "</div>"
      ],
      "text/plain": [
       "     AGE_ABOVE65  AGE_PERCENTIL  GENDER  DISEASE GROUPING 1  \\\n",
       "346            0      -0.333333       1                 0.0   \n",
       "347            1       1.000000       0                 0.0   \n",
       "348            0      -0.111111       0                 0.0   \n",
       "349            0      -0.333333       1                 0.0   \n",
       "350            0      -0.111111       1                 0.0   \n",
       "\n",
       "     DISEASE GROUPING 2  DISEASE GROUPING 3  DISEASE GROUPING 4  \\\n",
       "346                 0.0                 0.0                 0.0   \n",
       "347                 0.0                 0.0                 0.0   \n",
       "348                 0.0                 0.0                 0.0   \n",
       "349                 0.0                 0.0                 0.0   \n",
       "350                 0.0                 0.0                 0.0   \n",
       "\n",
       "     DISEASE GROUPING 5  DISEASE GROUPING 6  HTN  ...  UREA_MEDIAN  \\\n",
       "346                 0.0                 0.0  0.0  ...    -0.860241   \n",
       "347                 0.0                 0.0  0.0  ...    -0.855422   \n",
       "348                 0.0                 0.0  0.0  ...    -0.787952   \n",
       "349                 0.0                 0.0  0.0  ...    -0.937349   \n",
       "350                 0.0                 0.0  0.0  ...    -0.879518   \n",
       "\n",
       "     DIMER_MEDIAN  BLOODPRESSURE_DIASTOLIC_MEAN  BLOODPRESSURE_SISTOLIC_MEAN  \\\n",
       "346     -0.978029                     -0.160494                    -0.692308   \n",
       "347     -0.978029                     -0.407407                    -0.692308   \n",
       "348     -0.964461                      0.012346                    -0.384615   \n",
       "349     -0.978029                      0.086420                    -0.230769   \n",
       "350     -0.979571                      0.012346                    -0.292308   \n",
       "\n",
       "     HEART_RATE_MEAN  RESPIRATORY_RATE_MEAN  TEMPERATURE_MEAN  \\\n",
       "346         0.339623              -0.457627          0.142857   \n",
       "347        -0.283019              -0.457627         -0.059524   \n",
       "348        -0.320755              -0.457627         -0.071429   \n",
       "349        -0.301887              -0.661017         -0.107143   \n",
       "350         0.056604              -0.525424          0.535714   \n",
       "\n",
       "     OXYGEN_SATURATION_MEAN  BLOODPRESSURE_DIASTOLIC_MAX  ICU  \n",
       "346                0.736842                    -0.418803    1  \n",
       "347                0.526316                    -0.589744    0  \n",
       "348                0.894737                    -0.299145    1  \n",
       "349                0.736842                    -0.247863    0  \n",
       "350                0.789474                    -0.299145    0  \n",
       "\n",
       "[5 rows x 53 columns]"
      ]
     },
     "execution_count": 21,
     "metadata": {},
     "output_type": "execute_result"
    }
   ],
   "source": [
    "path = \"https://raw.githubusercontent.com/HenriqueCCdA/BC_DS_Projeto_Final/main/Dados/Tratados/dados_sem_coor_acima_do_valor_de_corte.csv\"\n",
    "\n",
    "dados_com_corte = pd.read_csv(path)\n",
    "\n",
    "dimensao_dados(dados_com_corte)\n",
    "\n",
    "dados_com_corte.tail(n=5)"
   ]
  },
  {
   "cell_type": "code",
   "execution_count": 22,
   "id": "154fb54e-d80d-49b4-adbd-27c5a715ca5f",
   "metadata": {
    "colab": {
     "base_uri": "https://localhost:8080/",
     "height": 351
    },
    "id": "154fb54e-d80d-49b4-adbd-27c5a715ca5f",
    "outputId": "404fcb0d-35d1-4fe6-d54e-9fda68bfe563"
   },
   "outputs": [
    {
     "data": {
      "text/html": [
       "<div>\n",
       "<style scoped>\n",
       "    .dataframe tbody tr th:only-of-type {\n",
       "        vertical-align: middle;\n",
       "    }\n",
       "\n",
       "    .dataframe tbody tr th {\n",
       "        vertical-align: top;\n",
       "    }\n",
       "\n",
       "    .dataframe thead th {\n",
       "        text-align: right;\n",
       "    }\n",
       "</style>\n",
       "<table border=\"1\" class=\"dataframe\">\n",
       "  <thead>\n",
       "    <tr style=\"text-align: right;\">\n",
       "      <th></th>\n",
       "      <th>AGE_ABOVE65</th>\n",
       "      <th>AGE_PERCENTIL</th>\n",
       "      <th>GENDER</th>\n",
       "      <th>DISEASE GROUPING 1</th>\n",
       "      <th>DISEASE GROUPING 2</th>\n",
       "      <th>DISEASE GROUPING 3</th>\n",
       "      <th>DISEASE GROUPING 4</th>\n",
       "      <th>DISEASE GROUPING 5</th>\n",
       "      <th>DISEASE GROUPING 6</th>\n",
       "      <th>HTN</th>\n",
       "      <th>...</th>\n",
       "      <th>UREA_MEDIAN</th>\n",
       "      <th>DIMER_MEDIAN</th>\n",
       "      <th>BLOODPRESSURE_DIASTOLIC_MEAN</th>\n",
       "      <th>BLOODPRESSURE_SISTOLIC_MEAN</th>\n",
       "      <th>HEART_RATE_MEAN</th>\n",
       "      <th>RESPIRATORY_RATE_MEAN</th>\n",
       "      <th>TEMPERATURE_MEAN</th>\n",
       "      <th>OXYGEN_SATURATION_MEAN</th>\n",
       "      <th>BLOODPRESSURE_DIASTOLIC_MAX</th>\n",
       "      <th>ICU</th>\n",
       "    </tr>\n",
       "  </thead>\n",
       "  <tbody>\n",
       "    <tr>\n",
       "      <th>count</th>\n",
       "      <td>351.000000</td>\n",
       "      <td>351.000000</td>\n",
       "      <td>351.000000</td>\n",
       "      <td>351.000000</td>\n",
       "      <td>351.000000</td>\n",
       "      <td>351.000000</td>\n",
       "      <td>351.000000</td>\n",
       "      <td>351.000000</td>\n",
       "      <td>351.000000</td>\n",
       "      <td>351.000000</td>\n",
       "      <td>...</td>\n",
       "      <td>351.000000</td>\n",
       "      <td>351.000000</td>\n",
       "      <td>351.000000</td>\n",
       "      <td>351.000000</td>\n",
       "      <td>351.000000</td>\n",
       "      <td>351.000000</td>\n",
       "      <td>351.000000</td>\n",
       "      <td>351.000000</td>\n",
       "      <td>351.000000</td>\n",
       "      <td>351.000000</td>\n",
       "    </tr>\n",
       "    <tr>\n",
       "      <th>mean</th>\n",
       "      <td>0.458689</td>\n",
       "      <td>-0.046534</td>\n",
       "      <td>0.381766</td>\n",
       "      <td>0.108262</td>\n",
       "      <td>0.022792</td>\n",
       "      <td>0.091168</td>\n",
       "      <td>0.019943</td>\n",
       "      <td>0.128205</td>\n",
       "      <td>0.045584</td>\n",
       "      <td>0.196581</td>\n",
       "      <td>...</td>\n",
       "      <td>-0.841746</td>\n",
       "      <td>-0.960159</td>\n",
       "      <td>-0.045990</td>\n",
       "      <td>-0.318411</td>\n",
       "      <td>-0.240403</td>\n",
       "      <td>-0.468207</td>\n",
       "      <td>0.097772</td>\n",
       "      <td>0.760029</td>\n",
       "      <td>-0.313074</td>\n",
       "      <td>0.461538</td>\n",
       "    </tr>\n",
       "    <tr>\n",
       "      <th>std</th>\n",
       "      <td>0.499002</td>\n",
       "      <td>0.640366</td>\n",
       "      <td>0.486513</td>\n",
       "      <td>0.311155</td>\n",
       "      <td>0.149453</td>\n",
       "      <td>0.288259</td>\n",
       "      <td>0.140004</td>\n",
       "      <td>0.334795</td>\n",
       "      <td>0.208879</td>\n",
       "      <td>0.397980</td>\n",
       "      <td>...</td>\n",
       "      <td>0.135197</td>\n",
       "      <td>0.098682</td>\n",
       "      <td>0.253692</td>\n",
       "      <td>0.274796</td>\n",
       "      <td>0.278347</td>\n",
       "      <td>0.213326</td>\n",
       "      <td>0.272230</td>\n",
       "      <td>0.116880</td>\n",
       "      <td>0.185592</td>\n",
       "      <td>0.499230</td>\n",
       "    </tr>\n",
       "    <tr>\n",
       "      <th>min</th>\n",
       "      <td>0.000000</td>\n",
       "      <td>-1.000000</td>\n",
       "      <td>0.000000</td>\n",
       "      <td>0.000000</td>\n",
       "      <td>0.000000</td>\n",
       "      <td>0.000000</td>\n",
       "      <td>0.000000</td>\n",
       "      <td>0.000000</td>\n",
       "      <td>0.000000</td>\n",
       "      <td>0.000000</td>\n",
       "      <td>...</td>\n",
       "      <td>-0.971084</td>\n",
       "      <td>-1.000000</td>\n",
       "      <td>-0.654321</td>\n",
       "      <td>-0.938462</td>\n",
       "      <td>-0.823899</td>\n",
       "      <td>-0.954802</td>\n",
       "      <td>-0.571429</td>\n",
       "      <td>0.263158</td>\n",
       "      <td>-0.760684</td>\n",
       "      <td>0.000000</td>\n",
       "    </tr>\n",
       "    <tr>\n",
       "      <th>25%</th>\n",
       "      <td>0.000000</td>\n",
       "      <td>-0.555556</td>\n",
       "      <td>0.000000</td>\n",
       "      <td>0.000000</td>\n",
       "      <td>0.000000</td>\n",
       "      <td>0.000000</td>\n",
       "      <td>0.000000</td>\n",
       "      <td>0.000000</td>\n",
       "      <td>0.000000</td>\n",
       "      <td>0.000000</td>\n",
       "      <td>...</td>\n",
       "      <td>-0.898795</td>\n",
       "      <td>-0.983811</td>\n",
       "      <td>-0.185185</td>\n",
       "      <td>-0.538462</td>\n",
       "      <td>-0.415094</td>\n",
       "      <td>-0.593220</td>\n",
       "      <td>-0.107143</td>\n",
       "      <td>0.684211</td>\n",
       "      <td>-0.418803</td>\n",
       "      <td>0.000000</td>\n",
       "    </tr>\n",
       "    <tr>\n",
       "      <th>50%</th>\n",
       "      <td>0.000000</td>\n",
       "      <td>-0.111111</td>\n",
       "      <td>0.000000</td>\n",
       "      <td>0.000000</td>\n",
       "      <td>0.000000</td>\n",
       "      <td>0.000000</td>\n",
       "      <td>0.000000</td>\n",
       "      <td>0.000000</td>\n",
       "      <td>0.000000</td>\n",
       "      <td>0.000000</td>\n",
       "      <td>...</td>\n",
       "      <td>-0.874699</td>\n",
       "      <td>-0.978029</td>\n",
       "      <td>-0.037037</td>\n",
       "      <td>-0.369231</td>\n",
       "      <td>-0.283019</td>\n",
       "      <td>-0.525424</td>\n",
       "      <td>0.071429</td>\n",
       "      <td>0.789474</td>\n",
       "      <td>-0.299145</td>\n",
       "      <td>0.000000</td>\n",
       "    </tr>\n",
       "    <tr>\n",
       "      <th>75%</th>\n",
       "      <td>1.000000</td>\n",
       "      <td>0.555556</td>\n",
       "      <td>1.000000</td>\n",
       "      <td>0.000000</td>\n",
       "      <td>0.000000</td>\n",
       "      <td>0.000000</td>\n",
       "      <td>0.000000</td>\n",
       "      <td>0.000000</td>\n",
       "      <td>0.000000</td>\n",
       "      <td>0.000000</td>\n",
       "      <td>...</td>\n",
       "      <td>-0.821687</td>\n",
       "      <td>-0.971784</td>\n",
       "      <td>0.086420</td>\n",
       "      <td>-0.153846</td>\n",
       "      <td>-0.094340</td>\n",
       "      <td>-0.389831</td>\n",
       "      <td>0.250000</td>\n",
       "      <td>0.842105</td>\n",
       "      <td>-0.213675</td>\n",
       "      <td>1.000000</td>\n",
       "    </tr>\n",
       "    <tr>\n",
       "      <th>max</th>\n",
       "      <td>1.000000</td>\n",
       "      <td>1.000000</td>\n",
       "      <td>1.000000</td>\n",
       "      <td>1.000000</td>\n",
       "      <td>1.000000</td>\n",
       "      <td>1.000000</td>\n",
       "      <td>1.000000</td>\n",
       "      <td>1.000000</td>\n",
       "      <td>1.000000</td>\n",
       "      <td>1.000000</td>\n",
       "      <td>...</td>\n",
       "      <td>1.000000</td>\n",
       "      <td>0.513241</td>\n",
       "      <td>0.604938</td>\n",
       "      <td>0.553846</td>\n",
       "      <td>1.000000</td>\n",
       "      <td>0.830508</td>\n",
       "      <td>0.964286</td>\n",
       "      <td>1.000000</td>\n",
       "      <td>0.487179</td>\n",
       "      <td>1.000000</td>\n",
       "    </tr>\n",
       "  </tbody>\n",
       "</table>\n",
       "<p>8 rows × 53 columns</p>\n",
       "</div>"
      ],
      "text/plain": [
       "       AGE_ABOVE65  AGE_PERCENTIL      GENDER  DISEASE GROUPING 1  \\\n",
       "count   351.000000     351.000000  351.000000          351.000000   \n",
       "mean      0.458689      -0.046534    0.381766            0.108262   \n",
       "std       0.499002       0.640366    0.486513            0.311155   \n",
       "min       0.000000      -1.000000    0.000000            0.000000   \n",
       "25%       0.000000      -0.555556    0.000000            0.000000   \n",
       "50%       0.000000      -0.111111    0.000000            0.000000   \n",
       "75%       1.000000       0.555556    1.000000            0.000000   \n",
       "max       1.000000       1.000000    1.000000            1.000000   \n",
       "\n",
       "       DISEASE GROUPING 2  DISEASE GROUPING 3  DISEASE GROUPING 4  \\\n",
       "count          351.000000          351.000000          351.000000   \n",
       "mean             0.022792            0.091168            0.019943   \n",
       "std              0.149453            0.288259            0.140004   \n",
       "min              0.000000            0.000000            0.000000   \n",
       "25%              0.000000            0.000000            0.000000   \n",
       "50%              0.000000            0.000000            0.000000   \n",
       "75%              0.000000            0.000000            0.000000   \n",
       "max              1.000000            1.000000            1.000000   \n",
       "\n",
       "       DISEASE GROUPING 5  DISEASE GROUPING 6         HTN  ...  UREA_MEDIAN  \\\n",
       "count          351.000000          351.000000  351.000000  ...   351.000000   \n",
       "mean             0.128205            0.045584    0.196581  ...    -0.841746   \n",
       "std              0.334795            0.208879    0.397980  ...     0.135197   \n",
       "min              0.000000            0.000000    0.000000  ...    -0.971084   \n",
       "25%              0.000000            0.000000    0.000000  ...    -0.898795   \n",
       "50%              0.000000            0.000000    0.000000  ...    -0.874699   \n",
       "75%              0.000000            0.000000    0.000000  ...    -0.821687   \n",
       "max              1.000000            1.000000    1.000000  ...     1.000000   \n",
       "\n",
       "       DIMER_MEDIAN  BLOODPRESSURE_DIASTOLIC_MEAN  \\\n",
       "count    351.000000                    351.000000   \n",
       "mean      -0.960159                     -0.045990   \n",
       "std        0.098682                      0.253692   \n",
       "min       -1.000000                     -0.654321   \n",
       "25%       -0.983811                     -0.185185   \n",
       "50%       -0.978029                     -0.037037   \n",
       "75%       -0.971784                      0.086420   \n",
       "max        0.513241                      0.604938   \n",
       "\n",
       "       BLOODPRESSURE_SISTOLIC_MEAN  HEART_RATE_MEAN  RESPIRATORY_RATE_MEAN  \\\n",
       "count                   351.000000       351.000000             351.000000   \n",
       "mean                     -0.318411        -0.240403              -0.468207   \n",
       "std                       0.274796         0.278347               0.213326   \n",
       "min                      -0.938462        -0.823899              -0.954802   \n",
       "25%                      -0.538462        -0.415094              -0.593220   \n",
       "50%                      -0.369231        -0.283019              -0.525424   \n",
       "75%                      -0.153846        -0.094340              -0.389831   \n",
       "max                       0.553846         1.000000               0.830508   \n",
       "\n",
       "       TEMPERATURE_MEAN  OXYGEN_SATURATION_MEAN  BLOODPRESSURE_DIASTOLIC_MAX  \\\n",
       "count        351.000000              351.000000                   351.000000   \n",
       "mean           0.097772                0.760029                    -0.313074   \n",
       "std            0.272230                0.116880                     0.185592   \n",
       "min           -0.571429                0.263158                    -0.760684   \n",
       "25%           -0.107143                0.684211                    -0.418803   \n",
       "50%            0.071429                0.789474                    -0.299145   \n",
       "75%            0.250000                0.842105                    -0.213675   \n",
       "max            0.964286                1.000000                     0.487179   \n",
       "\n",
       "              ICU  \n",
       "count  351.000000  \n",
       "mean     0.461538  \n",
       "std      0.499230  \n",
       "min      0.000000  \n",
       "25%      0.000000  \n",
       "50%      0.000000  \n",
       "75%      1.000000  \n",
       "max      1.000000  \n",
       "\n",
       "[8 rows x 53 columns]"
      ]
     },
     "execution_count": 22,
     "metadata": {},
     "output_type": "execute_result"
    }
   ],
   "source": [
    "dados_com_corte.describe()"
   ]
  },
  {
   "cell_type": "code",
   "execution_count": 23,
   "id": "mDdHVcgTt_UX",
   "metadata": {
    "colab": {
     "base_uri": "https://localhost:8080/"
    },
    "id": "mDdHVcgTt_UX",
    "outputId": "a13ee765-0dc1-4ce8-aa94-9043aff326ea"
   },
   "outputs": [
    {
     "name": "stdout",
     "output_type": "stream",
     "text": [
      " col[  0] -> AGE_ABOVE65                    col[  1] -> AGE_PERCENTIL                  \n",
      " col[  2] -> GENDER                         col[  3] -> DISEASE GROUPING 1             \n",
      " col[  4] -> DISEASE GROUPING 2             col[  5] -> DISEASE GROUPING 3             \n",
      " col[  6] -> DISEASE GROUPING 4             col[  7] -> DISEASE GROUPING 5             \n",
      " col[  8] -> DISEASE GROUPING 6             col[  9] -> HTN                            \n",
      " col[ 10] -> IMMUNOCOMPROMISED              col[ 11] -> OTHER                          \n",
      " col[ 12] -> ALBUMIN_MEDIAN                 col[ 13] -> BE_ARTERIAL_MEDIAN             \n",
      " col[ 14] -> BE_VENOUS_MEDIAN               col[ 15] -> BIC_VENOUS_MEDIAN              \n",
      " col[ 16] -> BILLIRUBIN_MEDIAN              col[ 17] -> BLAST_MEDIAN                   \n",
      " col[ 18] -> CALCIUM_MEDIAN                 col[ 19] -> CREATININ_MEDIAN               \n",
      " col[ 20] -> FFA_MEDIAN                     col[ 21] -> GGT_MEDIAN                     \n",
      " col[ 22] -> GLUCOSE_MEDIAN                 col[ 23] -> HEMATOCRITE_MEDIAN             \n",
      " col[ 24] -> INR_MEDIAN                     col[ 25] -> LACTATE_MEDIAN                 \n",
      " col[ 26] -> LEUKOCYTES_MEDIAN              col[ 27] -> LINFOCITOS_MEDIAN              \n",
      " col[ 28] -> P02_ARTERIAL_MEDIAN            col[ 29] -> P02_VENOUS_MEDIAN              \n",
      " col[ 30] -> PC02_ARTERIAL_MEDIAN           col[ 31] -> PC02_VENOUS_MEDIAN             \n",
      " col[ 32] -> PCR_MEDIAN                     col[ 33] -> PH_ARTERIAL_MEDIAN             \n",
      " col[ 34] -> PH_VENOUS_MEDIAN               col[ 35] -> PLATELETS_MEDIAN               \n",
      " col[ 36] -> POTASSIUM_MEDIAN               col[ 37] -> SAT02_ARTERIAL_MEDIAN          \n",
      " col[ 38] -> SAT02_VENOUS_MEDIAN            col[ 39] -> SODIUM_MEDIAN                  \n",
      " col[ 40] -> TGO_MEDIAN                     col[ 41] -> TGP_MEDIAN                     \n",
      " col[ 42] -> TTPA_MEDIAN                    col[ 43] -> UREA_MEDIAN                    \n",
      " col[ 44] -> DIMER_MEDIAN                   col[ 45] -> BLOODPRESSURE_DIASTOLIC_MEAN   \n",
      " col[ 46] -> BLOODPRESSURE_SISTOLIC_MEAN    col[ 47] -> HEART_RATE_MEAN                \n",
      " col[ 48] -> RESPIRATORY_RATE_MEAN          col[ 49] -> TEMPERATURE_MEAN               \n",
      " col[ 50] -> OXYGEN_SATURATION_MEAN         col[ 51] -> BLOODPRESSURE_DIASTOLIC_MAX    \n",
      " "
     ]
    }
   ],
   "source": [
    "_ = variaveis_explicativas(dados_com_corte)"
   ]
  },
  {
   "cell_type": "markdown",
   "id": "e19b581a-4a86-4cb5-bdcd-157cc9408629",
   "metadata": {
    "id": "e19b581a-4a86-4cb5-bdcd-157cc9408629"
   },
   "source": [
    "### Divindido os dados em validação e Cross Valadiation (teste+treino)"
   ]
  },
  {
   "cell_type": "code",
   "execution_count": 24,
   "id": "30038072-89c4-47c8-85c6-7047ad8f6885",
   "metadata": {
    "id": "30038072-89c4-47c8-85c6-7047ad8f6885"
   },
   "outputs": [],
   "source": [
    "x_cv, x_val, y_cv, y_val = cv_val_split(dados_com_corte, p_val = .15, seed = 14715)"
   ]
  },
  {
   "cell_type": "markdown",
   "id": "c6b96702-2243-4021-93e6-8dc8c34ce588",
   "metadata": {
    "id": "c6b96702-2243-4021-93e6-8dc8c34ce588"
   },
   "source": [
    "### Verificando se a proporção foi mantida "
   ]
  },
  {
   "cell_type": "code",
   "execution_count": 25,
   "id": "2079349a-da64-47d0-a7ce-727efdbb03e6",
   "metadata": {
    "colab": {
     "base_uri": "https://localhost:8080/"
    },
    "id": "2079349a-da64-47d0-a7ce-727efdbb03e6",
    "outputId": "5de55353-9713-4c70-82c8-6195d17798ed"
   },
   "outputs": [
    {
     "name": "stdout",
     "output_type": "stream",
     "text": [
      "Proporcao do ICU\n",
      "Campo 0 ->  53.85%\n",
      "Campo 1 ->  46.15%\n",
      "Proporcao do ICU\n",
      "Campo 0 ->  54.72%\n",
      "Campo 1 ->  45.28%\n",
      "Proporcao do ICU\n",
      "Campo 0 ->  53.69%\n",
      "Campo 1 ->  46.31%\n"
     ]
    }
   ],
   "source": [
    "proporcao_y(dados_com_corte['ICU'])\n",
    "proporcao_y(y_val)\n",
    "proporcao_y(y_cv )"
   ]
  },
  {
   "cell_type": "code",
   "execution_count": 26,
   "id": "389ab115-eb65-43b7-86bf-6210af565034",
   "metadata": {
    "colab": {
     "base_uri": "https://localhost:8080/"
    },
    "id": "389ab115-eb65-43b7-86bf-6210af565034",
    "outputId": "4b65f693-22b2-4a4e-999b-16f3216c41c4"
   },
   "outputs": [
    {
     "name": "stdout",
     "output_type": "stream",
     "text": [
      "Número total de entradas                         : 351\n",
      "Número total de entradas para validacao          : 53\n",
      "Número total de entradas para o Cross Validation : 298\n"
     ]
    }
   ],
   "source": [
    "numero_teste_treino_val(dados_com_corte['ICU'], y_val, y_cv)"
   ]
  },
  {
   "cell_type": "markdown",
   "id": "9991a84d-bfb5-42fe-99cf-f746d5f73b2b",
   "metadata": {
    "id": "9991a84d-bfb5-42fe-99cf-f746d5f73b2b"
   },
   "source": [
    "# 4) Modelo de ML\n",
    "\n",
    "A opção **refit** foi deixado como **true** logo depois que o melhor modelo for selecioando o RandomizedSearchCV/GridSearchCv **re-treina** esse modelo com o dataset completo (treino+teste). "
   ]
  },
  {
   "cell_type": "code",
   "execution_count": 27,
   "id": "4d2eb584-de1f-4e46-89cb-7b00102ca220",
   "metadata": {
    "id": "4d2eb584-de1f-4e46-89cb-7b00102ca220"
   },
   "outputs": [],
   "source": [
    "n_iter   = 20\n",
    "n_splits = 5\n",
    "n_repeats= 10\n",
    "seed     = 14715"
   ]
  },
  {
   "cell_type": "markdown",
   "id": "74916be5-4f12-41fa-b13f-3e28bc43f857",
   "metadata": {
    "id": "74916be5-4f12-41fa-b13f-3e28bc43f857"
   },
   "source": [
    "## 4.1) DummyClassifier\n",
    "\n",
    "> Aqui será treinado do modelo **DummyClassifier**. Para o treino foi usado **GridSearchCV**. O único hyperparametro disponivel foi **strategy**. O intervalor de busca  **[stratified, 'ost_frequent, prior, 'uniform]**. O DummyClassifier será usado como o nosso modelo **\"baseline\"**\n",
    "\n"
   ]
  },
  {
   "cell_type": "code",
   "execution_count": 28,
   "id": "17a329cb-5fad-48a4-9a18-e62020e86f85",
   "metadata": {
    "colab": {
     "base_uri": "https://localhost:8080/",
     "height": 224
    },
    "id": "17a329cb-5fad-48a4-9a18-e62020e86f85",
    "outputId": "88fc88db-b958-47f3-b13d-2881d9612dc0"
   },
   "outputs": [
    {
     "name": "stdout",
     "output_type": "stream",
     "text": [
      "Fitting 50 folds for each of 4 candidates, totalling 200 fits\n",
      "melhores hyperparametros : {'strategy': 'stratified'}\n",
      "Melhor modelo            : DummyClassifier(random_state=14715, strategy='stratified')\n"
     ]
    },
    {
     "data": {
      "text/html": [
       "<div>\n",
       "<style scoped>\n",
       "    .dataframe tbody tr th:only-of-type {\n",
       "        vertical-align: middle;\n",
       "    }\n",
       "\n",
       "    .dataframe tbody tr th {\n",
       "        vertical-align: top;\n",
       "    }\n",
       "\n",
       "    .dataframe thead th {\n",
       "        text-align: right;\n",
       "    }\n",
       "</style>\n",
       "<table border=\"1\" class=\"dataframe\">\n",
       "  <thead>\n",
       "    <tr style=\"text-align: right;\">\n",
       "      <th></th>\n",
       "      <th>paramentros</th>\n",
       "      <th>media_teste</th>\n",
       "      <th>media_treino</th>\n",
       "      <th>std_teste</th>\n",
       "      <th>std_treino</th>\n",
       "      <th>mean_fit_time</th>\n",
       "      <th>std_fit_time</th>\n",
       "      <th>mean_score_time</th>\n",
       "      <th>std_score_time</th>\n",
       "      <th>rank_test_score</th>\n",
       "    </tr>\n",
       "  </thead>\n",
       "  <tbody>\n",
       "    <tr>\n",
       "      <th>0</th>\n",
       "      <td>{'strategy': 'stratified'}</td>\n",
       "      <td>0.50332</td>\n",
       "      <td>0.501305</td>\n",
       "      <td>0.066405</td>\n",
       "      <td>0.024165</td>\n",
       "      <td>0.001939</td>\n",
       "      <td>0.001138</td>\n",
       "      <td>0.003458</td>\n",
       "      <td>0.001539</td>\n",
       "      <td>1</td>\n",
       "    </tr>\n",
       "    <tr>\n",
       "      <th>1</th>\n",
       "      <td>{'strategy': 'most_frequent'}</td>\n",
       "      <td>0.50000</td>\n",
       "      <td>0.500000</td>\n",
       "      <td>0.000000</td>\n",
       "      <td>0.000000</td>\n",
       "      <td>0.001959</td>\n",
       "      <td>0.000999</td>\n",
       "      <td>0.002978</td>\n",
       "      <td>0.001516</td>\n",
       "      <td>2</td>\n",
       "    </tr>\n",
       "    <tr>\n",
       "      <th>2</th>\n",
       "      <td>{'strategy': 'prior'}</td>\n",
       "      <td>0.50000</td>\n",
       "      <td>0.500000</td>\n",
       "      <td>0.000000</td>\n",
       "      <td>0.000000</td>\n",
       "      <td>0.002318</td>\n",
       "      <td>0.001701</td>\n",
       "      <td>0.003758</td>\n",
       "      <td>0.002112</td>\n",
       "      <td>2</td>\n",
       "    </tr>\n",
       "    <tr>\n",
       "      <th>3</th>\n",
       "      <td>{'strategy': 'uniform'}</td>\n",
       "      <td>0.50000</td>\n",
       "      <td>0.500000</td>\n",
       "      <td>0.000000</td>\n",
       "      <td>0.000000</td>\n",
       "      <td>0.001619</td>\n",
       "      <td>0.000660</td>\n",
       "      <td>0.003058</td>\n",
       "      <td>0.001653</td>\n",
       "      <td>2</td>\n",
       "    </tr>\n",
       "  </tbody>\n",
       "</table>\n",
       "</div>"
      ],
      "text/plain": [
       "                     paramentros  media_teste  media_treino  std_teste  \\\n",
       "0     {'strategy': 'stratified'}      0.50332      0.501305   0.066405   \n",
       "1  {'strategy': 'most_frequent'}      0.50000      0.500000   0.000000   \n",
       "2          {'strategy': 'prior'}      0.50000      0.500000   0.000000   \n",
       "3        {'strategy': 'uniform'}      0.50000      0.500000   0.000000   \n",
       "\n",
       "   std_treino  mean_fit_time  std_fit_time  mean_score_time  std_score_time  \\\n",
       "0    0.024165       0.001939      0.001138         0.003458        0.001539   \n",
       "1    0.000000       0.001959      0.000999         0.002978        0.001516   \n",
       "2    0.000000       0.002318      0.001701         0.003758        0.002112   \n",
       "3    0.000000       0.001619      0.000660         0.003058        0.001653   \n",
       "\n",
       "   rank_test_score  \n",
       "0                1  \n",
       "1                2  \n",
       "2                2  \n",
       "3                2  "
      ]
     },
     "execution_count": 28,
     "metadata": {},
     "output_type": "execute_result"
    }
   ],
   "source": [
    "modelo = DummyClassifier(random_state=seed)\n",
    "\n",
    "parameters = {'strategy' : ['stratified', 'most_frequent', 'prior', 'uniform']}\n",
    "\n",
    "resultados, melhor_modelo_dummy, melhores_hyperparametros  = treina_modelo_grid_search_cv(modelo,\n",
    "                                                                                      x_cv,\n",
    "                                                                                      y_cv,\n",
    "                                                                                      parameters,\n",
    "                                                                                      n_splits=n_splits,\n",
    "                                                                                      n_repeats=n_repeats,\n",
    "                                                                                      seed=seed)\n",
    "\n",
    "resultados_treinamento(resultados, melhor_modelo_dummy, melhores_hyperparametros)"
   ]
  },
  {
   "cell_type": "markdown",
   "id": "fa8c2060-a9de-4131-958b-3628f0e971cb",
   "metadata": {
    "id": "fa8c2060-a9de-4131-958b-3628f0e971cb"
   },
   "source": [
    "---\n",
    "## 4.2) Regreção logistica\n",
    "\n",
    "> Aqui será treinado do modelo **LogisticRegression**. No treino foi usado **RandomizedSearchCV** com **50** iterações. Os hyperparametros foram:\n",
    ">* C             : [0, 4]\n"
   ]
  },
  {
   "cell_type": "code",
   "execution_count": null,
   "id": "30fe7aeb-105c-4969-99f3-ca707f75a6cb",
   "metadata": {
    "colab": {
     "base_uri": "https://localhost:8080/",
     "height": 1000
    },
    "id": "30fe7aeb-105c-4969-99f3-ca707f75a6cb",
    "outputId": "15818f12-8e39-4ccf-de89-1b62ab6e8bfe"
   },
   "outputs": [
    {
     "name": "stdout",
     "output_type": "stream",
     "text": [
      "Fitting 50 folds for each of 20 candidates, totalling 1000 fits\n"
     ]
    }
   ],
   "source": [
    "parameters = {'C': uniform(loc=0, scale=4)}\n",
    "modelo = LogisticRegression(max_iter=1000, tol=1e-6)\n",
    "\n",
    "melhor_modelo_lr, res = treina(modelo = modelo,\n",
    "                        x = x_cv, \n",
    "                        y = y_cv, \n",
    "                        parameters = parameters, \n",
    "                        n_splits = n_splits, \n",
    "                        n_repeats = n_repeats, \n",
    "                        n_iter = n_iter, \n",
    "                        seed = seed, \n",
    "                        titulo = 'Seleção de Hyperparametros - LogisticRegression',\n",
    "                        n = 20)\n",
    "\n",
    "res"
   ]
  },
  {
   "cell_type": "markdown",
   "id": "b7aa9d16-1642-42f7-9ef2-2bab3f706533",
   "metadata": {
    "id": "b7aa9d16-1642-42f7-9ef2-2bab3f706533"
   },
   "source": [
    "---\n",
    "## 4.3) Arvore de decissão\n",
    "\n",
    "> Aqui será treinado do modelo **DecisionTreeClassifier**. No treino foi usado **RandomizedSearchCV** com **50** iterações. Os hyperparametros foram:\n",
    ">* max_depth       : [1-20]\n",
    ">* criterion       : [gini, entropy]\n",
    ">* min_samples_leaf: [1-5]\n",
    ">* max_leaf_nodes  : [2-5]\n"
   ]
  },
  {
   "cell_type": "code",
   "execution_count": null,
   "id": "a1c67dfd-f979-4ae8-bc5c-235e5fa1f47a",
   "metadata": {
    "colab": {
     "base_uri": "https://localhost:8080/",
     "height": 1000
    },
    "id": "a1c67dfd-f979-4ae8-bc5c-235e5fa1f47a",
    "outputId": "16f941a1-0a7c-4ce7-d415-4a17b8f8f792"
   },
   "outputs": [],
   "source": [
    "parameters = {'max_depth'       : np.arange(1, 21),\n",
    "              'criterion'       : ['gini', 'entropy'],\n",
    "              'min_samples_leaf': np.arange(1, 6),\n",
    "              'max_leaf_nodes'  : np.arange(2, 6)\n",
    "             }\n",
    "modelo = DecisionTreeClassifier()\n",
    "\n",
    "melhor_modelo_arvore, res = treina(modelo = modelo,\n",
    "                            x = x_cv, \n",
    "                            y = y_cv, \n",
    "                            parameters = parameters, \n",
    "                            n_splits = n_splits, \n",
    "                            n_repeats = n_repeats, \n",
    "                            n_iter = n_iter, \n",
    "                            seed = seed, \n",
    "                            titulo = 'Seleção de Hyperparametros - DecisionTree',\n",
    "                            n = 20)\n",
    "\n",
    "res"
   ]
  },
  {
   "cell_type": "markdown",
   "id": "9666e5bb-6e9b-4bbc-8b30-542e194403db",
   "metadata": {
    "id": "9666e5bb-6e9b-4bbc-8b30-542e194403db"
   },
   "source": [
    "---\n",
    "## 4.4) Forest Tree\n",
    "\n",
    "> Aqui será treinado do modelo **Forest Tree**. No treino foi usado **RandomizedSearchCV** com **10** iterações. Os hyperparametros foram:\n",
    ">* n_estimators    : [10, 50, 100, 150, 200]\n",
    ">* max_depth       : [1, 20]    \n",
    ">* criterion       : [gini, entropy]\n",
    ">* min_samples_leaf: [1-5]\n",
    ">* max_leaf_nodes  : [2-5]\n"
   ]
  },
  {
   "cell_type": "code",
   "execution_count": null,
   "id": "26113cc8-ebc9-4899-a584-6247bc77344e",
   "metadata": {
    "colab": {
     "base_uri": "https://localhost:8080/",
     "height": 1000
    },
    "id": "26113cc8-ebc9-4899-a584-6247bc77344e",
    "outputId": "4f634db1-e0e2-45b8-ac51-bdc641028821"
   },
   "outputs": [],
   "source": [
    "parameters = {'n_estimators'    : [10, 50, 100, 150, 200],\n",
    "              'max_depth'       : np.arange(1, 21),\n",
    "              'criterion'       : ['gini', 'entropy'],\n",
    "              'min_samples_leaf': np.arange(1, 6),\n",
    "              'max_leaf_nodes'  : np.arange(2, 6)\n",
    "             }\n",
    "modelo = RandomForestClassifier(random_state=0)\n",
    "\n",
    "melhor_modelo_forest, res = treina(modelo = modelo,\n",
    "                              x = x_cv, \n",
    "                              y = y_cv, \n",
    "                              parameters = parameters, \n",
    "                              n_splits = n_splits, \n",
    "                              n_repeats = n_repeats, \n",
    "                              n_iter = n_iter, \n",
    "                              seed = seed, \n",
    "                              titulo = 'Seleção de Hyperparametros - RandomForest',\n",
    "                              n = 20)\n",
    "\n",
    "res"
   ]
  },
  {
   "cell_type": "markdown",
   "id": "wSljFBzwtGjz",
   "metadata": {
    "id": "wSljFBzwtGjz"
   },
   "source": [
    "> "
   ]
  },
  {
   "cell_type": "markdown",
   "id": "5a2ef1d0-6a05-4436-bb0f-01d146bed7c1",
   "metadata": {
    "id": "5a2ef1d0-6a05-4436-bb0f-01d146bed7c1"
   },
   "source": [
    "## 4.5) Support Vector Classification.\n",
    "\n",
    "> Aqui será treinado do modelo **SVC**. No treino foi usado **RandomizedSearchCV** com **50** iterações. Os hyperparametros de busca foram\n",
    ">* kernel        : [linear, poly, rbf, sigmoid]\n",
    ">* C             : [0, 2]\n",
    ">* gamma         : [scale, auto]\n",
    ">* shrinking     : [True , False]"
   ]
  },
  {
   "cell_type": "code",
   "execution_count": null,
   "id": "251601e5-c0b6-435e-986a-7637bf9d1690",
   "metadata": {
    "colab": {
     "base_uri": "https://localhost:8080/",
     "height": 1000
    },
    "id": "251601e5-c0b6-435e-986a-7637bf9d1690",
    "outputId": "92520ad2-99fa-42ba-b3bc-78a1c97df75f"
   },
   "outputs": [],
   "source": [
    "parameters = {'kernel'          : ['linear', 'poly', 'rbf', 'sigmoid'],\n",
    "              'C'               : uniform(loc=0, scale=2),\n",
    "              'gamma'           : ['scale', 'auto'],\n",
    "              'shrinking'       : [True, False]\n",
    "             }\n",
    "\n",
    "modelo = SVC(probability=True)\n",
    "\n",
    "melhor_modelo_svc, res = treina(modelo = modelo,\n",
    "                              x = x_cv, \n",
    "                              y = y_cv, \n",
    "                              parameters = parameters, \n",
    "                              n_splits = n_splits, \n",
    "                              n_repeats = n_repeats, \n",
    "                              n_iter = n_iter, \n",
    "                              seed = seed, \n",
    "                              titulo = 'Seleção de Hyperparametros - SVC',\n",
    "                              n = 20)\n",
    "\n",
    "res"
   ]
  },
  {
   "cell_type": "markdown",
   "id": "e9c356f1-2abb-49bc-a1ee-8ea4fd318a90",
   "metadata": {
    "id": "e9c356f1-2abb-49bc-a1ee-8ea4fd318a90"
   },
   "source": [
    "## 4.5) KNeighbors\n",
    "\n",
    "> Aqui será treinado do modelo **KNeighbor**. No treino foi usado **RandomizedSearchCV** com **50** iterações. Os hyperparametros de busca foram\n",
    ">* n_neighbors   : [1, 10]\n",
    ">* p             : [1, 2]\n",
    ">* weights       : [uniform, distance]\n",
    ">* algorithm     : [auto, ball_tree, kd_tree, brute]"
   ]
  },
  {
   "cell_type": "code",
   "execution_count": null,
   "id": "1d04e9cb-518b-4718-b6af-5beaeb4ced43",
   "metadata": {
    "colab": {
     "base_uri": "https://localhost:8080/",
     "height": 1000
    },
    "id": "1d04e9cb-518b-4718-b6af-5beaeb4ced43",
    "outputId": "1c3c38c7-e051-46b1-c488-3ee004dab626"
   },
   "outputs": [],
   "source": [
    "parameters = {'n_neighbors'     : np.arange(1, 11),\n",
    "              'p'               : [1, 2],\n",
    "              'weights'         : ['uniform', 'distance'],\n",
    "              'algorithm'       : ['auto', 'ball_tree', 'kd_tree', 'brute']\n",
    "             }\n",
    "\n",
    "modelo = KNeighborsClassifier()\n",
    "\n",
    "melhor_modelo_kn, res = treina(modelo = modelo,\n",
    "                              x = x_cv, \n",
    "                              y = y_cv, \n",
    "                              parameters = parameters, \n",
    "                              n_splits = n_splits, \n",
    "                              n_repeats = n_repeats, \n",
    "                              n_iter = n_iter, \n",
    "                              seed = seed, \n",
    "                              titulo = 'Seleção de Hyperparametros - KNeighborsClassifier',\n",
    "                              n = 20)\n",
    "\n",
    "res\n"
   ]
  },
  {
   "cell_type": "markdown",
   "id": "aef917a4-d5cc-4939-b9c6-bee502366258",
   "metadata": {
    "id": "aef917a4-d5cc-4939-b9c6-bee502366258"
   },
   "source": [
    "# 5) Avaliando o melhor modelo\n",
    "\n",
    "> Agora vamos avaliar o melhor modelo encontrado utilizando o dados de validação."
   ]
  },
  {
   "cell_type": "code",
   "execution_count": null,
   "id": "3VvRPCmG7Z_s",
   "metadata": {
    "id": "3VvRPCmG7Z_s"
   },
   "outputs": [],
   "source": [
    "modelos = [melhor_modelo_dummy, \n",
    "           melhor_modelo_lr, \n",
    "           melhor_modelo_arvore, \n",
    "           melhor_modelo_forest, \n",
    "           melhor_modelo_svc,\n",
    "           melhor_modelo_kn] "
   ]
  },
  {
   "cell_type": "code",
   "execution_count": null,
   "id": "wjLdTllE9nOl",
   "metadata": {
    "colab": {
     "base_uri": "https://localhost:8080/",
     "height": 235
    },
    "id": "wjLdTllE9nOl",
    "outputId": "62fb69d5-2946-4aea-ae1c-bb0d9896e8ba"
   },
   "outputs": [],
   "source": [
    "desempenho_dos_modelos(modelos, x_val, y_val)"
   ]
  },
  {
   "cell_type": "code",
   "execution_count": null,
   "id": "a4b33e29-dcd1-4045-86a5-9992bc25f4ce",
   "metadata": {
    "colab": {
     "base_uri": "https://localhost:8080/",
     "height": 580
    },
    "id": "a4b33e29-dcd1-4045-86a5-9992bc25f4ce",
    "outputId": "f9dea52a-353e-4033-de2e-6b666b0c00e5"
   },
   "outputs": [],
   "source": [
    "plota_matriz_de_confusao(modelos, x_val, y_val)"
   ]
  },
  {
   "cell_type": "code",
   "execution_count": null,
   "id": "28331cc0-398b-4af0-bd20-af30bed52e0e",
   "metadata": {
    "colab": {
     "base_uri": "https://localhost:8080/",
     "height": 523
    },
    "id": "28331cc0-398b-4af0-bd20-af30bed52e0e",
    "outputId": "2a6bc5d3-6d6f-4153-c41d-c43017c4edf5"
   },
   "outputs": [],
   "source": [
    "plota_curva_roc(modelos, titulo='Curva ROC nos dados de Validação', x=x_val, y=y_val)"
   ]
  },
  {
   "cell_type": "code",
   "execution_count": null,
   "id": "a56ad286-7df4-4b68-8cec-48f2e165ed11",
   "metadata": {
    "colab": {
     "base_uri": "https://localhost:8080/",
     "height": 523
    },
    "id": "a56ad286-7df4-4b68-8cec-48f2e165ed11",
    "outputId": "0cfd088f-a401-4f7e-e5e6-4d41ceb2e9a4"
   },
   "outputs": [],
   "source": [
    "plota_curva_roc(modelos, titulo='Curva ROC nos dados de Treino-Teste', x=x_cv, y=y_cv)"
   ]
  },
  {
   "cell_type": "code",
   "execution_count": null,
   "id": "5a3fb403-ba34-44fc-a7d3-f13df99fecd0",
   "metadata": {},
   "outputs": [],
   "source": []
  }
 ],
 "metadata": {
  "colab": {
   "include_colab_link": true,
   "name": "treinamentos.ipynb",
   "provenance": []
  },
  "kernelspec": {
   "display_name": "Python 3",
   "language": "python",
   "name": "python3"
  },
  "language_info": {
   "codemirror_mode": {
    "name": "ipython",
    "version": 3
   },
   "file_extension": ".py",
   "mimetype": "text/x-python",
   "name": "python",
   "nbconvert_exporter": "python",
   "pygments_lexer": "ipython3",
   "version": "3.8.3"
  }
 },
 "nbformat": 4,
 "nbformat_minor": 5
}
